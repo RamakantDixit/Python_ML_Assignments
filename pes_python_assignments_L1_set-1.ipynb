{
 "cells": [
  {
   "cell_type": "markdown",
   "metadata": {},
   "source": [
    "### Sl. No 1, Topic- Python program Basics "
   ]
  },
  {
   "cell_type": "markdown",
   "metadata": {},
   "source": [
    "#### Program Assignment- Write a program to Add, Subtract, Multiply, and Divide 2 numbers"
   ]
  },
  {
   "cell_type": "code",
   "execution_count": 1,
   "metadata": {},
   "outputs": [
    {
     "name": "stdout",
     "output_type": "stream",
     "text": [
      "Addition of 20 and 10 is = 30\n",
      "Subtraction of 20 and 10 is = 10\n",
      "Multiplication of 20 and 10 is = 200\n",
      "Division of 20 and 10 is = 2\n"
     ]
    }
   ],
   "source": [
    "def arithmetic_operation(x,y):\n",
    "    print(\"Addition of {0} and {1} is = {2}\".format(x,y,(x+y)))\n",
    "    print(\"Subtraction of {0} and {1} is = {2}\".format(x,y,(x-y)))\n",
    "    print(\"Multiplication of {0} and {1} is = {2}\".format(x,y,(x*y)))\n",
    "    print(\"Division of {0} and {1} is = {2}\".format(x,y,(x//y)))\n",
    "    \n",
    "arithmetic_operation(20,10)"
   ]
  },
  {
   "cell_type": "markdown",
   "metadata": {},
   "source": [
    "### Sl no 2, Topic- Basic Operators "
   ]
  },
  {
   "cell_type": "markdown",
   "metadata": {},
   "source": [
    "#### Write a program to find the biggest of 3 numbers (Use If Condition)"
   ]
  },
  {
   "cell_type": "code",
   "execution_count": 2,
   "metadata": {},
   "outputs": [
    {
     "name": "stdout",
     "output_type": "stream",
     "text": [
      "6 is biggest number\n"
     ]
    }
   ],
   "source": [
    "def Find_Bigger(num1,num2,num3):\n",
    "    if num1>num2:\n",
    "        if num1>num3:\n",
    "            print(\"{0} is biggest number\".format(num1))\n",
    "        else:\n",
    "            print(\"{0} is biggest number\".format(num3))\n",
    "    else:\n",
    "        if num2>num3:\n",
    "            print(\"{0} is biggest number\".format(num2))\n",
    "        else:\n",
    "            print(\"{0} is biggest number\".format(num3))\n",
    "    \n",
    "Find_Bigger(4,2,6)"
   ]
  },
  {
   "cell_type": "markdown",
   "metadata": {},
   "source": [
    "### Sl no 3, Topic- Basic Operators"
   ]
  },
  {
   "cell_type": "markdown",
   "metadata": {},
   "source": [
    "#### Write a program to find given number is odd or Even"
   ]
  },
  {
   "cell_type": "code",
   "execution_count": 3,
   "metadata": {},
   "outputs": [
    {
     "name": "stdout",
     "output_type": "stream",
     "text": [
      "25 is odd number\n"
     ]
    }
   ],
   "source": [
    "def Find_Even_Odd(num1):\n",
    "    if num1%2==0:\n",
    "        print(\"{0} is even number\".format(num1))\n",
    "    else:\n",
    "        print(\"{0} is odd number\".format(num1))\n",
    "\n",
    "Find_Even_Odd(25)"
   ]
  },
  {
   "cell_type": "markdown",
   "metadata": {},
   "source": [
    "### Sl no 4, Topic- Basic Operators"
   ]
  },
  {
   "cell_type": "markdown",
   "metadata": {},
   "source": [
    "#### Write a program to find the number is Prime or not."
   ]
  },
  {
   "cell_type": "code",
   "execution_count": 4,
   "metadata": {},
   "outputs": [
    {
     "name": "stdout",
     "output_type": "stream",
     "text": [
      "17  is a prime number\n"
     ]
    }
   ],
   "source": [
    "def Find_Prime(num):\n",
    "    flag=0\n",
    "    if num > 1:\n",
    "        for i in range(2, num//2):\n",
    "            if (num % i) == 0:\n",
    "                flag=1\n",
    "                break\n",
    "\n",
    "    if flag==0:\n",
    "        print(num, \" is a prime number\")\n",
    "    else:\n",
    "        print(num, \" is not a prime number\")\n",
    "\n",
    "            \n",
    "Find_Prime(17)"
   ]
  },
  {
   "cell_type": "markdown",
   "metadata": {},
   "source": [
    "### Sl no 5, Topic- Command line Arguments "
   ]
  },
  {
   "cell_type": "markdown",
   "metadata": {},
   "source": [
    "#### Write a program to receive 5 command line arguments and print each argument separately.\n",
    "a) From the above statement your program should receive arguments and print them each of them.\n",
    "\n",
    "b) Find the biggest of three numbers, where three numbers are passed as command line arguments.\n"
   ]
  },
  {
   "cell_type": "code",
   "execution_count": null,
   "metadata": {
    "collapsed": true
   },
   "outputs": [],
   "source": [
    "from sys import argv\n",
    "print(\"First argument ={0}\".format(argv[1]))\n",
    "print(\"Second argument ={0}\".format(argv[2]))\n",
    "print(\"Third argument ={0}\".format(argv[3]))\n",
    "print(\"Fourth argument ={0}\".format(argv[4]))\n",
    "print(\"fifth argument ={0}\".format(argv[5]))\n",
    "\n",
    "def Find_Bigger(num1,num2,num3):\n",
    "    if num1>num2:\n",
    "        if num1>num3:\n",
    "            print(\"{0} is biggest number\".format(num1))\n",
    "        else:\n",
    "            print(\"{0} is biggest number\".format(num3))\n",
    "    else:\n",
    "        if num2>num3:\n",
    "            print(\"{0} is biggest number\".format(num2))\n",
    "        else:\n",
    "            print(\"{0} is biggest number\".format(num3))\n",
    "    \n",
    "Find_Bigger(argv[1],argv[2],argv[3])"
   ]
  },
  {
   "cell_type": "markdown",
   "metadata": {},
   "source": [
    "### Sl no 6, Topic- Basic String operations"
   ]
  },
  {
   "cell_type": "markdown",
   "metadata": {},
   "source": [
    "#### Write a program to read string and print each character separately.\n",
    "    a) Slice the string using slice operator [:] slice the portion the strings to create a sub strings.\n",
    "    b) Repeat the string 100 times using repeat operator *\n",
    "    c) Read string 2 and concatenate with other string using + operator.\n",
    " "
   ]
  },
  {
   "cell_type": "code",
   "execution_count": 3,
   "metadata": {},
   "outputs": [
    {
     "name": "stdout",
     "output_type": "stream",
     "text": [
      "string characters-\n",
      "R\n",
      "a\n",
      "m\n",
      "a\n",
      "k\n",
      "a\n",
      "n\n",
      "t\n",
      " \n",
      "D\n",
      "i\n",
      "x\n",
      "i\n",
      "t\n",
      "sub string is = Dixit\n",
      "Repeat the string 100 = Ramakant DixitRamakant DixitRamakant DixitRamakant DixitRamakant DixitRamakant DixitRamakant DixitRamakant DixitRamakant DixitRamakant DixitRamakant DixitRamakant DixitRamakant DixitRamakant DixitRamakant DixitRamakant DixitRamakant DixitRamakant DixitRamakant DixitRamakant DixitRamakant DixitRamakant DixitRamakant DixitRamakant DixitRamakant DixitRamakant DixitRamakant DixitRamakant DixitRamakant DixitRamakant DixitRamakant DixitRamakant DixitRamakant DixitRamakant DixitRamakant DixitRamakant DixitRamakant DixitRamakant DixitRamakant DixitRamakant DixitRamakant DixitRamakant DixitRamakant DixitRamakant DixitRamakant DixitRamakant DixitRamakant DixitRamakant DixitRamakant DixitRamakant DixitRamakant DixitRamakant DixitRamakant DixitRamakant DixitRamakant DixitRamakant DixitRamakant DixitRamakant DixitRamakant DixitRamakant DixitRamakant DixitRamakant DixitRamakant DixitRamakant DixitRamakant DixitRamakant DixitRamakant DixitRamakant DixitRamakant DixitRamakant DixitRamakant DixitRamakant DixitRamakant DixitRamakant DixitRamakant DixitRamakant DixitRamakant DixitRamakant DixitRamakant DixitRamakant DixitRamakant DixitRamakant DixitRamakant DixitRamakant DixitRamakant DixitRamakant DixitRamakant DixitRamakant DixitRamakant DixitRamakant DixitRamakant DixitRamakant DixitRamakant DixitRamakant DixitRamakant DixitRamakant DixitRamakant DixitRamakant DixitRamakant DixitRamakant Dixit\n",
      "string concatenation= Dixit Wipro\n"
     ]
    }
   ],
   "source": [
    "str=\"Ramakant Dixit\"\n",
    "print(\"string characters-\")\n",
    "for s in str:\n",
    "    print(s)\n",
    "    \n",
    "#a) create sub string\n",
    "str2 =str[9:len(str)]\n",
    "print(\"sub string is =\",str2)\n",
    "\n",
    "#b) Repeat the string 100 \n",
    "print(\"Repeat the string 100 =\",str*100)\n",
    "\n",
    "#c) concatenate  string\n",
    "str3=\"Wipro\"\n",
    "print(\"string concatenation=\",str2+' '+str3)           "
   ]
  },
  {
   "cell_type": "markdown",
   "metadata": {},
   "source": [
    "### Sl no 7, Topic-Basic LIST Operations"
   ]
  },
  {
   "cell_type": "markdown",
   "metadata": {},
   "source": [
    "### Create a list with at least 10 elements having integer values in it;\n",
    "       Print all elements\n",
    "       Perform slicing operations\n",
    "       Perform repetition with * operator\n",
    "       Perform concatenation with other list.\n"
   ]
  },
  {
   "cell_type": "code",
   "execution_count": 4,
   "metadata": {},
   "outputs": [
    {
     "name": "stdout",
     "output_type": "stream",
     "text": [
      "10\n",
      "34\n",
      "22\n",
      "67\n",
      "89\n",
      "3\n",
      "5\n",
      "99\n",
      "63\n",
      "21\n",
      "88\n",
      "700\n",
      "43\n",
      "65\n",
      "slicing operations=  [67, 89, 3, 5, 99]\n",
      "repetition with * operator=  [10, 34, 22, 67, 89, 3, 5, 99, 63, 21, 88, 700, 43, 65, 10, 34, 22, 67, 89, 3, 5, 99, 63, 21, 88, 700, 43, 65, 10, 34, 22, 67, 89, 3, 5, 99, 63, 21, 88, 700, 43, 65, 10, 34, 22, 67, 89, 3, 5, 99, 63, 21, 88, 700, 43, 65, 10, 34, 22, 67, 89, 3, 5, 99, 63, 21, 88, 700, 43, 65, 10, 34, 22, 67, 89, 3, 5, 99, 63, 21, 88, 700, 43, 65, 10, 34, 22, 67, 89, 3, 5, 99, 63, 21, 88, 700, 43, 65, 10, 34, 22, 67, 89, 3, 5, 99, 63, 21, 88, 700, 43, 65, 10, 34, 22, 67, 89, 3, 5, 99, 63, 21, 88, 700, 43, 65, 10, 34, 22, 67, 89, 3, 5, 99, 63, 21, 88, 700, 43, 65]\n",
      "list concatenation =  [10, 34, 22, 67, 89, 3, 5, 99, 63, 21, 88, 700, 43, 65, 5001, 5002, 5003]\n"
     ]
    }
   ],
   "source": [
    "first_list=[10,34,22,67,89,3,5,99,63,21,88,700,43,65]       \n",
    "for l in first_list:\n",
    "    print(l)\n",
    "print(\"slicing operations= \",first_list[3:8])\n",
    "print(\"repetition with * operator= \", first_list*10)\n",
    "second_list=[5001,5002,5003]\n",
    "print(\"list concatenation = \",first_list+second_list)"
   ]
  }
 ],
 "metadata": {
  "kernelspec": {
   "display_name": "Python 3",
   "language": "python",
   "name": "python3"
  },
  "language_info": {
   "codemirror_mode": {
    "name": "ipython",
    "version": 3
   },
   "file_extension": ".py",
   "mimetype": "text/x-python",
   "name": "python",
   "nbconvert_exporter": "python",
   "pygments_lexer": "ipython3",
   "version": "3.6.3"
  }
 },
 "nbformat": 4,
 "nbformat_minor": 2
}
