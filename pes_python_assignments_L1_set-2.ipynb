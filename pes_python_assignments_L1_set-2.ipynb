{
 "cells": [
  {
   "cell_type": "markdown",
   "metadata": {},
   "source": [
    "### Sl no 21, Topic-Math and Random Modules"
   ]
  },
  {
   "cell_type": "markdown",
   "metadata": {},
   "source": [
    "#### Using the built-in functions on Numbers perform following operations\n",
    "a) Round of the given floating point number. Example:  n=0.543 then round it next decimal number, i.e n=1.0 Use round() function\n",
    "b) Find out the square root of a given number. (Use sqrt(x) function)\n",
    "c) Generate random number between 0, and 1 ( use  random() function)\n",
    "d) Generate random number between 10 and  500. (Use uniform() function)\n",
    "e) Explore all Math and Random module functions  on a given number/ List.\n"
   ]
  },
  {
   "cell_type": "code",
   "execution_count": 1,
   "metadata": {},
   "outputs": [
    {
     "name": "stdout",
     "output_type": "stream",
     "text": [
      "Please enter number= 12\n",
      "Round number for the entered number=  12\n",
      "square root of the number is=  3.4641016151377544\n",
      "random number from 0 to 1=  0.7227707751654171\n",
      "random number from 10 to 500=  474.53632592071006\n",
      "e\n",
      "[65, 43, 67, 23, 45, 12]\n",
      "12\n",
      "12\n",
      "12.0\n",
      "15511210043330985984000000\n"
     ]
    }
   ],
   "source": [
    "import math\n",
    "import random\n",
    "num=eval(input(\"Please enter number= \"))\n",
    "\n",
    "print(\"Round number for the entered number= \",round(num))\n",
    "print(\"square root of the number is= \",math.sqrt(num))\n",
    "print(\"random number from 0 to 1= \",random.random())\n",
    "print(\"random number from 10 to 500= \",random.uniform(10,500))\n",
    "print(random.choice('computer'))\n",
    "\n",
    "numbers=[12,23,45,67,65,43]\n",
    "random.shuffle(numbers)\n",
    "print(numbers)\n",
    "print (math.ceil(num))\n",
    "print (math.floor(num))\n",
    "print (math.fabs(num))\n",
    "print (math.factorial(25))"
   ]
  },
  {
   "cell_type": "markdown",
   "metadata": {},
   "source": [
    "### Sl no 22, Topic-Math- Trigonometric functions"
   ]
  },
  {
   "cell_type": "markdown",
   "metadata": {},
   "source": [
    "#### Read the value x and y from the user and apply all trigonometric functions on these numbers. Note: Refer the tutorial Trigonometric operation table. "
   ]
  },
  {
   "cell_type": "code",
   "execution_count": 4,
   "metadata": {},
   "outputs": [
    {
     "name": "stdout",
     "output_type": "stream",
     "text": [
      "Enter the number= 12\n",
      "cosine of the number 12 is= 0.8438539587324921\n",
      "sine of the number 12 is= -0.5365729180004349\n",
      "tan of the number 12 is= -0.6358599286615808\n",
      "are tan of the number 12 is= 1.4876550949064553\n"
     ]
    }
   ],
   "source": [
    "import math\n",
    "num = eval(input(\"Enter the number= \"))\n",
    "print(\"cosine of the number {0} is= {1}\".format(num,math.cos(num)))\n",
    "print(\"sine of the number {0} is= {1}\".format(num,math.sin(num)))\n",
    "print(\"tan of the number {0} is= {1}\".format(num,math.tan(num)))\n",
    "print(\"are tan of the number {0} is= {1}\".format(num,math.atan(num)))"
   ]
  },
  {
   "cell_type": "markdown",
   "metadata": {},
   "source": [
    "### Sl no 23,Topic-Math – math.pi application"
   ]
  },
  {
   "cell_type": "markdown",
   "metadata": {},
   "source": [
    "#### Find the area of Circle given that radius of a circle. (Use pi value from Math module as mathematical constant)"
   ]
  },
  {
   "cell_type": "code",
   "execution_count": 5,
   "metadata": {},
   "outputs": [
    {
     "name": "stdout",
     "output_type": "stream",
     "text": [
      "Enter the radius= 6\n",
      "Area of the circel is=  113.09733552923255\n"
     ]
    }
   ],
   "source": [
    "import math\n",
    "num = eval(input(\"Enter the radius= \"))\n",
    "pi=math.pi\n",
    "print(\"Area of the circel is= \",pi*num**2)"
   ]
  },
  {
   "cell_type": "markdown",
   "metadata": {},
   "source": [
    "### Sl no 24, Topic-Strings"
   ]
  },
  {
   "cell_type": "markdown",
   "metadata": {},
   "source": [
    "#### Special Characters: Write program to explore all Escape characters specified in Tutorial (Under String chapter) "
   ]
  },
  {
   "cell_type": "code",
   "execution_count": 6,
   "metadata": {},
   "outputs": [
    {
     "name": "stdout",
     "output_type": "stream",
     "text": [
      "Backslash= \\\n",
      "single-quote= '\n",
      "double quote= \"\n",
      "ASCII bell= \u0007\n",
      "ASCII backspace =ab\bc\n",
      "ASCII formfeed= hello\f",
      "world\n",
      "ASCII carriage return (CR) 123456\r",
      "XX_XX\n",
      "ASCII horizontal tab \t* hello\n",
      "16-bit hex value Unicode character= Л\n"
     ]
    }
   ],
   "source": [
    "print(\"Backslash= \\\\\")\n",
    "print(\"single-quote= \\'\")\n",
    "print(\"double quote= \\\"\")\n",
    "print(\"ASCII bell= \\a\")\n",
    "print(\"ASCII backspace =\"+\"ab\" + \"\\b\" + \"c\")\n",
    "print(\"ASCII formfeed= hello\\fworld\")\n",
    "print(\"ASCII carriage return (CR) 123456\\rXX_XX\")\n",
    "print(\"ASCII horizontal tab \\t* hello\")\n",
    "print(\"16-bit hex value Unicode character= \\u041b\")"
   ]
  },
  {
   "cell_type": "markdown",
   "metadata": {},
   "source": [
    "### Sl no 25, Topic-Strings "
   ]
  },
  {
   "cell_type": "markdown",
   "metadata": {},
   "source": [
    "#### Write a program to print the different data types (Numbers, strings characters) using the Format symbols (Refer to different format symbols specified in Tutorial) "
   ]
  },
  {
   "cell_type": "code",
   "execution_count": 9,
   "metadata": {},
   "outputs": [
    {
     "name": "stdout",
     "output_type": "stream",
     "text": [
      "Hello Mike your age is 34\n",
      "list values are=[23, 2, 5, 6]\n",
      "your body temperature is 98.24\n",
      "a\n"
     ]
    }
   ],
   "source": [
    "name=\"Mike\"\n",
    "age=34\n",
    "print(\"Hello %s your age is %d\" % (name,age))\n",
    "list=[23,2,5,6]\n",
    "print(\"list values are=%s\"%list)\n",
    "tem=98.2367\n",
    "print(\"your body temperature is %.2f\"%tem)\n",
    "str='a'\n",
    "print(\"%c\"%str)"
   ]
  },
  {
   "cell_type": "markdown",
   "metadata": {},
   "source": [
    "### Sl no 26,Topic-Strings"
   ]
  },
  {
   "cell_type": "markdown",
   "metadata": {},
   "source": [
    "#### Receive the encoded string from your friend & decode it to check the original message. PS: You will receive Encoded string and the Algorithm used for encoding. "
   ]
  },
  {
   "cell_type": "code",
   "execution_count": 2,
   "metadata": {},
   "outputs": [
    {
     "name": "stdout",
     "output_type": "stream",
     "text": [
      "b'Enter encoded text='b'SGVsbG8=\\n'\n",
      "Please enter the algorithm= 'base64'\n",
      "Origional Text is=b'Hello'\n"
     ]
    }
   ],
   "source": [
    "import codecs\n",
    "\n",
    "#original=b\"Hello\"\n",
    "\n",
    "#encoded2 = codecs.encode(original, 'base64') #base64,bz2,hex,uu,zip\n",
    "#b'SGVsbG8=\\n'\n",
    "encoded=eval(input(b\"Enter encoded text=\"))\n",
    "encoded=bytes(encoded)\n",
    "Algorithm =eval(input(\"Please enter the algorithm= \"))\n",
    "originalmsg=codecs.decode(encoded,Algorithm)\n",
    "print(\"Origional Text is=%s\"%originalmsg)"
   ]
  },
  {
   "cell_type": "markdown",
   "metadata": {},
   "source": [
    "### Sl no 27,Topic-Strings "
   ]
  },
  {
   "cell_type": "markdown",
   "metadata": {},
   "source": [
    "#### Write a program to check given string is Palindrome or not.That is reverse the given string and check whether it is same as original string, if so then it is palindrome.\n",
    "Example: String = \"malayalam\"  reverse string = \"malayalam\" hence given string is palindrome. Use built functions to check given string is palindrome or not.\n",
    " "
   ]
  },
  {
   "cell_type": "code",
   "execution_count": 3,
   "metadata": {},
   "outputs": [
    {
     "name": "stdout",
     "output_type": "stream",
     "text": [
      "Please enter a string= \"malayalam\"\n",
      "entered string is a palindrome \n"
     ]
    }
   ],
   "source": [
    "str=input(\"Please enter a string= \")\n",
    "if str==str[::-1]:\n",
    "    print(\"entered string is a palindrome \")\n",
    "else:\n",
    "    print(\"entered string is not a palindrome \")"
   ]
  },
  {
   "cell_type": "markdown",
   "metadata": {},
   "source": [
    "### Sl no 28,Topic-Strings"
   ]
  },
  {
   "cell_type": "markdown",
   "metadata": {},
   "source": [
    "#### Write a program to check how many ovals present in the given string.That is, count the number of \" a e i o u\" in the given string and print the numbers against each oval.Example:- \"This is Python\" Number of total ovals = 3, i = 2, o =1"
   ]
  },
  {
   "cell_type": "code",
   "execution_count": 4,
   "metadata": {},
   "outputs": [
    {
     "name": "stdout",
     "output_type": "stream",
     "text": [
      "Please enter the string= \"This is Python\"\n",
      "total number of vowels are= 3\n",
      "i-2\n",
      "o-1\n"
     ]
    }
   ],
   "source": [
    "str=eval(input(\"Please enter the string= \"))\n",
    "str=str.lower()\n",
    "vowel_dict={'a':0,'e':0,'i':0,'o':0,'u':0}\n",
    "for s in str:\n",
    "    for key in vowel_dict.keys():\n",
    "        if s==key:\n",
    "            value=vowel_dict.get(key)+1\n",
    "            dict1={key:value}\n",
    "            vowel_dict.update(dict1)\n",
    "            \n",
    "print(\"total number of vowels are= {0}\".format(sum(vowel_dict.values())))\n",
    "for (key,values) in vowel_dict.items():\n",
    "    if values>0:\n",
    "        print(\"{0}-{1}\".format(key,values))"
   ]
  },
  {
   "cell_type": "markdown",
   "metadata": {},
   "source": [
    "### Sl no 29,Topic-Strings\n"
   ]
  },
  {
   "cell_type": "markdown",
   "metadata": {},
   "source": [
    "#### Apply all built in functions on Strings in your program. Note:There are 40 string functions. Use Tutorial for the help.Note: Each program should have 5 string built in functions(so write 8 programs to cover all string functions)"
   ]
  },
  {
   "cell_type": "code",
   "execution_count": 5,
   "metadata": {},
   "outputs": [
    {
     "name": "stdout",
     "output_type": "stream",
     "text": [
      "Hello, welcome to wipro\n",
      "hello welcome to wipro\n",
      "2\n",
      "True\n",
      "8\n",
      "For only 500.00 rupees!\n",
      "4\n",
      "True\n",
      "False\n",
      "True\n",
      "True\n",
      "False\n",
      "True\n",
      "True\n",
      "False\n",
      "True\n",
      " #B#a#n#g#a#l#o#r#e\n",
      "Bangalore            is my favorite place\n",
      "hello, and welcome to my wipro\n",
      "HELLO, AND WELCOME TO MY WIPRO  \n",
      "('I could eat ', 'bananas', ' all day')\n",
      "I like apples\n",
      "30\n",
      "30\n",
      "           Bangalore is my favorite place\n",
      "['apple', 'wipro', 'microsoft']\n",
      "of all fruits      banana is my favorite\n",
      "['welcome', 'to', 'the', 'wipro']\n",
      "['Thank you for the music', 'Welcome to the bangalore']\n",
      "True\n",
      "it city bangalore is my home town\n",
      "hELLO mY nAME iS raMaKaNt\n",
      "THIS IS MY HOME TOWN\n",
      "b'this is my home town'\n",
      "H e l l o\n",
      "0000000050\n"
     ]
    }
   ],
   "source": [
    "#String functions 1-8\n",
    "\n",
    "# function 1- capitalize ; Converts the first character to upper case.\n",
    "str=\"hello, welcome to wipro\"\n",
    "print(str.capitalize())\n",
    "\n",
    "#function 2- casefold ; Converts string into lower case\n",
    "str=\"HELLO WELCOME TO WIPRO\"\n",
    "print(str.casefold())\n",
    "\n",
    "#function 3- count;Returns the number of times a specified value occurs in a string\n",
    "str = \"I love apples, apple are my favorite fruit\"\n",
    "print(str.count(\"apple\"))\n",
    "\n",
    "#function 4- endswith ; Returns true if the string ends with the specified value\n",
    "print(str.endswith(\"fruit\"))\n",
    "\n",
    "#function 5- find ; Searches the string for a specified value and returns the position of where it was found\n",
    "print(str.find(\"p\"))\n",
    "\n",
    "#function 6- format; Formats specified values in a string\n",
    "str = \"For only {fare:.2f} rupees!\"\n",
    "print(str.format(fare = 500))\n",
    "\n",
    "#function 7- index; Searches the string for a specified value and returns the position of where it was found\n",
    "print(str.index(\"only\"))\n",
    "\n",
    "#function 8- isalnum ; Returns True if all characters in the string are alphanumeric\n",
    "str=\"office365\"\n",
    "print(str.isalnum())\n",
    "####================================####\n",
    "\n",
    "#String functions 9-16\n",
    "\n",
    "#function 9- isalpha(); Returns True if all characters in the string are in the alphabet\n",
    "print(str.isalpha())\n",
    "\n",
    "#function 10- isidentifier(); Returns True if the string is an identifier\n",
    "print(str.isidentifier())\n",
    "\n",
    "#function 11-islower; Returns True if all characters in the string are lower case\n",
    "print(str.islower())\n",
    "\n",
    "#function 12-isnumeric; Returns True if all characters in the string are numeric\n",
    "print(str.isnumeric())\n",
    "\n",
    "#function 13- isprintable; Returns True if all characters in the string are printable\n",
    "str=\"Hello! Are you #1?\"\n",
    "print(str.isprintable())\n",
    "\n",
    "#function 14- isspace;Returns True if all characters in the string are whitespaces\n",
    "str=\"   \"\n",
    "print(str.isspace())\n",
    "\n",
    "#function 15- istitle; Returns True if the string follows the rules of a title\n",
    "str=\"HELLO, AND WELCOME TO MY WIPRO\"\n",
    "print(str.istitle())\n",
    "\n",
    "#function 16-isupper; eturns True if all characters in the string are upper case\n",
    "print(str.isupper())\n",
    "\n",
    "###=====================##\n",
    "#String function 17-24\n",
    "\n",
    "#function 17- join;Joins the elements of an iterable to the end of the string\n",
    "str2=\" Bangalore\"\n",
    "print(\"#\".join(str2))\n",
    "\n",
    "#function 18-ljust;Returns a left justified version of the string\n",
    "str =\"Bangalore\"\n",
    "x = str.ljust(20)\n",
    "print(x, \"is my favorite place\")\n",
    "\n",
    "#function 19-lower; Converts a string into lower case\n",
    "str=\"HELLO, AND WELCOME TO MY WIPRO\"\n",
    "print(str.lower())\n",
    "\n",
    "#function 20-lstrip;Returns a left trim version of the string\n",
    "str=\"HELLO, AND WELCOME TO MY WIPRO  \"\n",
    "print(str.lstrip())\n",
    "\n",
    "#function 21--partition;Returns a tuple where the string is parted into three parts\n",
    "str=\"I could eat bananas all day\"\n",
    "print(str.partition(\"bananas\"))\n",
    "\n",
    "#function 22-replace;Returns a string where a specified value is replaced with a specified value\n",
    "str = \"I like bananas\"\n",
    "str2=str.replace(\"bananas\", \"apples\")\n",
    "print(str2)\n",
    "\n",
    "#function 23-rfind; Searches the string for a specified value and returns the last position of where it was found\n",
    "str=\"Welcome to bangalore, welcome to wipro\"\n",
    "print(str.rfind(\"to\"))\n",
    "\n",
    "#function 24-rindex; Searches the string for a specified value and returns the last position of where it was found\n",
    "print(str.rindex(\"to\"))\n",
    "\n",
    "###====================###\n",
    "#String function 25-32\n",
    "\n",
    "#function 25-rjust; Returns a right justified version of the string\n",
    "str =\"Bangalore\"\n",
    "x = str.rjust(20)\n",
    "print(x, \"is my favorite place\")\n",
    "\n",
    "#function 26-rsplit; Splits the string at the specified separator, and returns a list\n",
    "str = \"apple,wipro,microsoft\"\n",
    "x = str.rsplit(\",\")\n",
    "print(x)\n",
    "\n",
    "#function 27- rstrip; Returns a right trim version of the string\n",
    "str = \"     banana     \"\n",
    "x = str.rstrip()\n",
    "print(\"of all fruits\", x, \"is my favorite\")\n",
    "\n",
    "#function 28-split; Splits the string at the specified separator, and returns a list\n",
    "str = \"welcome to the wipro\"\n",
    "print(str.split())\n",
    "\n",
    "#function 29-splitlines; Splits the string at line breaks and returns a list\n",
    "str = \"Thank you for the music\\nWelcome to the bangalore\"\n",
    "print(str.splitlines())\n",
    "\n",
    "#function 30- startswith; Returns true if the string starts with the specified value\n",
    "str=\"Welcome to bangalore, welcome to wipro\"\n",
    "print(str.startswith(\"Welcome\"))\n",
    "\n",
    "#function 31-strip; Returns a trimmed version of the string\n",
    "str = \"     bangalore     \"\n",
    "x = str.strip()\n",
    "print(\"it city\", x, \"is my home town\")\n",
    "\n",
    "#function 32-swapcase; Swaps cases, lower case becomes upper case and vice versa\n",
    "str = \"Hello My Name Is RAmAkAnT\"\n",
    "print(str.swapcase())\n",
    "\n",
    "###===================##\n",
    "# String function 33-36\n",
    "\n",
    "#function 33-upper; Converts a string into upper case\n",
    "str=\"this is my home town\"\n",
    "print(str.upper())\n",
    "\n",
    "#function 34 encode;Returns an encoded version of the string\n",
    "print(str.encode())\n",
    "\n",
    "#function 35- expandtabs;Sets the tab size of the string\n",
    "str= \"H\\te\\tl\\tl\\to\"\n",
    "print(str.expandtabs(2))\n",
    "\n",
    "#function 36 -zfill() Fills the string with a specified number of 0 values at the beginning\n",
    "txt = \"50\"\n",
    "x = txt.zfill(10)\n",
    "print(x)\n"
   ]
  },
  {
   "cell_type": "markdown",
   "metadata": {},
   "source": [
    "### Sl no 30, Topic-Strings"
   ]
  },
  {
   "cell_type": "markdown",
   "metadata": {},
   "source": [
    "#### Write a program to Sort given N numbers (Use only loop structures and Conditions to sort the elements. Use Bubble sort / Selection sort technique to sort the elements of List)Note: Don't use built in functions to sort."
   ]
  },
  {
   "cell_type": "code",
   "execution_count": 6,
   "metadata": {},
   "outputs": [
    {
     "name": "stdout",
     "output_type": "stream",
     "text": [
      "[14, 21, 27, 41, 43, 45, 46, 57, 70]\n"
     ]
    }
   ],
   "source": [
    "def Sort(nlist):\n",
    "    for num in range(len(numlist)-1,0,-1):\n",
    "        for i in range(num):\n",
    "            if numlist[i]>numlist[i+1]:\n",
    "                temp = numlist[i]\n",
    "                numlist[i] = numlist[i+1]\n",
    "                numlist[i+1] = temp\n",
    "\n",
    "numlist = [14,46,43,27,57,41,45,21,70]\n",
    "Sort(numlist)\n",
    "print(numlist)"
   ]
  },
  {
   "cell_type": "markdown",
   "metadata": {},
   "source": [
    "### Sl no-31,Topic-Strings"
   ]
  },
  {
   "cell_type": "markdown",
   "metadata": {},
   "source": [
    "#### Write a program to search an element in the list. i.e. Perform the binary search on the sorted list having integers as elements. If the search is successful print \"Success\" else print \"un successful search\". "
   ]
  },
  {
   "cell_type": "code",
   "execution_count": 7,
   "metadata": {},
   "outputs": [
    {
     "name": "stdout",
     "output_type": "stream",
     "text": [
      "un successful search\n",
      "Success\n"
     ]
    }
   ],
   "source": [
    "def binary_search(item_list,item):\n",
    "    \n",
    "    first = 0\n",
    "    last = len(item_list)-1\n",
    "    found = 0\n",
    "    while( first<=last and not found):\n",
    "        mid = (first + last)//2\n",
    "        if item_list[mid] == item :\n",
    "            found = 1\n",
    "        else:\n",
    "            if item < item_list[mid]:\n",
    "                last = mid - 1\n",
    "            else:\n",
    "                first = mid + 1\n",
    "    return found\n",
    "\n",
    "result= binary_search([1,2,3,5,8], 6)\n",
    "\n",
    "if result==1:\n",
    "    print(\"Success\")\n",
    "else:\n",
    "    print(\"un successful search\")\n",
    "    \n",
    "result= binary_search([1,2,3,5,8], 5)\n",
    "\n",
    "if result==1:\n",
    "    print(\"Success\")\n",
    "else:\n",
    "    print(\"un successful search\")"
   ]
  },
  {
   "cell_type": "markdown",
   "metadata": {
    "collapsed": true
   },
   "source": [
    "### Sl no 32,Topic-Strings"
   ]
  },
  {
   "cell_type": "markdown",
   "metadata": {
    "collapsed": true
   },
   "source": [
    "#### Write a program to perform following operations on List. Create three lists as List1,List2 and List3 having 5 city names each list.\n",
    "a. Find the length city of each list element and print city and length\n",
    "\n",
    "b. Find the maximum and minimum string length element of each list\n",
    "\n",
    "c. Compare each list and determine which city is biggest & smallest with length.\n",
    "\n",
    "d. Delete first and last element of each list and print list contents.\n"
   ]
  },
  {
   "cell_type": "code",
   "execution_count": 8,
   "metadata": {},
   "outputs": [
    {
     "name": "stdout",
     "output_type": "stream",
     "text": [
      "List 1 City= Mumbai, lenght=6\n",
      "List 1 City= Hyderabad, lenght=9\n",
      "List 1 City= Chennai, lenght=7\n",
      "List 1 City= Jaipur, lenght=6\n",
      "List 1 City= Nagpur, lenght=6\n",
      "List 2 City= Delhi, lenght=5\n",
      "List 2 City= Ahmedabad, lenght=9\n",
      "List 2 City= Kolkata, lenght=7\n",
      "List 2 City= Visakhapatnam, lenght=13\n",
      "List 2 City= Lucknow, lenght=7\n",
      "List 3 City= Bangalore, lenght=9\n",
      "List 3 City= Surat, lenght=5\n",
      "List 3 City= Pune, lenght=4\n",
      "List 3 City= Kanpur, lenght=6\n",
      "List 3 City= Thane, lenght=5\n",
      "List 1 by map Length of city=Mumbai, length=6\n",
      "List 1 by map Length of city=Hyderabad, length=9\n",
      "List 1 by map Length of city=Chennai, length=7\n",
      "List 1 by map Length of city=Jaipur, length=6\n",
      "List 1 by map Length of city=Nagpur, length=6\n",
      "List 2 by map Length of city=Delhi, length=5\n",
      "List 2 by map Length of city=Ahmedabad, length=9\n",
      "List 2 by map Length of city=Kolkata, length=7\n",
      "List 2 by map Length of city=Visakhapatnam, length=13\n",
      "List 2 by map Length of city=Lucknow, length=7\n",
      "List 3 by map Length of city=Bangalore, length=9\n",
      "List 3 by map Length of city=Surat, length=5\n",
      "List 3 by map Length of city=Pune, length=4\n",
      "List 3 by map Length of city=Kanpur, length=6\n",
      "List 3 by map Length of city=Thane, length=5\n",
      "List1 max length=9, min length=6\n",
      "List2 max length=13, min length=5\n",
      "List3 max length=9, min length=4\n",
      "Max lenth city=Visakhapatnam, Min lenght city=Pune\n",
      "List1= ['Hyderabad', 'Chennai', 'Jaipur']\n",
      "List2= ['Ahmedabad', 'Kolkata', 'Visakhapatnam']\n",
      "List3= ['Surat', 'Pune', 'Kanpur']\n"
     ]
    }
   ],
   "source": [
    "\n",
    "List1=['Mumbai','Hyderabad','Chennai','Jaipur','Nagpur']\n",
    "List2=['Delhi','Ahmedabad','Kolkata','Visakhapatnam','Lucknow']\n",
    "List3=['Bangalore','Surat','Pune','Kanpur','Thane']\n",
    "\n",
    "#a. find the length of the city in each list..\n",
    "\n",
    "for l in List1:\n",
    "    print(\"List 1 City= {0}, lenght={1}\".format(l,len(l)))\n",
    "\n",
    "for l in List2:\n",
    "    print(\"List 2 City= {0}, lenght={1}\".format(l,len(l)))\n",
    "for l in List3:\n",
    "    print(\"List 3 City= {0}, lenght={1}\".format(l,len(l)))\n",
    "    \n",
    "#with map function\n",
    "list(map(lambda x:print(\"List 1 by map Length of city={0}, length={1}\".format(x,len(x))),List1))\n",
    "list(map(lambda x:print(\"List 2 by map Length of city={0}, length={1}\".format(x,len(x))),List2))\n",
    "list(map(lambda x:print('List 3 by map Length of city={0}, length={1}'.format(x,len(x))),List3))\n",
    "\n",
    "#b. Find the maximum and minimum string length element of each list\n",
    "\n",
    "max_len=max(list(map(lambda x:len(x),List1)))\n",
    "min_len=min(list(map(lambda x:len(x),List1)))\n",
    "print(\"List1 max length={0}, min length={1}\".format(max_len,min_len))\n",
    "\n",
    "max_len=max(list(map(lambda x:len(x),List2)))\n",
    "min_len=min(list(map(lambda x:len(x),List2)))\n",
    "print(\"List2 max length={0}, min length={1}\".format(max_len,min_len))\n",
    "\n",
    "max_len=max(list(map(lambda x:len(x),List3)))\n",
    "min_len=min(list(map(lambda x:len(x),List3)))\n",
    "print(\"List3 max length={0}, min length={1}\".format(max_len,min_len))\n",
    "\n",
    "#c. Compare each list and determine which city is biggest & smallest with length.\n",
    "List4=List1+List2+List3\n",
    "\n",
    "dict1={}\n",
    "for l in List4:\n",
    "    dict1.update({l:len(l)})\n",
    "Citymax = max(dict1, key=dict1.get) \n",
    "Citymin = min(dict1, key=dict1.get) \n",
    "print(\"Max lenth city={0}, Min lenght city={1}\".format(Citymax,Citymin))\n",
    "\n",
    "#d. Delete first and last element of each list and print list contents.\n",
    "del List1[0]\n",
    "del List1[-1]\n",
    "del List2[0]\n",
    "del List2[-1]\n",
    "del List3[0]\n",
    "del List3[-1]\n",
    "print(\"List1=\",List1)\n",
    "print(\"List2=\",List2)\n",
    "print(\"List3=\",List3)\n"
   ]
  },
  {
   "cell_type": "markdown",
   "metadata": {},
   "source": [
    "### Sl no 33,Topic-Strings"
   ]
  },
  {
   "cell_type": "markdown",
   "metadata": {},
   "source": [
    "#### Create a list with 7 elements and perform following operations. Let the list be initialized with List1 any 5 city names;\n",
    "a) Append anew city name to the List\n",
    "b) Insert a city name at 4th index position\n",
    "c) Sort the list and print all elements\n",
    "d) Sort the elements of the list in descending order.\n",
    "e) delete last three elements using pop operation\n",
    " "
   ]
  },
  {
   "cell_type": "code",
   "execution_count": 9,
   "metadata": {},
   "outputs": [
    {
     "name": "stdout",
     "output_type": "stream",
     "text": [
      "sorted list=['Chennai', 'Hyderabad', 'Jaipur', 'Kanpur', 'Mumbai', 'Nagpur', 'Visakhapatnam']\n",
      "sorted list in descending order=['Visakhapatnam', 'Nagpur', 'Mumbai', 'Kanpur', 'Jaipur', 'Hyderabad', 'Chennai']\n",
      "['Visakhapatnam', 'Nagpur', 'Mumbai', 'Kanpur']\n"
     ]
    }
   ],
   "source": [
    "List1=['Mumbai','Hyderabad','Chennai','Jaipur','Nagpur']\n",
    "\n",
    "#a.Append a new city name to the List\n",
    "List1.append('Visakhapatnam')\n",
    "\n",
    "#b.Insert a city name at 4th index position\n",
    "List1.insert(4,'Kanpur')\n",
    "\n",
    "#c. Sort the list and print all elements\n",
    "List1.sort()\n",
    "print(\"sorted list={0}\".format(List1))\n",
    "\n",
    "#d. Sort the elements of the list in descending order.\n",
    "List1.sort(reverse=True)\n",
    "print(\"sorted list in descending order={0}\".format(List1))\n",
    "\n",
    "#e. delete last three elements using pop operation\n",
    "count=3\n",
    "i=0\n",
    "while i<count:\n",
    "    List1.pop(-1)\n",
    "    i+=1\n",
    "print(List1)\n"
   ]
  },
  {
   "cell_type": "markdown",
   "metadata": {},
   "source": [
    "### Sl no 34,Topic-Strings"
   ]
  },
  {
   "cell_type": "markdown",
   "metadata": {},
   "source": [
    "#### Create 3 Lists (list1,list2,list3) with integer and perform following operations\n",
    "a) Create Maxlist by taking 2 maximum elements from each list.\n",
    "b) Find average value from all the elements of Maxlist.\n",
    "c) Create a MinlIst by taking 2 minimum elements from each list \n",
    "d) Find the average value from all the elements of Minlist\n"
   ]
  },
  {
   "cell_type": "code",
   "execution_count": 10,
   "metadata": {},
   "outputs": [
    {
     "name": "stdout",
     "output_type": "stream",
     "text": [
      "Average of Max list=77.66666666666667\n",
      "Average of Min list=8.833333333333334\n"
     ]
    }
   ],
   "source": [
    "List1=[2,3,66,55,32,8,19]\n",
    "\n",
    "List2=[66,89,7,2,90,33,41]\n",
    "\n",
    "List3=[45,78,88,20,19,32]\n",
    "\n",
    "List4=[]\n",
    "List5=[]\n",
    "#a. Create Maxlist by taking 2 maximum elements from each list.\n",
    "List1.sort()\n",
    "for l in List1[-2:]:\n",
    "    List4.append(l)\n",
    "\n",
    "List2.sort()\n",
    "for l in List2[-2:]:\n",
    "    List4.append(l)\n",
    "\n",
    "List3.sort()\n",
    "for l in List3[-2:]:\n",
    "\n",
    "    List4.append(l)\n",
    "\n",
    "#b. Find average value from all the elements of Maxlist.\n",
    "\n",
    "def List_Avg(input):\n",
    "    Avg=sum(input)/len(input)\n",
    "    return Avg\n",
    "\n",
    "print(\"Average of Max list={0}\".format(List_Avg(List4)))\n",
    "\n",
    "#c. Create a MinlIst by taking 2 minimum elements from each list\n",
    "\n",
    "for l in List1[0:2]:\n",
    "    List5.append(l)\n",
    "    \n",
    "for l in List2[0:2]:\n",
    "    List5.append(l)\n",
    "    \n",
    "for l in List3[0:2]:\n",
    "    List5.append(l)\n",
    "    \n",
    "#d. Find the average value from all the elements of Minlist\n",
    "\n",
    "print(\"Average of Min list={0}\".format(List_Avg(List5)))\n",
    "\n"
   ]
  },
  {
   "cell_type": "markdown",
   "metadata": {},
   "source": [
    "### Sl no 35,Topic-Strings"
   ]
  },
  {
   "cell_type": "markdown",
   "metadata": {},
   "source": [
    "#### Create Tuple as specified below;\n",
    "a) Create a Tuple tup1 with days in a week & print the tuple elements\n",
    "b) Create a Tuple tup2  with months in a year and concatenate it with tup1\n",
    "c) Create 3 tuples( tup1,tup2,tup3) with numbers and determine which is greater.\n",
    "d) Try to delete an individual element in tup1 and try deleting complete Tuple -tup1 notice the error type you get.\n",
    "e) Insert new element in to tuple by typecasting it to List\n",
    " "
   ]
  },
  {
   "cell_type": "code",
   "execution_count": 11,
   "metadata": {},
   "outputs": [
    {
     "name": "stdout",
     "output_type": "stream",
     "text": [
      "('Jan', 'Feb', 'Mar', 'Apr', 'May', 'Jun', 'Jul', 'Aug', 'Sep', 'Oct', 'Nov', 'Dec', 'Monday', 'Tuesday', 'Wednesday', 'Thursday', 'Friday', 'Saturday', 'Sunday')\n",
      "tup2 is greater\n",
      "[6, 8, 9, 11, 23, 45, 89, 90, 67, 88, 200]\n"
     ]
    }
   ],
   "source": [
    "#35\n",
    "#a and b\n",
    "tup_week=('Monday','Tuesday','Wednesday','Thursday','Friday','Saturday','Sunday')\n",
    "tup_month=('Jan','Feb','Mar','Apr','May','Jun','Jul','Aug','Sep','Oct','Nov','Dec')\n",
    "tup_month=tup_month+tup_week\n",
    "print(tup_month)\n",
    "\n",
    "#c.\n",
    "tup1=(10,30,2,3,44,56)\n",
    "tup2=(45,8,9,120,34,67,55,98,31,21,2,12,21)\n",
    "tup3=(6,8,9,11,23,45,89,90,67,88)\n",
    "\n",
    "if len(tup1)>len(tup2):\n",
    "    if len(tup1)>len(tup3):\n",
    "        print(\"tup1 is greater\")\n",
    "    else:\n",
    "        print(\"tup3 is greater\")\n",
    "else:\n",
    "    if len(tup2)>len(tup3):\n",
    "        print(\"tup2 is greater\")\n",
    "    else:\n",
    "        print(\"tup3 is greater\")\n",
    "#d.\n",
    "#del tup1[0]\n",
    "del tup1\n",
    "\n",
    "#e.\n",
    "list1=list(tup3)\n",
    "list1.append(200)\n",
    "print(list1)"
   ]
  },
  {
   "cell_type": "markdown",
   "metadata": {},
   "source": [
    "### Sl no 36, Topic-Strings "
   ]
  },
  {
   "cell_type": "markdown",
   "metadata": {},
   "source": [
    "#### Create two tuples tup1 & tup2 and apply all built in functions on tuples. ( Refer Tutorial for the Built in functions list) "
   ]
  },
  {
   "cell_type": "code",
   "execution_count": 14,
   "metadata": {},
   "outputs": [
    {
     "name": "stdout",
     "output_type": "stream",
     "text": [
      "7\n",
      "(45, 2, 33)\n",
      "90\n",
      "90\n",
      "1\n"
     ]
    }
   ],
   "source": [
    "tup1=(1,45,2,33,46,78,90)\n",
    "tup2=(56,99,12,91,56,32,79)\n",
    "\n",
    "print(len(tup1))\n",
    "print(tup1[1:4])\n",
    "print(tup1[-1])\n",
    "print(max(tup1))\n",
    "print(min(tup1))\n"
   ]
  },
  {
   "cell_type": "markdown",
   "metadata": {},
   "source": [
    "### Sl no 37,Topic- Dictionary  and Date & Time"
   ]
  },
  {
   "cell_type": "markdown",
   "metadata": {},
   "source": [
    "#### Create 3 dictionaries(dict1,dict2, dict3) with 3 elements each. Perform following operations\n",
    "a) Compare dictionaries to determine the biggest.\n",
    "b) Add new elements in to the dictionaries dict1, dict2\n",
    "c) print the length of dict1,dict2,dict3.\n",
    "d) Convert dict1, dict2, and dict3 dictionaries as string and concatenate all strings together.\n"
   ]
  },
  {
   "cell_type": "code",
   "execution_count": 8,
   "metadata": {},
   "outputs": [
    {
     "name": "stdout",
     "output_type": "stream",
     "text": [
      "dict3 is bigger\n",
      "Lenght of dict1=4\n",
      "Lenght of dict2=5\n",
      "Lenght of dict3=5\n",
      "{'name': 'Anil', 'Age': 28, 'city': 'Bangalore', 'gender': 'Male'}{'compeny': 'Eco world', 'No of Emp': 208, 'city': 'Bangalore', 'Country': 'India', 'CEO': 'Mr. Joy'}{'School': 'Divine school', 'Student name': 'Ajay', 'Class': 4, 'city': 'Bangalore', 'Country': 'India'}\n"
     ]
    }
   ],
   "source": [
    "\n",
    "dict1={'name':'Anil','Age':28,'city':'Bangalore'}\n",
    "dict2={'compeny':'Eco world','No of Emp':208,'city':'Bangalore','Country':'India'}\n",
    "dict3={'School':'Divine school','Student name':'Ajay','Class':4,'city':'Bangalore','Country':'India'}\n",
    "\n",
    "#a.\n",
    "if dict1.items()>dict2.items():\n",
    "    if dict1.items()>dict3.items():\n",
    "        print(\"dict1 is bigger\")\n",
    "    else:\n",
    "        print(\"dict3 is bigger\")\n",
    "else:\n",
    "    if dict2.items()>dict3.items():\n",
    "        print(\"dict2 is bigger\")\n",
    "    else:\n",
    "        print(\"dict3 is bigger\")\n",
    "#b.\n",
    "if 'gender' not in dict1.keys():\n",
    "    dict1['gender']='Male'\n",
    "if 'CEO' not in dict2.keys():\n",
    "    dict2['CEO']='Mr. Joy'\n",
    "\n",
    "#c.\n",
    "    print('Lenght of dict1={0}'.format(len(dict1)))\n",
    "print('Lenght of dict2={0}'.format(len(dict2)))\n",
    "print('Lenght of dict3={0}'.format(len(dict3)))\n",
    "\n",
    "dstr1=str(dict1)\n",
    "dstr2=str(dict2)\n",
    "dstr3=str(dict3)\n",
    "print(dstr1+dstr2+dstr3)\n"
   ]
  },
  {
   "cell_type": "markdown",
   "metadata": {},
   "source": [
    "### Sl no 38, Topic-Dictionary  and Date & Time"
   ]
  },
  {
   "cell_type": "markdown",
   "metadata": {},
   "source": [
    "#### Create 2 dictionaries as follows;\n",
    "dict1 ={'Name':'Ramakrishna','Age':25}\n",
    "dict2={'EmpId':1234,'Salary':5000}\n",
    "Perform following operations   \n",
    "a) Create single dictionary by merging dict1 and dict2\n",
    "b) Update the salary to 10%\n",
    "c) Update the age to 26\n",
    "d) Insert the new element with key \"grade\" and assign value as \"B1\"\n",
    "e) Extract and print all values and keys separately.\n",
    "f) delete the element with key 'Age' and print dictionary elements.\n"
   ]
  },
  {
   "cell_type": "code",
   "execution_count": 9,
   "metadata": {},
   "outputs": [
    {
     "name": "stdout",
     "output_type": "stream",
     "text": [
      "All keys are=dict_keys(['Name', 'Age', 'EmpId', 'Salary', 'grade'])\n",
      "All values are=dict_values(['Ramakrishna', 26, 1234, 5500.0, 'B1'])\n",
      "{'Name': 'Ramakrishna', 'EmpId': 1234, 'Salary': 5500.0, 'grade': 'B1'}\n"
     ]
    }
   ],
   "source": [
    "#38\n",
    "dict1 ={'Name':'Ramakrishna','Age':25}\n",
    "dict2={'EmpId':1234,'Salary':5000}\n",
    "\n",
    "#a.\n",
    "dict1.update(dict2)\n",
    "\n",
    "#b , c,d\n",
    "dict1['Salary']=int(dict1['Salary'])*0.1+int(dict1['Salary'])\n",
    "dict1['Age']=26\n",
    "dict1['grade']='B1'\n",
    "\n",
    "#e.\n",
    "print(\"All keys are=%s\"%dict1.keys())\n",
    "print(\"All values are=%s\"%dict1.values())\n",
    "\n",
    "#f.\n",
    "del dict1['Age']\n",
    "print(dict1)\n"
   ]
  },
  {
   "cell_type": "markdown",
   "metadata": {},
   "source": [
    "### Sl no 39, Topic-Dictionary  and Date & Time "
   ]
  },
  {
   "cell_type": "markdown",
   "metadata": {},
   "source": [
    "#### Using Time and Calendar module,Print current date and time. Print current month calendar. "
   ]
  },
  {
   "cell_type": "code",
   "execution_count": 15,
   "metadata": {},
   "outputs": [
    {
     "name": "stdout",
     "output_type": "stream",
     "text": [
      "current date and time 2020-03-08 18:54:15.858444\n",
      "Current month=March\n"
     ]
    }
   ],
   "source": [
    "from datetime import date,datetime\n",
    "print(\"current date and time %s\"%datetime.now())\n",
    "print(\"Current month=%s\"%datetime.now().strftime('%B'))\n"
   ]
  },
  {
   "cell_type": "markdown",
   "metadata": {},
   "source": [
    "### Sl no 40, Topic-Dictionary  and Date & Time "
   ]
  },
  {
   "cell_type": "markdown",
   "metadata": {},
   "source": [
    "#### Using time module perform following operations.\n",
    "a) Print current time for every 5 seconds up to 1 minute time interval.\n",
    "b) Write a program to find out how much CPU time is taken for the execution of above(32.a)  program.\n",
    " "
   ]
  },
  {
   "cell_type": "code",
   "execution_count": 16,
   "metadata": {},
   "outputs": [
    {
     "name": "stdout",
     "output_type": "stream",
     "text": [
      "2020-03-08 18:54:23.735895\n",
      "2020-03-08 18:54:28.737181\n",
      "2020-03-08 18:54:33.737467\n",
      "2020-03-08 18:54:38.737753\n",
      "2020-03-08 18:54:43.738039\n",
      "2020-03-08 18:54:48.738325\n",
      "2020-03-08 18:54:53.738611\n",
      "2020-03-08 18:54:58.738897\n",
      "2020-03-08 18:55:03.739183\n",
      "2020-03-08 18:55:08.739469\n",
      "2020-03-08 18:55:13.739755\n",
      "2020-03-08 18:55:18.740041\n",
      "2020-03-08 18:55:23.740327\n",
      "List 1 City= Mumbai, lenght=6\n",
      "List 1 City= Hyderabad, lenght=9\n",
      "List 1 City= Chennai, lenght=7\n",
      "List 1 City= Jaipur, lenght=6\n",
      "List 1 City= Nagpur, lenght=6\n",
      "List 2 City= Delhi, lenght=5\n",
      "List 2 City= Ahmedabad, lenght=9\n",
      "List 2 City= Kolkata, lenght=7\n",
      "List 2 City= Visakhapatnam, lenght=13\n",
      "List 2 City= Lucknow, lenght=7\n",
      "List 3 City= Bangalore, lenght=9\n",
      "List 3 City= Surat, lenght=5\n",
      "List 3 City= Pune, lenght=4\n",
      "List 3 City= Kanpur, lenght=6\n",
      "List 3 City= Thane, lenght=5\n",
      "List 1 City= Mumbai, lenght=6\n",
      "List 1 City= Hyderabad, lenght=9\n",
      "List 1 City= Chennai, lenght=7\n",
      "List 1 City= Jaipur, lenght=6\n",
      "List 1 City= Nagpur, lenght=6\n",
      "List 2 City= Delhi, lenght=5\n",
      "List 2 City= Ahmedabad, lenght=9\n",
      "List 2 City= Kolkata, lenght=7\n",
      "List 2 City= Visakhapatnam, lenght=13\n",
      "List 2 City= Lucknow, lenght=7\n",
      "List 3 City= Bangalore, lenght=9\n",
      "List 3 City= Surat, lenght=5\n",
      "List 3 City= Pune, lenght=4\n",
      "List 3 City= Kanpur, lenght=6\n",
      "List 3 City= Thane, lenght=5\n",
      "List 1 City= Mumbai, lenght=6\n",
      "List 1 City= Hyderabad, lenght=9\n",
      "List 1 City= Chennai, lenght=7\n",
      "List 1 City= Jaipur, lenght=6\n",
      "List 1 City= Nagpur, lenght=6\n",
      "List 2 City= Delhi, lenght=5\n",
      "List 2 City= Ahmedabad, lenght=9\n",
      "List 2 City= Kolkata, lenght=7\n",
      "List 2 City= Visakhapatnam, lenght=13\n",
      "List 2 City= Lucknow, lenght=7\n",
      "List 3 City= Bangalore, lenght=9\n",
      "List 3 City= Surat, lenght=5\n",
      "List 3 City= Pune, lenght=4\n",
      "List 3 City= Kanpur, lenght=6\n",
      "List 3 City= Thane, lenght=5\n",
      "List 1 City= Mumbai, lenght=6\n",
      "List 1 City= Hyderabad, lenght=9\n",
      "List 1 City= Chennai, lenght=7\n",
      "List 1 City= Jaipur, lenght=6\n",
      "List 1 City= Nagpur, lenght=6\n",
      "List 2 City= Delhi, lenght=5\n",
      "List 2 City= Ahmedabad, lenght=9\n",
      "List 2 City= Kolkata, lenght=7\n",
      "List 2 City= Visakhapatnam, lenght=13\n",
      "List 2 City= Lucknow, lenght=7\n",
      "List 3 City= Bangalore, lenght=9\n",
      "List 3 City= Surat, lenght=5\n",
      "List 3 City= Pune, lenght=4\n",
      "List 3 City= Kanpur, lenght=6\n",
      "List 3 City= Thane, lenght=5\n",
      "List 1 City= Mumbai, lenght=6\n",
      "List 1 City= Hyderabad, lenght=9\n",
      "List 1 City= Chennai, lenght=7\n",
      "List 1 City= Jaipur, lenght=6\n",
      "List 1 City= Nagpur, lenght=6\n",
      "List 2 City= Delhi, lenght=5\n",
      "List 2 City= Ahmedabad, lenght=9\n",
      "List 2 City= Kolkata, lenght=7\n",
      "List 2 City= Visakhapatnam, lenght=13\n",
      "List 2 City= Lucknow, lenght=7\n",
      "List 3 City= Bangalore, lenght=9\n",
      "List 3 City= Surat, lenght=5\n",
      "List 3 City= Pune, lenght=4\n",
      "List 3 City= Kanpur, lenght=6\n",
      "List 3 City= Thane, lenght=5\n",
      "List 1 City= Mumbai, lenght=6\n",
      "List 1 City= Hyderabad, lenght=9\n",
      "List 1 City= Chennai, lenght=7\n",
      "List 1 City= Jaipur, lenght=6\n",
      "List 1 City= Nagpur, lenght=6\n",
      "List 2 City= Delhi, lenght=5\n",
      "List 2 City= Ahmedabad, lenght=9\n",
      "List 2 City= Kolkata, lenght=7\n",
      "List 2 City= Visakhapatnam, lenght=13\n",
      "List 2 City= Lucknow, lenght=7\n",
      "List 3 City= Bangalore, lenght=9\n",
      "List 3 City= Surat, lenght=5\n",
      "List 3 City= Pune, lenght=4\n",
      "List 3 City= Kanpur, lenght=6\n",
      "List 3 City= Thane, lenght=5\n",
      "List 1 City= Mumbai, lenght=6\n",
      "List 1 City= Hyderabad, lenght=9\n",
      "List 1 City= Chennai, lenght=7\n",
      "List 1 City= Jaipur, lenght=6\n",
      "List 1 City= Nagpur, lenght=6\n",
      "List 2 City= Delhi, lenght=5\n",
      "List 2 City= Ahmedabad, lenght=9\n",
      "List 2 City= Kolkata, lenght=7\n",
      "List 2 City= Visakhapatnam, lenght=13\n",
      "List 2 City= Lucknow, lenght=7\n",
      "List 3 City= Bangalore, lenght=9\n",
      "List 3 City= Surat, lenght=5\n",
      "List 3 City= Pune, lenght=4\n",
      "List 3 City= Kanpur, lenght=6\n",
      "List 3 City= Thane, lenght=5\n",
      "List 1 City= Mumbai, lenght=6\n",
      "List 1 City= Hyderabad, lenght=9\n",
      "List 1 City= Chennai, lenght=7\n",
      "List 1 City= Jaipur, lenght=6\n",
      "List 1 City= Nagpur, lenght=6\n",
      "List 2 City= Delhi, lenght=5\n",
      "List 2 City= Ahmedabad, lenght=9\n",
      "List 2 City= Kolkata, lenght=7\n",
      "List 2 City= Visakhapatnam, lenght=13\n",
      "List 2 City= Lucknow, lenght=7\n",
      "List 3 City= Bangalore, lenght=9\n",
      "List 3 City= Surat, lenght=5\n",
      "List 3 City= Pune, lenght=4\n",
      "List 3 City= Kanpur, lenght=6\n",
      "List 3 City= Thane, lenght=5\n",
      "List 1 City= Mumbai, lenght=6\n",
      "List 1 City= Hyderabad, lenght=9\n",
      "List 1 City= Chennai, lenght=7\n",
      "List 1 City= Jaipur, lenght=6\n",
      "List 1 City= Nagpur, lenght=6\n",
      "List 2 City= Delhi, lenght=5\n",
      "List 2 City= Ahmedabad, lenght=9\n",
      "List 2 City= Kolkata, lenght=7\n",
      "List 2 City= Visakhapatnam, lenght=13\n",
      "List 2 City= Lucknow, lenght=7\n",
      "List 3 City= Bangalore, lenght=9\n",
      "List 3 City= Surat, lenght=5\n",
      "List 3 City= Pune, lenght=4\n",
      "List 3 City= Kanpur, lenght=6\n",
      "List 3 City= Thane, lenght=5\n",
      "List 1 City= Mumbai, lenght=6\n",
      "List 1 City= Hyderabad, lenght=9\n",
      "List 1 City= Chennai, lenght=7\n",
      "List 1 City= Jaipur, lenght=6\n",
      "List 1 City= Nagpur, lenght=6\n",
      "List 2 City= Delhi, lenght=5\n",
      "List 2 City= Ahmedabad, lenght=9\n",
      "List 2 City= Kolkata, lenght=7\n",
      "List 2 City= Visakhapatnam, lenght=13\n",
      "List 2 City= Lucknow, lenght=7\n",
      "List 3 City= Bangalore, lenght=9\n",
      "List 3 City= Surat, lenght=5\n",
      "List 3 City= Pune, lenght=4\n",
      "List 3 City= Kanpur, lenght=6\n",
      "List 3 City= Thane, lenght=5\n",
      "0.01832311375420818\n"
     ]
    }
   ],
   "source": [
    "#a.\n",
    "import time\n",
    "from datetime import datetime\n",
    "i=0\n",
    "while i<=60:\n",
    "    print(datetime.now())\n",
    "    time.sleep(5)\n",
    "    i+=5\n",
    "\n",
    "#b.\n",
    "import timeit\n",
    "List1=['Mumbai','Hyderabad','Chennai','Jaipur','Nagpur']\n",
    "List2=['Delhi','Ahmedabad','Kolkata','Visakhapatnam','Lucknow']\n",
    "List3=['Bangalore','Surat','Pune','Kanpur','Thane']\n",
    "\n",
    "#a. find the length of the city in each list..\n",
    "testcode = '''\n",
    "List1=['Mumbai','Hyderabad','Chennai','Jaipur','Nagpur']\n",
    "List2=['Delhi','Ahmedabad','Kolkata','Visakhapatnam','Lucknow']\n",
    "List3=['Bangalore','Surat','Pune','Kanpur','Thane']\n",
    "for l in List1:\n",
    "    print(\"List 1 City= {0}, lenght={1}\".format(l,len(l)))\n",
    "\n",
    "for l in List2:\n",
    "    print(\"List 2 City= {0}, lenght={1}\".format(l,len(l)))\n",
    "for l in List3:\n",
    "    print(\"List 3 City= {0}, lenght={1}\".format(l,len(l)))\n",
    "'''\n",
    "\n",
    "elapsed_time = timeit.timeit(testcode,number=10)\n",
    "print(elapsed_time)   "
   ]
  }
 ],
 "metadata": {
  "kernelspec": {
   "display_name": "Python 3",
   "language": "python",
   "name": "python3"
  },
  "language_info": {
   "codemirror_mode": {
    "name": "ipython",
    "version": 3
   },
   "file_extension": ".py",
   "mimetype": "text/x-python",
   "name": "python",
   "nbconvert_exporter": "python",
   "pygments_lexer": "ipython3",
   "version": "3.6.3"
  }
 },
 "nbformat": 4,
 "nbformat_minor": 2
}
