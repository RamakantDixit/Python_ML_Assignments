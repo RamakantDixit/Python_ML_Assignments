{
 "cells": [
  {
   "cell_type": "code",
   "execution_count": 1,
   "metadata": {},
   "outputs": [],
   "source": [
    "import pandas as pd\n",
    "import numpy as np\n",
    "from sklearn.impute import KNNImputer\n",
    "import seaborn as sns\n",
    "import matplotlib.pyplot as plt\n",
    "from sklearn.linear_model import LogisticRegression\n",
    "from sklearn.model_selection import train_test_split\n",
    "from sklearn.linear_model import LinearRegression\n",
    "from sklearn.cluster import KMeans"
   ]
  },
  {
   "cell_type": "markdown",
   "metadata": {},
   "source": [
    "## Date Preparation and Exploration: "
   ]
  },
  {
   "cell_type": "markdown",
   "metadata": {},
   "source": [
    "#### 1.Reading a Titanic dataset from a CSV file"
   ]
  },
  {
   "cell_type": "code",
   "execution_count": 2,
   "metadata": {},
   "outputs": [
    {
     "data": {
      "text/html": [
       "<div>\n",
       "<style scoped>\n",
       "    .dataframe tbody tr th:only-of-type {\n",
       "        vertical-align: middle;\n",
       "    }\n",
       "\n",
       "    .dataframe tbody tr th {\n",
       "        vertical-align: top;\n",
       "    }\n",
       "\n",
       "    .dataframe thead th {\n",
       "        text-align: right;\n",
       "    }\n",
       "</style>\n",
       "<table border=\"1\" class=\"dataframe\">\n",
       "  <thead>\n",
       "    <tr style=\"text-align: right;\">\n",
       "      <th></th>\n",
       "      <th>PassengerId</th>\n",
       "      <th>Survived</th>\n",
       "      <th>Pclass</th>\n",
       "      <th>Name</th>\n",
       "      <th>Sex</th>\n",
       "      <th>Age</th>\n",
       "      <th>SibSp</th>\n",
       "      <th>Parch</th>\n",
       "      <th>Ticket</th>\n",
       "      <th>Fare</th>\n",
       "      <th>Cabin</th>\n",
       "      <th>Embarked</th>\n",
       "    </tr>\n",
       "  </thead>\n",
       "  <tbody>\n",
       "    <tr>\n",
       "      <th>0</th>\n",
       "      <td>1</td>\n",
       "      <td>0</td>\n",
       "      <td>3</td>\n",
       "      <td>Braund, Mr. Owen Harris</td>\n",
       "      <td>male</td>\n",
       "      <td>22.0</td>\n",
       "      <td>1</td>\n",
       "      <td>0</td>\n",
       "      <td>A/5 21171</td>\n",
       "      <td>7.2500</td>\n",
       "      <td>NaN</td>\n",
       "      <td>S</td>\n",
       "    </tr>\n",
       "    <tr>\n",
       "      <th>1</th>\n",
       "      <td>2</td>\n",
       "      <td>1</td>\n",
       "      <td>1</td>\n",
       "      <td>Cumings, Mrs. John Bradley (Florence Briggs Th...</td>\n",
       "      <td>female</td>\n",
       "      <td>38.0</td>\n",
       "      <td>1</td>\n",
       "      <td>0</td>\n",
       "      <td>PC 17599</td>\n",
       "      <td>71.2833</td>\n",
       "      <td>C85</td>\n",
       "      <td>C</td>\n",
       "    </tr>\n",
       "    <tr>\n",
       "      <th>2</th>\n",
       "      <td>3</td>\n",
       "      <td>1</td>\n",
       "      <td>3</td>\n",
       "      <td>Heikkinen, Miss. Laina</td>\n",
       "      <td>female</td>\n",
       "      <td>26.0</td>\n",
       "      <td>0</td>\n",
       "      <td>0</td>\n",
       "      <td>STON/O2. 3101282</td>\n",
       "      <td>7.9250</td>\n",
       "      <td>NaN</td>\n",
       "      <td>S</td>\n",
       "    </tr>\n",
       "    <tr>\n",
       "      <th>3</th>\n",
       "      <td>4</td>\n",
       "      <td>1</td>\n",
       "      <td>1</td>\n",
       "      <td>Futrelle, Mrs. Jacques Heath (Lily May Peel)</td>\n",
       "      <td>female</td>\n",
       "      <td>35.0</td>\n",
       "      <td>1</td>\n",
       "      <td>0</td>\n",
       "      <td>113803</td>\n",
       "      <td>53.1000</td>\n",
       "      <td>C123</td>\n",
       "      <td>S</td>\n",
       "    </tr>\n",
       "    <tr>\n",
       "      <th>4</th>\n",
       "      <td>5</td>\n",
       "      <td>0</td>\n",
       "      <td>3</td>\n",
       "      <td>Allen, Mr. William Henry</td>\n",
       "      <td>male</td>\n",
       "      <td>35.0</td>\n",
       "      <td>0</td>\n",
       "      <td>0</td>\n",
       "      <td>373450</td>\n",
       "      <td>8.0500</td>\n",
       "      <td>NaN</td>\n",
       "      <td>S</td>\n",
       "    </tr>\n",
       "  </tbody>\n",
       "</table>\n",
       "</div>"
      ],
      "text/plain": [
       "   PassengerId  Survived  Pclass  \\\n",
       "0            1         0       3   \n",
       "1            2         1       1   \n",
       "2            3         1       3   \n",
       "3            4         1       1   \n",
       "4            5         0       3   \n",
       "\n",
       "                                                Name     Sex   Age  SibSp  \\\n",
       "0                            Braund, Mr. Owen Harris    male  22.0      1   \n",
       "1  Cumings, Mrs. John Bradley (Florence Briggs Th...  female  38.0      1   \n",
       "2                             Heikkinen, Miss. Laina  female  26.0      0   \n",
       "3       Futrelle, Mrs. Jacques Heath (Lily May Peel)  female  35.0      1   \n",
       "4                           Allen, Mr. William Henry    male  35.0      0   \n",
       "\n",
       "   Parch            Ticket     Fare Cabin Embarked  \n",
       "0      0         A/5 21171   7.2500   NaN        S  \n",
       "1      0          PC 17599  71.2833   C85        C  \n",
       "2      0  STON/O2. 3101282   7.9250   NaN        S  \n",
       "3      0            113803  53.1000  C123        S  \n",
       "4      0            373450   8.0500   NaN        S  "
      ]
     },
     "execution_count": 2,
     "metadata": {},
     "output_type": "execute_result"
    }
   ],
   "source": [
    "Titanic_df=pd.read_csv(\"Titanic data.csv\")\n",
    "Titanic_df.head()"
   ]
  },
  {
   "cell_type": "markdown",
   "metadata": {},
   "source": [
    "#### 2. Detecting missing values "
   ]
  },
  {
   "cell_type": "code",
   "execution_count": 3,
   "metadata": {},
   "outputs": [
    {
     "name": "stdout",
     "output_type": "stream",
     "text": [
      "<class 'pandas.core.frame.DataFrame'>\n",
      "RangeIndex: 891 entries, 0 to 890\n",
      "Data columns (total 12 columns):\n",
      " #   Column       Non-Null Count  Dtype  \n",
      "---  ------       --------------  -----  \n",
      " 0   PassengerId  891 non-null    int64  \n",
      " 1   Survived     891 non-null    int64  \n",
      " 2   Pclass       891 non-null    int64  \n",
      " 3   Name         891 non-null    object \n",
      " 4   Sex          891 non-null    object \n",
      " 5   Age          714 non-null    float64\n",
      " 6   SibSp        891 non-null    int64  \n",
      " 7   Parch        891 non-null    int64  \n",
      " 8   Ticket       891 non-null    object \n",
      " 9   Fare         891 non-null    float64\n",
      " 10  Cabin        204 non-null    object \n",
      " 11  Embarked     889 non-null    object \n",
      "dtypes: float64(2), int64(5), object(5)\n",
      "memory usage: 83.7+ KB\n"
     ]
    }
   ],
   "source": [
    "Titanic_df.info()"
   ]
  },
  {
   "cell_type": "code",
   "execution_count": 4,
   "metadata": {},
   "outputs": [
    {
     "name": "stdout",
     "output_type": "stream",
     "text": [
      "missing value for Age=177, percentage=19.865319865319865\n",
      "missing value for Cabin=687, percentage=77.10437710437711\n",
      "missing value for Embarked=2, percentage=0.22446689113355783\n"
     ]
    }
   ],
   "source": [
    "print(\"missing value for Age={0}, percentage={1}\".format(Titanic_df['Age'].isnull().sum(),(Titanic_df['Age'].isnull().sum()/Titanic_df.shape[0])*100))\n",
    "print(\"missing value for Cabin={0}, percentage={1}\".format(Titanic_df['Cabin'].isnull().sum(),(Titanic_df['Cabin'].isnull().sum()/Titanic_df.shape[0])*100))\n",
    "print(\"missing value for Embarked={0}, percentage={1}\".format(Titanic_df['Embarked'].isnull().sum(),(Titanic_df['Embarked'].isnull().sum()/Titanic_df.shape[0])*100))\n"
   ]
  },
  {
   "cell_type": "markdown",
   "metadata": {},
   "source": [
    "#### 3.Imputing missing values "
   ]
  },
  {
   "cell_type": "code",
   "execution_count": 5,
   "metadata": {},
   "outputs": [
    {
     "data": {
      "text/html": [
       "<div>\n",
       "<style scoped>\n",
       "    .dataframe tbody tr th:only-of-type {\n",
       "        vertical-align: middle;\n",
       "    }\n",
       "\n",
       "    .dataframe tbody tr th {\n",
       "        vertical-align: top;\n",
       "    }\n",
       "\n",
       "    .dataframe thead th {\n",
       "        text-align: right;\n",
       "    }\n",
       "</style>\n",
       "<table border=\"1\" class=\"dataframe\">\n",
       "  <thead>\n",
       "    <tr style=\"text-align: right;\">\n",
       "      <th></th>\n",
       "      <th>PassengerId</th>\n",
       "      <th>Survived</th>\n",
       "      <th>Pclass</th>\n",
       "      <th>Name</th>\n",
       "      <th>Sex</th>\n",
       "      <th>Age</th>\n",
       "      <th>SibSp</th>\n",
       "      <th>Parch</th>\n",
       "      <th>Ticket</th>\n",
       "      <th>Fare</th>\n",
       "      <th>Embarked</th>\n",
       "    </tr>\n",
       "  </thead>\n",
       "  <tbody>\n",
       "    <tr>\n",
       "      <th>0</th>\n",
       "      <td>1</td>\n",
       "      <td>0</td>\n",
       "      <td>3</td>\n",
       "      <td>Braund, Mr. Owen Harris</td>\n",
       "      <td>male</td>\n",
       "      <td>22.0</td>\n",
       "      <td>1</td>\n",
       "      <td>0</td>\n",
       "      <td>A/5 21171</td>\n",
       "      <td>7.2500</td>\n",
       "      <td>S</td>\n",
       "    </tr>\n",
       "    <tr>\n",
       "      <th>1</th>\n",
       "      <td>2</td>\n",
       "      <td>1</td>\n",
       "      <td>1</td>\n",
       "      <td>Cumings, Mrs. John Bradley (Florence Briggs Th...</td>\n",
       "      <td>female</td>\n",
       "      <td>38.0</td>\n",
       "      <td>1</td>\n",
       "      <td>0</td>\n",
       "      <td>PC 17599</td>\n",
       "      <td>71.2833</td>\n",
       "      <td>C</td>\n",
       "    </tr>\n",
       "    <tr>\n",
       "      <th>2</th>\n",
       "      <td>3</td>\n",
       "      <td>1</td>\n",
       "      <td>3</td>\n",
       "      <td>Heikkinen, Miss. Laina</td>\n",
       "      <td>female</td>\n",
       "      <td>26.0</td>\n",
       "      <td>0</td>\n",
       "      <td>0</td>\n",
       "      <td>STON/O2. 3101282</td>\n",
       "      <td>7.9250</td>\n",
       "      <td>S</td>\n",
       "    </tr>\n",
       "    <tr>\n",
       "      <th>3</th>\n",
       "      <td>4</td>\n",
       "      <td>1</td>\n",
       "      <td>1</td>\n",
       "      <td>Futrelle, Mrs. Jacques Heath (Lily May Peel)</td>\n",
       "      <td>female</td>\n",
       "      <td>35.0</td>\n",
       "      <td>1</td>\n",
       "      <td>0</td>\n",
       "      <td>113803</td>\n",
       "      <td>53.1000</td>\n",
       "      <td>S</td>\n",
       "    </tr>\n",
       "    <tr>\n",
       "      <th>4</th>\n",
       "      <td>5</td>\n",
       "      <td>0</td>\n",
       "      <td>3</td>\n",
       "      <td>Allen, Mr. William Henry</td>\n",
       "      <td>male</td>\n",
       "      <td>35.0</td>\n",
       "      <td>0</td>\n",
       "      <td>0</td>\n",
       "      <td>373450</td>\n",
       "      <td>8.0500</td>\n",
       "      <td>S</td>\n",
       "    </tr>\n",
       "  </tbody>\n",
       "</table>\n",
       "</div>"
      ],
      "text/plain": [
       "   PassengerId  Survived  Pclass  \\\n",
       "0            1         0       3   \n",
       "1            2         1       1   \n",
       "2            3         1       3   \n",
       "3            4         1       1   \n",
       "4            5         0       3   \n",
       "\n",
       "                                                Name     Sex   Age  SibSp  \\\n",
       "0                            Braund, Mr. Owen Harris    male  22.0      1   \n",
       "1  Cumings, Mrs. John Bradley (Florence Briggs Th...  female  38.0      1   \n",
       "2                             Heikkinen, Miss. Laina  female  26.0      0   \n",
       "3       Futrelle, Mrs. Jacques Heath (Lily May Peel)  female  35.0      1   \n",
       "4                           Allen, Mr. William Henry    male  35.0      0   \n",
       "\n",
       "   Parch            Ticket     Fare Embarked  \n",
       "0      0         A/5 21171   7.2500        S  \n",
       "1      0          PC 17599  71.2833        C  \n",
       "2      0  STON/O2. 3101282   7.9250        S  \n",
       "3      0            113803  53.1000        S  \n",
       "4      0            373450   8.0500        S  "
      ]
     },
     "execution_count": 5,
     "metadata": {},
     "output_type": "execute_result"
    }
   ],
   "source": [
    "#Cabin has around 77% missing values so will drop this column.\n",
    "Titanic_df.drop('Cabin',axis=1,inplace=True)\n",
    "Titanic_df.head()"
   ]
  },
  {
   "cell_type": "code",
   "execution_count": 6,
   "metadata": {},
   "outputs": [],
   "source": [
    "# get the count of each category for Embarked\n",
    "Titanic_df_gb=Titanic_df.groupby(['Embarked']).count()"
   ]
  },
  {
   "cell_type": "code",
   "execution_count": 7,
   "metadata": {},
   "outputs": [
    {
     "data": {
      "text/html": [
       "<div>\n",
       "<style scoped>\n",
       "    .dataframe tbody tr th:only-of-type {\n",
       "        vertical-align: middle;\n",
       "    }\n",
       "\n",
       "    .dataframe tbody tr th {\n",
       "        vertical-align: top;\n",
       "    }\n",
       "\n",
       "    .dataframe thead th {\n",
       "        text-align: right;\n",
       "    }\n",
       "</style>\n",
       "<table border=\"1\" class=\"dataframe\">\n",
       "  <thead>\n",
       "    <tr style=\"text-align: right;\">\n",
       "      <th></th>\n",
       "      <th>PassengerId</th>\n",
       "      <th>Survived</th>\n",
       "      <th>Pclass</th>\n",
       "      <th>Name</th>\n",
       "      <th>Sex</th>\n",
       "      <th>Age</th>\n",
       "      <th>SibSp</th>\n",
       "      <th>Parch</th>\n",
       "      <th>Ticket</th>\n",
       "      <th>Fare</th>\n",
       "    </tr>\n",
       "    <tr>\n",
       "      <th>Embarked</th>\n",
       "      <th></th>\n",
       "      <th></th>\n",
       "      <th></th>\n",
       "      <th></th>\n",
       "      <th></th>\n",
       "      <th></th>\n",
       "      <th></th>\n",
       "      <th></th>\n",
       "      <th></th>\n",
       "      <th></th>\n",
       "    </tr>\n",
       "  </thead>\n",
       "  <tbody>\n",
       "    <tr>\n",
       "      <th>C</th>\n",
       "      <td>168</td>\n",
       "      <td>168</td>\n",
       "      <td>168</td>\n",
       "      <td>168</td>\n",
       "      <td>168</td>\n",
       "      <td>130</td>\n",
       "      <td>168</td>\n",
       "      <td>168</td>\n",
       "      <td>168</td>\n",
       "      <td>168</td>\n",
       "    </tr>\n",
       "    <tr>\n",
       "      <th>Q</th>\n",
       "      <td>77</td>\n",
       "      <td>77</td>\n",
       "      <td>77</td>\n",
       "      <td>77</td>\n",
       "      <td>77</td>\n",
       "      <td>28</td>\n",
       "      <td>77</td>\n",
       "      <td>77</td>\n",
       "      <td>77</td>\n",
       "      <td>77</td>\n",
       "    </tr>\n",
       "    <tr>\n",
       "      <th>S</th>\n",
       "      <td>644</td>\n",
       "      <td>644</td>\n",
       "      <td>644</td>\n",
       "      <td>644</td>\n",
       "      <td>644</td>\n",
       "      <td>554</td>\n",
       "      <td>644</td>\n",
       "      <td>644</td>\n",
       "      <td>644</td>\n",
       "      <td>644</td>\n",
       "    </tr>\n",
       "  </tbody>\n",
       "</table>\n",
       "</div>"
      ],
      "text/plain": [
       "          PassengerId  Survived  Pclass  Name  Sex  Age  SibSp  Parch  Ticket  \\\n",
       "Embarked                                                                        \n",
       "C                 168       168     168   168  168  130    168    168     168   \n",
       "Q                  77        77      77    77   77   28     77     77      77   \n",
       "S                 644       644     644   644  644  554    644    644     644   \n",
       "\n",
       "          Fare  \n",
       "Embarked        \n",
       "C          168  \n",
       "Q           77  \n",
       "S          644  "
      ]
     },
     "execution_count": 7,
     "metadata": {},
     "output_type": "execute_result"
    }
   ],
   "source": [
    "Titanic_df_gb.head()"
   ]
  },
  {
   "cell_type": "code",
   "execution_count": 8,
   "metadata": {},
   "outputs": [],
   "source": [
    "#in Embarked most likely value is S for missing values. replace missing values with S\n",
    "Titanic_df['Embarked'].fillna('S',inplace=True)"
   ]
  },
  {
   "cell_type": "code",
   "execution_count": 9,
   "metadata": {},
   "outputs": [],
   "source": [
    "# We will use KNNImputer to replace missingb  values for age\n",
    "Titanic_age=pd.DataFrame(Titanic_df['Age'])\n",
    "imputer = KNNImputer(n_neighbors=5)\n",
    "Titanic_age=imputer.fit_transform(Titanic_age)"
   ]
  },
  {
   "cell_type": "code",
   "execution_count": 10,
   "metadata": {},
   "outputs": [
    {
     "data": {
      "text/html": [
       "<div>\n",
       "<style scoped>\n",
       "    .dataframe tbody tr th:only-of-type {\n",
       "        vertical-align: middle;\n",
       "    }\n",
       "\n",
       "    .dataframe tbody tr th {\n",
       "        vertical-align: top;\n",
       "    }\n",
       "\n",
       "    .dataframe thead th {\n",
       "        text-align: right;\n",
       "    }\n",
       "</style>\n",
       "<table border=\"1\" class=\"dataframe\">\n",
       "  <thead>\n",
       "    <tr style=\"text-align: right;\">\n",
       "      <th></th>\n",
       "      <th>PassengerId</th>\n",
       "      <th>Survived</th>\n",
       "      <th>Pclass</th>\n",
       "      <th>Name</th>\n",
       "      <th>Sex</th>\n",
       "      <th>SibSp</th>\n",
       "      <th>Parch</th>\n",
       "      <th>Ticket</th>\n",
       "      <th>Fare</th>\n",
       "      <th>Embarked</th>\n",
       "      <th>Age_New</th>\n",
       "    </tr>\n",
       "  </thead>\n",
       "  <tbody>\n",
       "    <tr>\n",
       "      <th>0</th>\n",
       "      <td>1</td>\n",
       "      <td>0</td>\n",
       "      <td>3</td>\n",
       "      <td>Braund, Mr. Owen Harris</td>\n",
       "      <td>male</td>\n",
       "      <td>1</td>\n",
       "      <td>0</td>\n",
       "      <td>A/5 21171</td>\n",
       "      <td>7.2500</td>\n",
       "      <td>S</td>\n",
       "      <td>22.0</td>\n",
       "    </tr>\n",
       "    <tr>\n",
       "      <th>1</th>\n",
       "      <td>2</td>\n",
       "      <td>1</td>\n",
       "      <td>1</td>\n",
       "      <td>Cumings, Mrs. John Bradley (Florence Briggs Th...</td>\n",
       "      <td>female</td>\n",
       "      <td>1</td>\n",
       "      <td>0</td>\n",
       "      <td>PC 17599</td>\n",
       "      <td>71.2833</td>\n",
       "      <td>C</td>\n",
       "      <td>38.0</td>\n",
       "    </tr>\n",
       "    <tr>\n",
       "      <th>2</th>\n",
       "      <td>3</td>\n",
       "      <td>1</td>\n",
       "      <td>3</td>\n",
       "      <td>Heikkinen, Miss. Laina</td>\n",
       "      <td>female</td>\n",
       "      <td>0</td>\n",
       "      <td>0</td>\n",
       "      <td>STON/O2. 3101282</td>\n",
       "      <td>7.9250</td>\n",
       "      <td>S</td>\n",
       "      <td>26.0</td>\n",
       "    </tr>\n",
       "    <tr>\n",
       "      <th>3</th>\n",
       "      <td>4</td>\n",
       "      <td>1</td>\n",
       "      <td>1</td>\n",
       "      <td>Futrelle, Mrs. Jacques Heath (Lily May Peel)</td>\n",
       "      <td>female</td>\n",
       "      <td>1</td>\n",
       "      <td>0</td>\n",
       "      <td>113803</td>\n",
       "      <td>53.1000</td>\n",
       "      <td>S</td>\n",
       "      <td>35.0</td>\n",
       "    </tr>\n",
       "    <tr>\n",
       "      <th>4</th>\n",
       "      <td>5</td>\n",
       "      <td>0</td>\n",
       "      <td>3</td>\n",
       "      <td>Allen, Mr. William Henry</td>\n",
       "      <td>male</td>\n",
       "      <td>0</td>\n",
       "      <td>0</td>\n",
       "      <td>373450</td>\n",
       "      <td>8.0500</td>\n",
       "      <td>S</td>\n",
       "      <td>35.0</td>\n",
       "    </tr>\n",
       "    <tr>\n",
       "      <th>5</th>\n",
       "      <td>6</td>\n",
       "      <td>0</td>\n",
       "      <td>3</td>\n",
       "      <td>Moran, Mr. James</td>\n",
       "      <td>male</td>\n",
       "      <td>0</td>\n",
       "      <td>0</td>\n",
       "      <td>330877</td>\n",
       "      <td>8.4583</td>\n",
       "      <td>Q</td>\n",
       "      <td>30.0</td>\n",
       "    </tr>\n",
       "    <tr>\n",
       "      <th>6</th>\n",
       "      <td>7</td>\n",
       "      <td>0</td>\n",
       "      <td>1</td>\n",
       "      <td>McCarthy, Mr. Timothy J</td>\n",
       "      <td>male</td>\n",
       "      <td>0</td>\n",
       "      <td>0</td>\n",
       "      <td>17463</td>\n",
       "      <td>51.8625</td>\n",
       "      <td>S</td>\n",
       "      <td>54.0</td>\n",
       "    </tr>\n",
       "    <tr>\n",
       "      <th>7</th>\n",
       "      <td>8</td>\n",
       "      <td>0</td>\n",
       "      <td>3</td>\n",
       "      <td>Palsson, Master. Gosta Leonard</td>\n",
       "      <td>male</td>\n",
       "      <td>3</td>\n",
       "      <td>1</td>\n",
       "      <td>349909</td>\n",
       "      <td>21.0750</td>\n",
       "      <td>S</td>\n",
       "      <td>2.0</td>\n",
       "    </tr>\n",
       "    <tr>\n",
       "      <th>8</th>\n",
       "      <td>9</td>\n",
       "      <td>1</td>\n",
       "      <td>3</td>\n",
       "      <td>Johnson, Mrs. Oscar W (Elisabeth Vilhelmina Berg)</td>\n",
       "      <td>female</td>\n",
       "      <td>0</td>\n",
       "      <td>2</td>\n",
       "      <td>347742</td>\n",
       "      <td>11.1333</td>\n",
       "      <td>S</td>\n",
       "      <td>27.0</td>\n",
       "    </tr>\n",
       "    <tr>\n",
       "      <th>9</th>\n",
       "      <td>10</td>\n",
       "      <td>1</td>\n",
       "      <td>2</td>\n",
       "      <td>Nasser, Mrs. Nicholas (Adele Achem)</td>\n",
       "      <td>female</td>\n",
       "      <td>1</td>\n",
       "      <td>0</td>\n",
       "      <td>237736</td>\n",
       "      <td>30.0708</td>\n",
       "      <td>C</td>\n",
       "      <td>14.0</td>\n",
       "    </tr>\n",
       "    <tr>\n",
       "      <th>10</th>\n",
       "      <td>11</td>\n",
       "      <td>1</td>\n",
       "      <td>3</td>\n",
       "      <td>Sandstrom, Miss. Marguerite Rut</td>\n",
       "      <td>female</td>\n",
       "      <td>1</td>\n",
       "      <td>1</td>\n",
       "      <td>PP 9549</td>\n",
       "      <td>16.7000</td>\n",
       "      <td>S</td>\n",
       "      <td>4.0</td>\n",
       "    </tr>\n",
       "    <tr>\n",
       "      <th>11</th>\n",
       "      <td>12</td>\n",
       "      <td>1</td>\n",
       "      <td>1</td>\n",
       "      <td>Bonnell, Miss. Elizabeth</td>\n",
       "      <td>female</td>\n",
       "      <td>0</td>\n",
       "      <td>0</td>\n",
       "      <td>113783</td>\n",
       "      <td>26.5500</td>\n",
       "      <td>S</td>\n",
       "      <td>58.0</td>\n",
       "    </tr>\n",
       "    <tr>\n",
       "      <th>12</th>\n",
       "      <td>13</td>\n",
       "      <td>0</td>\n",
       "      <td>3</td>\n",
       "      <td>Saundercock, Mr. William Henry</td>\n",
       "      <td>male</td>\n",
       "      <td>0</td>\n",
       "      <td>0</td>\n",
       "      <td>A/5. 2151</td>\n",
       "      <td>8.0500</td>\n",
       "      <td>S</td>\n",
       "      <td>20.0</td>\n",
       "    </tr>\n",
       "    <tr>\n",
       "      <th>13</th>\n",
       "      <td>14</td>\n",
       "      <td>0</td>\n",
       "      <td>3</td>\n",
       "      <td>Andersson, Mr. Anders Johan</td>\n",
       "      <td>male</td>\n",
       "      <td>1</td>\n",
       "      <td>5</td>\n",
       "      <td>347082</td>\n",
       "      <td>31.2750</td>\n",
       "      <td>S</td>\n",
       "      <td>39.0</td>\n",
       "    </tr>\n",
       "    <tr>\n",
       "      <th>14</th>\n",
       "      <td>15</td>\n",
       "      <td>0</td>\n",
       "      <td>3</td>\n",
       "      <td>Vestrom, Miss. Hulda Amanda Adolfina</td>\n",
       "      <td>female</td>\n",
       "      <td>0</td>\n",
       "      <td>0</td>\n",
       "      <td>350406</td>\n",
       "      <td>7.8542</td>\n",
       "      <td>S</td>\n",
       "      <td>14.0</td>\n",
       "    </tr>\n",
       "    <tr>\n",
       "      <th>15</th>\n",
       "      <td>16</td>\n",
       "      <td>1</td>\n",
       "      <td>2</td>\n",
       "      <td>Hewlett, Mrs. (Mary D Kingcome)</td>\n",
       "      <td>female</td>\n",
       "      <td>0</td>\n",
       "      <td>0</td>\n",
       "      <td>248706</td>\n",
       "      <td>16.0000</td>\n",
       "      <td>S</td>\n",
       "      <td>55.0</td>\n",
       "    </tr>\n",
       "    <tr>\n",
       "      <th>16</th>\n",
       "      <td>17</td>\n",
       "      <td>0</td>\n",
       "      <td>3</td>\n",
       "      <td>Rice, Master. Eugene</td>\n",
       "      <td>male</td>\n",
       "      <td>4</td>\n",
       "      <td>1</td>\n",
       "      <td>382652</td>\n",
       "      <td>29.1250</td>\n",
       "      <td>Q</td>\n",
       "      <td>2.0</td>\n",
       "    </tr>\n",
       "    <tr>\n",
       "      <th>17</th>\n",
       "      <td>18</td>\n",
       "      <td>1</td>\n",
       "      <td>2</td>\n",
       "      <td>Williams, Mr. Charles Eugene</td>\n",
       "      <td>male</td>\n",
       "      <td>0</td>\n",
       "      <td>0</td>\n",
       "      <td>244373</td>\n",
       "      <td>13.0000</td>\n",
       "      <td>S</td>\n",
       "      <td>30.0</td>\n",
       "    </tr>\n",
       "    <tr>\n",
       "      <th>18</th>\n",
       "      <td>19</td>\n",
       "      <td>0</td>\n",
       "      <td>3</td>\n",
       "      <td>Vander Planke, Mrs. Julius (Emelia Maria Vande...</td>\n",
       "      <td>female</td>\n",
       "      <td>1</td>\n",
       "      <td>0</td>\n",
       "      <td>345763</td>\n",
       "      <td>18.0000</td>\n",
       "      <td>S</td>\n",
       "      <td>31.0</td>\n",
       "    </tr>\n",
       "    <tr>\n",
       "      <th>19</th>\n",
       "      <td>20</td>\n",
       "      <td>1</td>\n",
       "      <td>3</td>\n",
       "      <td>Masselmani, Mrs. Fatima</td>\n",
       "      <td>female</td>\n",
       "      <td>0</td>\n",
       "      <td>0</td>\n",
       "      <td>2649</td>\n",
       "      <td>7.2250</td>\n",
       "      <td>C</td>\n",
       "      <td>30.0</td>\n",
       "    </tr>\n",
       "  </tbody>\n",
       "</table>\n",
       "</div>"
      ],
      "text/plain": [
       "    PassengerId  Survived  Pclass  \\\n",
       "0             1         0       3   \n",
       "1             2         1       1   \n",
       "2             3         1       3   \n",
       "3             4         1       1   \n",
       "4             5         0       3   \n",
       "5             6         0       3   \n",
       "6             7         0       1   \n",
       "7             8         0       3   \n",
       "8             9         1       3   \n",
       "9            10         1       2   \n",
       "10           11         1       3   \n",
       "11           12         1       1   \n",
       "12           13         0       3   \n",
       "13           14         0       3   \n",
       "14           15         0       3   \n",
       "15           16         1       2   \n",
       "16           17         0       3   \n",
       "17           18         1       2   \n",
       "18           19         0       3   \n",
       "19           20         1       3   \n",
       "\n",
       "                                                 Name     Sex  SibSp  Parch  \\\n",
       "0                             Braund, Mr. Owen Harris    male      1      0   \n",
       "1   Cumings, Mrs. John Bradley (Florence Briggs Th...  female      1      0   \n",
       "2                              Heikkinen, Miss. Laina  female      0      0   \n",
       "3        Futrelle, Mrs. Jacques Heath (Lily May Peel)  female      1      0   \n",
       "4                            Allen, Mr. William Henry    male      0      0   \n",
       "5                                    Moran, Mr. James    male      0      0   \n",
       "6                             McCarthy, Mr. Timothy J    male      0      0   \n",
       "7                      Palsson, Master. Gosta Leonard    male      3      1   \n",
       "8   Johnson, Mrs. Oscar W (Elisabeth Vilhelmina Berg)  female      0      2   \n",
       "9                 Nasser, Mrs. Nicholas (Adele Achem)  female      1      0   \n",
       "10                    Sandstrom, Miss. Marguerite Rut  female      1      1   \n",
       "11                           Bonnell, Miss. Elizabeth  female      0      0   \n",
       "12                     Saundercock, Mr. William Henry    male      0      0   \n",
       "13                        Andersson, Mr. Anders Johan    male      1      5   \n",
       "14               Vestrom, Miss. Hulda Amanda Adolfina  female      0      0   \n",
       "15                   Hewlett, Mrs. (Mary D Kingcome)   female      0      0   \n",
       "16                               Rice, Master. Eugene    male      4      1   \n",
       "17                       Williams, Mr. Charles Eugene    male      0      0   \n",
       "18  Vander Planke, Mrs. Julius (Emelia Maria Vande...  female      1      0   \n",
       "19                            Masselmani, Mrs. Fatima  female      0      0   \n",
       "\n",
       "              Ticket     Fare Embarked  Age_New  \n",
       "0          A/5 21171   7.2500        S     22.0  \n",
       "1           PC 17599  71.2833        C     38.0  \n",
       "2   STON/O2. 3101282   7.9250        S     26.0  \n",
       "3             113803  53.1000        S     35.0  \n",
       "4             373450   8.0500        S     35.0  \n",
       "5             330877   8.4583        Q     30.0  \n",
       "6              17463  51.8625        S     54.0  \n",
       "7             349909  21.0750        S      2.0  \n",
       "8             347742  11.1333        S     27.0  \n",
       "9             237736  30.0708        C     14.0  \n",
       "10           PP 9549  16.7000        S      4.0  \n",
       "11            113783  26.5500        S     58.0  \n",
       "12         A/5. 2151   8.0500        S     20.0  \n",
       "13            347082  31.2750        S     39.0  \n",
       "14            350406   7.8542        S     14.0  \n",
       "15            248706  16.0000        S     55.0  \n",
       "16            382652  29.1250        Q      2.0  \n",
       "17            244373  13.0000        S     30.0  \n",
       "18            345763  18.0000        S     31.0  \n",
       "19              2649   7.2250        C     30.0  "
      ]
     },
     "execution_count": 10,
     "metadata": {},
     "output_type": "execute_result"
    }
   ],
   "source": [
    "#join the data frame\n",
    "Titanic_df['Age_New']=pd.DataFrame(np.round(Titanic_age))\n",
    "Titanic_df.drop('Age',axis=1,inplace=True)\n",
    "Titanic_df.head(20)\n"
   ]
  },
  {
   "cell_type": "markdown",
   "metadata": {},
   "source": [
    "#### 4.Exploring and visualizing data "
   ]
  },
  {
   "cell_type": "code",
   "execution_count": 11,
   "metadata": {},
   "outputs": [
    {
     "data": {
      "image/png": "[encoded data removed]",
      "text/plain": [
       "<Figure size 432x288 with 1 Axes>"
      ]
     },
     "metadata": {
      "needs_background": "light"
     },
     "output_type": "display_data"
    }
   ],
   "source": [
    "# a) Bar Plot which shows how many passengers survived and how many perished\n",
    "ax=sns.countplot(x=Titanic_df['Survived'],palette=['r','g'])\n",
    "ax.set_xticklabels([\"perished\",\"Survived\"])\n",
    "for p in ax.patches:\n",
    "    ax.annotate(p.get_height(),(p.get_x()+0.15, p.get_height()+1))"
   ]
  },
  {
   "cell_type": "code",
   "execution_count": 12,
   "metadata": {},
   "outputs": [
    {
     "data": {
      "image/png": "[encoded data removed]",
      "text/plain": [
       "<Figure size 432x288 with 1 Axes>"
      ]
     },
     "metadata": {
      "needs_background": "light"
     },
     "output_type": "display_data"
    }
   ],
   "source": [
    "# b)Bar Plot which shows how many passesngers travelled by first class, second class and thrid class\n",
    "ax=sns.countplot(x=Titanic_df['Pclass'])\n",
    "ax.set_xticklabels([\"first class\",\"second class\",\"third class\"]) \n",
    "for p in ax.patches:\n",
    "    ax.annotate(p.get_height(),(p.get_x()+0.15, p.get_height()+1))\n"
   ]
  },
  {
   "cell_type": "code",
   "execution_count": 13,
   "metadata": {},
   "outputs": [
    {
     "data": {
      "image/png": "[encoded data removed]",
      "text/plain": [
       "<Figure size 432x288 with 1 Axes>"
      ]
     },
     "metadata": {
      "needs_background": "light"
     },
     "output_type": "display_data"
    }
   ],
   "source": [
    "# c) Barplot which shows how many are male passengers and how many are female passengers\n",
    "ax=sns.countplot(x=Titanic_df['Sex'])\n",
    "for p in ax.patches:\n",
    "    ax.annotate(p.get_height(),(p.get_x()+0.15, p.get_height()+1))"
   ]
  },
  {
   "cell_type": "code",
   "execution_count": 14,
   "metadata": {},
   "outputs": [
    {
     "data": {
      "text/plain": [
       "<matplotlib.axes._subplots.AxesSubplot at 0x27dfe778970>"
      ]
     },
     "execution_count": 14,
     "metadata": {},
     "output_type": "execute_result"
    },
    {
     "data": {
      "image/png": "[encoded data removed]",
      "text/plain": [
       "<Figure size 432x288 with 1 Axes>"
      ]
     },
     "metadata": {
      "needs_background": "light"
     },
     "output_type": "display_data"
    }
   ],
   "source": [
    "# d) plot histogram of different ages\n",
    "sns.distplot(Titanic_df['Age_New'])"
   ]
  },
  {
   "cell_type": "code",
   "execution_count": 15,
   "metadata": {},
   "outputs": [
    {
     "data": {
      "text/plain": [
       "<matplotlib.axes._subplots.AxesSubplot at 0x27dfe7b18e0>"
      ]
     },
     "execution_count": 15,
     "metadata": {},
     "output_type": "execute_result"
    },
    {
     "data": {
      "image/png": "[encoded data removed]",
      "text/plain": [
       "<Figure size 432x288 with 1 Axes>"
      ]
     },
     "metadata": {
      "needs_background": "light"
     },
     "output_type": "display_data"
    }
   ],
   "source": [
    "#e) Stacked barplot's  to find out \n",
    "# -which gender is more likely to perish during shipwrecks\n",
    "Titanic_gen_gb=Titanic_df[['Sex','Survived']].groupby('Sex').sum().reset_index()\n",
    "sns.barplot(x='Sex',y='Survived',data=Titanic_gen_gb,hue='Survived')"
   ]
  },
  {
   "cell_type": "code",
   "execution_count": 16,
   "metadata": {},
   "outputs": [
    {
     "data": {
      "text/plain": [
       "[Text(0, 0, 'first class'),\n",
       " Text(0, 0, 'second class'),\n",
       " Text(0, 0, 'third class')]"
      ]
     },
     "execution_count": 16,
     "metadata": {},
     "output_type": "execute_result"
    },
    {
     "data": {
      "image/png": "[encoded data removed]",
      "text/plain": [
       "<Figure size 432x288 with 1 Axes>"
      ]
     },
     "metadata": {
      "needs_background": "light"
     },
     "output_type": "display_data"
    }
   ],
   "source": [
    "# -Passenger survival by class\n",
    "Titanic_class_gb=Titanic_df[['Pclass','Survived']].groupby('Pclass').count().reset_index()\n",
    "ax=sns.barplot(x='Pclass',y='Survived',data=Titanic_class_gb,hue='Survived')\n",
    "ax.set_xticklabels([\"first class\",\"second class\",\"third class\"]) "
   ]
  },
  {
   "cell_type": "code",
   "execution_count": 17,
   "metadata": {},
   "outputs": [
    {
     "data": {
      "image/png": "[encoded data removed]",
      "text/plain": [
       "<Figure size 432x288 with 1 Axes>"
      ]
     },
     "metadata": {
      "needs_background": "light"
     },
     "output_type": "display_data"
    }
   ],
   "source": [
    "#f) Box Plot which shows passenger survival by age\n",
    "Titanic_Age_gb=Titanic_df[['Age_New','Survived']].groupby('Age_New').count().reset_index()\n",
    "ax = sns.boxplot(x='Age_New',hue=\"Survived\",data=Titanic_Age_gb,orient=\"h\")\n"
   ]
  },
  {
   "cell_type": "markdown",
   "metadata": {},
   "source": [
    "### Visualization"
   ]
  },
  {
   "cell_type": "markdown",
   "metadata": {},
   "source": [
    "#### 5. Read from sample superstore xl file  into pandas dataframe and perform below operations "
   ]
  },
  {
   "cell_type": "code",
   "execution_count": 18,
   "metadata": {},
   "outputs": [
    {
     "data": {
      "text/html": [
       "<div>\n",
       "<style scoped>\n",
       "    .dataframe tbody tr th:only-of-type {\n",
       "        vertical-align: middle;\n",
       "    }\n",
       "\n",
       "    .dataframe tbody tr th {\n",
       "        vertical-align: top;\n",
       "    }\n",
       "\n",
       "    .dataframe thead th {\n",
       "        text-align: right;\n",
       "    }\n",
       "</style>\n",
       "<table border=\"1\" class=\"dataframe\">\n",
       "  <thead>\n",
       "    <tr style=\"text-align: right;\">\n",
       "      <th></th>\n",
       "      <th>Row ID</th>\n",
       "      <th>Order ID</th>\n",
       "      <th>Order Date</th>\n",
       "      <th>Ship Date</th>\n",
       "      <th>Ship Mode</th>\n",
       "      <th>Customer ID</th>\n",
       "      <th>Customer Name</th>\n",
       "      <th>Segment</th>\n",
       "      <th>Country</th>\n",
       "      <th>City</th>\n",
       "      <th>...</th>\n",
       "      <th>Postal Code</th>\n",
       "      <th>Region</th>\n",
       "      <th>Product ID</th>\n",
       "      <th>Category</th>\n",
       "      <th>Sub-Category</th>\n",
       "      <th>Product Name</th>\n",
       "      <th>Sales</th>\n",
       "      <th>Quantity</th>\n",
       "      <th>Discount</th>\n",
       "      <th>Profit</th>\n",
       "    </tr>\n",
       "  </thead>\n",
       "  <tbody>\n",
       "    <tr>\n",
       "      <th>0</th>\n",
       "      <td>1</td>\n",
       "      <td>CA-2016-152156</td>\n",
       "      <td>2016-11-08</td>\n",
       "      <td>2016-11-11</td>\n",
       "      <td>Second Class</td>\n",
       "      <td>CG-12520</td>\n",
       "      <td>Claire Gute</td>\n",
       "      <td>Consumer</td>\n",
       "      <td>United States</td>\n",
       "      <td>Henderson</td>\n",
       "      <td>...</td>\n",
       "      <td>42420</td>\n",
       "      <td>South</td>\n",
       "      <td>FUR-BO-10001798</td>\n",
       "      <td>Furniture</td>\n",
       "      <td>Bookcases</td>\n",
       "      <td>Bush Somerset Collection Bookcase</td>\n",
       "      <td>261.9600</td>\n",
       "      <td>2</td>\n",
       "      <td>0.00</td>\n",
       "      <td>41.9136</td>\n",
       "    </tr>\n",
       "    <tr>\n",
       "      <th>1</th>\n",
       "      <td>2</td>\n",
       "      <td>CA-2016-152156</td>\n",
       "      <td>2016-11-08</td>\n",
       "      <td>2016-11-11</td>\n",
       "      <td>Second Class</td>\n",
       "      <td>CG-12520</td>\n",
       "      <td>Claire Gute</td>\n",
       "      <td>Consumer</td>\n",
       "      <td>United States</td>\n",
       "      <td>Henderson</td>\n",
       "      <td>...</td>\n",
       "      <td>42420</td>\n",
       "      <td>South</td>\n",
       "      <td>FUR-CH-10000454</td>\n",
       "      <td>Furniture</td>\n",
       "      <td>Chairs</td>\n",
       "      <td>Hon Deluxe Fabric Upholstered Stacking Chairs,...</td>\n",
       "      <td>731.9400</td>\n",
       "      <td>3</td>\n",
       "      <td>0.00</td>\n",
       "      <td>219.5820</td>\n",
       "    </tr>\n",
       "    <tr>\n",
       "      <th>2</th>\n",
       "      <td>3</td>\n",
       "      <td>CA-2016-138688</td>\n",
       "      <td>2016-06-12</td>\n",
       "      <td>2016-06-16</td>\n",
       "      <td>Second Class</td>\n",
       "      <td>DV-13045</td>\n",
       "      <td>Darrin Van Huff</td>\n",
       "      <td>Corporate</td>\n",
       "      <td>United States</td>\n",
       "      <td>Los Angeles</td>\n",
       "      <td>...</td>\n",
       "      <td>90036</td>\n",
       "      <td>West</td>\n",
       "      <td>OFF-LA-10000240</td>\n",
       "      <td>Office Supplies</td>\n",
       "      <td>Labels</td>\n",
       "      <td>Self-Adhesive Address Labels for Typewriters b...</td>\n",
       "      <td>14.6200</td>\n",
       "      <td>2</td>\n",
       "      <td>0.00</td>\n",
       "      <td>6.8714</td>\n",
       "    </tr>\n",
       "    <tr>\n",
       "      <th>3</th>\n",
       "      <td>4</td>\n",
       "      <td>US-2015-108966</td>\n",
       "      <td>2015-10-11</td>\n",
       "      <td>2015-10-18</td>\n",
       "      <td>Standard Class</td>\n",
       "      <td>SO-20335</td>\n",
       "      <td>Sean O'Donnell</td>\n",
       "      <td>Consumer</td>\n",
       "      <td>United States</td>\n",
       "      <td>Fort Lauderdale</td>\n",
       "      <td>...</td>\n",
       "      <td>33311</td>\n",
       "      <td>South</td>\n",
       "      <td>FUR-TA-10000577</td>\n",
       "      <td>Furniture</td>\n",
       "      <td>Tables</td>\n",
       "      <td>Bretford CR4500 Series Slim Rectangular Table</td>\n",
       "      <td>957.5775</td>\n",
       "      <td>5</td>\n",
       "      <td>0.45</td>\n",
       "      <td>-383.0310</td>\n",
       "    </tr>\n",
       "    <tr>\n",
       "      <th>4</th>\n",
       "      <td>5</td>\n",
       "      <td>US-2015-108966</td>\n",
       "      <td>2015-10-11</td>\n",
       "      <td>2015-10-18</td>\n",
       "      <td>Standard Class</td>\n",
       "      <td>SO-20335</td>\n",
       "      <td>Sean O'Donnell</td>\n",
       "      <td>Consumer</td>\n",
       "      <td>United States</td>\n",
       "      <td>Fort Lauderdale</td>\n",
       "      <td>...</td>\n",
       "      <td>33311</td>\n",
       "      <td>South</td>\n",
       "      <td>OFF-ST-10000760</td>\n",
       "      <td>Office Supplies</td>\n",
       "      <td>Storage</td>\n",
       "      <td>Eldon Fold 'N Roll Cart System</td>\n",
       "      <td>22.3680</td>\n",
       "      <td>2</td>\n",
       "      <td>0.20</td>\n",
       "      <td>2.5164</td>\n",
       "    </tr>\n",
       "  </tbody>\n",
       "</table>\n",
       "<p>5 rows × 21 columns</p>\n",
       "</div>"
      ],
      "text/plain": [
       "   Row ID        Order ID Order Date  Ship Date       Ship Mode Customer ID  \\\n",
       "0       1  CA-2016-152156 2016-11-08 2016-11-11    Second Class    CG-12520   \n",
       "1       2  CA-2016-152156 2016-11-08 2016-11-11    Second Class    CG-12520   \n",
       "2       3  CA-2016-138688 2016-06-12 2016-06-16    Second Class    DV-13045   \n",
       "3       4  US-2015-108966 2015-10-11 2015-10-18  Standard Class    SO-20335   \n",
       "4       5  US-2015-108966 2015-10-11 2015-10-18  Standard Class    SO-20335   \n",
       "\n",
       "     Customer Name    Segment        Country             City  ...  \\\n",
       "0      Claire Gute   Consumer  United States        Henderson  ...   \n",
       "1      Claire Gute   Consumer  United States        Henderson  ...   \n",
       "2  Darrin Van Huff  Corporate  United States      Los Angeles  ...   \n",
       "3   Sean O'Donnell   Consumer  United States  Fort Lauderdale  ...   \n",
       "4   Sean O'Donnell   Consumer  United States  Fort Lauderdale  ...   \n",
       "\n",
       "  Postal Code  Region       Product ID         Category Sub-Category  \\\n",
       "0       42420   South  FUR-BO-10001798        Furniture    Bookcases   \n",
       "1       42420   South  FUR-CH-10000454        Furniture       Chairs   \n",
       "2       90036    West  OFF-LA-10000240  Office Supplies       Labels   \n",
       "3       33311   South  FUR-TA-10000577        Furniture       Tables   \n",
       "4       33311   South  OFF-ST-10000760  Office Supplies      Storage   \n",
       "\n",
       "                                        Product Name     Sales  Quantity  \\\n",
       "0                  Bush Somerset Collection Bookcase  261.9600         2   \n",
       "1  Hon Deluxe Fabric Upholstered Stacking Chairs,...  731.9400         3   \n",
       "2  Self-Adhesive Address Labels for Typewriters b...   14.6200         2   \n",
       "3      Bretford CR4500 Series Slim Rectangular Table  957.5775         5   \n",
       "4                     Eldon Fold 'N Roll Cart System   22.3680         2   \n",
       "\n",
       "   Discount    Profit  \n",
       "0      0.00   41.9136  \n",
       "1      0.00  219.5820  \n",
       "2      0.00    6.8714  \n",
       "3      0.45 -383.0310  \n",
       "4      0.20    2.5164  \n",
       "\n",
       "[5 rows x 21 columns]"
      ]
     },
     "execution_count": 18,
     "metadata": {},
     "output_type": "execute_result"
    }
   ],
   "source": [
    "sample_df=pd.read_excel(\"sample_-_superstore_2.xls\")\n",
    "sample_df.head()"
   ]
  },
  {
   "cell_type": "code",
   "execution_count": 19,
   "metadata": {},
   "outputs": [
    {
     "data": {
      "text/plain": [
       "Sub-Category\n",
       "Accessories    41936.6357\n",
       "Appliances     18138.0054\n",
       "Art             6527.7870\n",
       "Binders        30221.7633\n",
       "Bookcases      -3472.5560\n",
       "Name: Profit, dtype: float64"
      ]
     },
     "execution_count": 19,
     "metadata": {},
     "output_type": "execute_result"
    }
   ],
   "source": [
    "#a) Display Subcategory wise sum of profit\n",
    "sample_sub_cat=sample_df.groupby('Sub-Category').sum()\n",
    "sample_sub_cat['Profit'].head()"
   ]
  },
  {
   "cell_type": "code",
   "execution_count": 20,
   "metadata": {},
   "outputs": [],
   "source": [
    "#b) Exclude Office Furniture SubCategory\n",
    "sample_df=sample_df[sample_df['Sub-Category']!='Office Furniture']"
   ]
  },
  {
   "cell_type": "code",
   "execution_count": 21,
   "metadata": {},
   "outputs": [
    {
     "data": {
      "text/html": [
       "<div>\n",
       "<style scoped>\n",
       "    .dataframe tbody tr th:only-of-type {\n",
       "        vertical-align: middle;\n",
       "    }\n",
       "\n",
       "    .dataframe tbody tr th {\n",
       "        vertical-align: top;\n",
       "    }\n",
       "\n",
       "    .dataframe thead th {\n",
       "        text-align: right;\n",
       "    }\n",
       "</style>\n",
       "<table border=\"1\" class=\"dataframe\">\n",
       "  <thead>\n",
       "    <tr style=\"text-align: right;\">\n",
       "      <th></th>\n",
       "      <th>Row ID</th>\n",
       "      <th>Order ID</th>\n",
       "      <th>Order Date</th>\n",
       "      <th>Ship Date</th>\n",
       "      <th>Ship Mode</th>\n",
       "      <th>Customer ID</th>\n",
       "      <th>Customer Name</th>\n",
       "      <th>Segment</th>\n",
       "      <th>Country</th>\n",
       "      <th>City</th>\n",
       "      <th>...</th>\n",
       "      <th>Postal Code</th>\n",
       "      <th>Region</th>\n",
       "      <th>Product ID</th>\n",
       "      <th>Category</th>\n",
       "      <th>Sub-Category</th>\n",
       "      <th>Product Name</th>\n",
       "      <th>Sales</th>\n",
       "      <th>Quantity</th>\n",
       "      <th>Discount</th>\n",
       "      <th>Profit</th>\n",
       "    </tr>\n",
       "  </thead>\n",
       "  <tbody>\n",
       "    <tr>\n",
       "      <th>4683</th>\n",
       "      <td>4684</td>\n",
       "      <td>CA-2016-159912</td>\n",
       "      <td>2016-08-29</td>\n",
       "      <td>2016-09-03</td>\n",
       "      <td>Standard Class</td>\n",
       "      <td>GB-14530</td>\n",
       "      <td>George Bell</td>\n",
       "      <td>Corporate</td>\n",
       "      <td>United States</td>\n",
       "      <td>Philadelphia</td>\n",
       "      <td>...</td>\n",
       "      <td>19120</td>\n",
       "      <td>East</td>\n",
       "      <td>FUR-TA-10004152</td>\n",
       "      <td>Furniture</td>\n",
       "      <td>Tables</td>\n",
       "      <td>Barricks 18\" x 48\" Non-Folding Utility Table w...</td>\n",
       "      <td>241.920</td>\n",
       "      <td>4</td>\n",
       "      <td>0.4</td>\n",
       "      <td>-56.4480</td>\n",
       "    </tr>\n",
       "    <tr>\n",
       "      <th>8783</th>\n",
       "      <td>8784</td>\n",
       "      <td>CA-2016-116911</td>\n",
       "      <td>2016-09-15</td>\n",
       "      <td>2016-09-20</td>\n",
       "      <td>Standard Class</td>\n",
       "      <td>JD-16150</td>\n",
       "      <td>Justin Deggeller</td>\n",
       "      <td>Corporate</td>\n",
       "      <td>United States</td>\n",
       "      <td>Twin Falls</td>\n",
       "      <td>...</td>\n",
       "      <td>83301</td>\n",
       "      <td>West</td>\n",
       "      <td>FUR-TA-10003473</td>\n",
       "      <td>Furniture</td>\n",
       "      <td>Tables</td>\n",
       "      <td>Bretford Rectangular Conference Table Tops</td>\n",
       "      <td>1128.390</td>\n",
       "      <td>3</td>\n",
       "      <td>0.0</td>\n",
       "      <td>259.5297</td>\n",
       "    </tr>\n",
       "    <tr>\n",
       "      <th>4264</th>\n",
       "      <td>4265</td>\n",
       "      <td>US-2016-131611</td>\n",
       "      <td>2016-11-05</td>\n",
       "      <td>2016-11-09</td>\n",
       "      <td>Standard Class</td>\n",
       "      <td>EP-13915</td>\n",
       "      <td>Emily Phan</td>\n",
       "      <td>Consumer</td>\n",
       "      <td>United States</td>\n",
       "      <td>Houston</td>\n",
       "      <td>...</td>\n",
       "      <td>77036</td>\n",
       "      <td>Central</td>\n",
       "      <td>FUR-TA-10002774</td>\n",
       "      <td>Furniture</td>\n",
       "      <td>Tables</td>\n",
       "      <td>Laminate Occasional Tables</td>\n",
       "      <td>863.128</td>\n",
       "      <td>8</td>\n",
       "      <td>0.3</td>\n",
       "      <td>-160.2952</td>\n",
       "    </tr>\n",
       "    <tr>\n",
       "      <th>3496</th>\n",
       "      <td>3497</td>\n",
       "      <td>CA-2016-107328</td>\n",
       "      <td>2016-08-08</td>\n",
       "      <td>2016-08-15</td>\n",
       "      <td>Standard Class</td>\n",
       "      <td>CA-12055</td>\n",
       "      <td>Cathy Armstrong</td>\n",
       "      <td>Home Office</td>\n",
       "      <td>United States</td>\n",
       "      <td>Los Angeles</td>\n",
       "      <td>...</td>\n",
       "      <td>90036</td>\n",
       "      <td>West</td>\n",
       "      <td>FUR-TA-10001932</td>\n",
       "      <td>Furniture</td>\n",
       "      <td>Tables</td>\n",
       "      <td>Chromcraft 48\" x 96\" Racetrack Double Pedestal...</td>\n",
       "      <td>513.024</td>\n",
       "      <td>2</td>\n",
       "      <td>0.2</td>\n",
       "      <td>12.8256</td>\n",
       "    </tr>\n",
       "    <tr>\n",
       "      <th>2664</th>\n",
       "      <td>2665</td>\n",
       "      <td>CA-2016-164784</td>\n",
       "      <td>2016-05-01</td>\n",
       "      <td>2016-05-04</td>\n",
       "      <td>First Class</td>\n",
       "      <td>HF-14995</td>\n",
       "      <td>Herbert Flentye</td>\n",
       "      <td>Consumer</td>\n",
       "      <td>United States</td>\n",
       "      <td>Memphis</td>\n",
       "      <td>...</td>\n",
       "      <td>38109</td>\n",
       "      <td>South</td>\n",
       "      <td>FUR-TA-10004534</td>\n",
       "      <td>Furniture</td>\n",
       "      <td>Tables</td>\n",
       "      <td>Bevis 44 x 96 Conference Tables</td>\n",
       "      <td>370.620</td>\n",
       "      <td>3</td>\n",
       "      <td>0.4</td>\n",
       "      <td>-142.0710</td>\n",
       "    </tr>\n",
       "    <tr>\n",
       "      <th>...</th>\n",
       "      <td>...</td>\n",
       "      <td>...</td>\n",
       "      <td>...</td>\n",
       "      <td>...</td>\n",
       "      <td>...</td>\n",
       "      <td>...</td>\n",
       "      <td>...</td>\n",
       "      <td>...</td>\n",
       "      <td>...</td>\n",
       "      <td>...</td>\n",
       "      <td>...</td>\n",
       "      <td>...</td>\n",
       "      <td>...</td>\n",
       "      <td>...</td>\n",
       "      <td>...</td>\n",
       "      <td>...</td>\n",
       "      <td>...</td>\n",
       "      <td>...</td>\n",
       "      <td>...</td>\n",
       "      <td>...</td>\n",
       "      <td>...</td>\n",
       "    </tr>\n",
       "    <tr>\n",
       "      <th>9317</th>\n",
       "      <td>9318</td>\n",
       "      <td>CA-2017-124940</td>\n",
       "      <td>2017-02-21</td>\n",
       "      <td>2017-02-26</td>\n",
       "      <td>Standard Class</td>\n",
       "      <td>DK-13090</td>\n",
       "      <td>Dave Kipp</td>\n",
       "      <td>Consumer</td>\n",
       "      <td>United States</td>\n",
       "      <td>Carrollton</td>\n",
       "      <td>...</td>\n",
       "      <td>75007</td>\n",
       "      <td>Central</td>\n",
       "      <td>TEC-AC-10002076</td>\n",
       "      <td>Technology</td>\n",
       "      <td>Accessories</td>\n",
       "      <td>Microsoft Natural Keyboard Elite</td>\n",
       "      <td>47.904</td>\n",
       "      <td>1</td>\n",
       "      <td>0.2</td>\n",
       "      <td>-2.9940</td>\n",
       "    </tr>\n",
       "    <tr>\n",
       "      <th>3899</th>\n",
       "      <td>3900</td>\n",
       "      <td>CA-2017-157980</td>\n",
       "      <td>2017-12-07</td>\n",
       "      <td>2017-12-09</td>\n",
       "      <td>First Class</td>\n",
       "      <td>SH-20395</td>\n",
       "      <td>Shahid Hopkins</td>\n",
       "      <td>Consumer</td>\n",
       "      <td>United States</td>\n",
       "      <td>Toledo</td>\n",
       "      <td>...</td>\n",
       "      <td>43615</td>\n",
       "      <td>East</td>\n",
       "      <td>TEC-AC-10002567</td>\n",
       "      <td>Technology</td>\n",
       "      <td>Accessories</td>\n",
       "      <td>Logitech G602 Wireless Gaming Mouse</td>\n",
       "      <td>127.984</td>\n",
       "      <td>2</td>\n",
       "      <td>0.2</td>\n",
       "      <td>25.5968</td>\n",
       "    </tr>\n",
       "    <tr>\n",
       "      <th>3901</th>\n",
       "      <td>3902</td>\n",
       "      <td>CA-2015-151043</td>\n",
       "      <td>2015-11-14</td>\n",
       "      <td>2015-11-20</td>\n",
       "      <td>Standard Class</td>\n",
       "      <td>MG-17680</td>\n",
       "      <td>Maureen Gastineau</td>\n",
       "      <td>Home Office</td>\n",
       "      <td>United States</td>\n",
       "      <td>Philadelphia</td>\n",
       "      <td>...</td>\n",
       "      <td>19143</td>\n",
       "      <td>East</td>\n",
       "      <td>TEC-AC-10001090</td>\n",
       "      <td>Technology</td>\n",
       "      <td>Accessories</td>\n",
       "      <td>Micro Innovations Wireless Classic Keyboard wi...</td>\n",
       "      <td>47.984</td>\n",
       "      <td>2</td>\n",
       "      <td>0.2</td>\n",
       "      <td>-1.1996</td>\n",
       "    </tr>\n",
       "    <tr>\n",
       "      <th>3932</th>\n",
       "      <td>3933</td>\n",
       "      <td>CA-2016-132094</td>\n",
       "      <td>2016-08-26</td>\n",
       "      <td>2016-09-02</td>\n",
       "      <td>Standard Class</td>\n",
       "      <td>VG-21805</td>\n",
       "      <td>Vivek Grady</td>\n",
       "      <td>Corporate</td>\n",
       "      <td>United States</td>\n",
       "      <td>Philadelphia</td>\n",
       "      <td>...</td>\n",
       "      <td>19140</td>\n",
       "      <td>East</td>\n",
       "      <td>TEC-AC-10001109</td>\n",
       "      <td>Technology</td>\n",
       "      <td>Accessories</td>\n",
       "      <td>Logitech Trackman Marble Mouse</td>\n",
       "      <td>47.984</td>\n",
       "      <td>2</td>\n",
       "      <td>0.2</td>\n",
       "      <td>13.1956</td>\n",
       "    </tr>\n",
       "    <tr>\n",
       "      <th>6912</th>\n",
       "      <td>6913</td>\n",
       "      <td>US-2017-128398</td>\n",
       "      <td>2017-05-02</td>\n",
       "      <td>2017-05-05</td>\n",
       "      <td>Second Class</td>\n",
       "      <td>EM-13825</td>\n",
       "      <td>Elizabeth Moffitt</td>\n",
       "      <td>Corporate</td>\n",
       "      <td>United States</td>\n",
       "      <td>Los Angeles</td>\n",
       "      <td>...</td>\n",
       "      <td>90049</td>\n",
       "      <td>West</td>\n",
       "      <td>TEC-AC-10001714</td>\n",
       "      <td>Technology</td>\n",
       "      <td>Accessories</td>\n",
       "      <td>Logitech MX Performance Wireless Mouse</td>\n",
       "      <td>159.560</td>\n",
       "      <td>4</td>\n",
       "      <td>0.0</td>\n",
       "      <td>59.0372</td>\n",
       "    </tr>\n",
       "  </tbody>\n",
       "</table>\n",
       "<p>9994 rows × 21 columns</p>\n",
       "</div>"
      ],
      "text/plain": [
       "      Row ID        Order ID Order Date  Ship Date       Ship Mode  \\\n",
       "4683    4684  CA-2016-159912 2016-08-29 2016-09-03  Standard Class   \n",
       "8783    8784  CA-2016-116911 2016-09-15 2016-09-20  Standard Class   \n",
       "4264    4265  US-2016-131611 2016-11-05 2016-11-09  Standard Class   \n",
       "3496    3497  CA-2016-107328 2016-08-08 2016-08-15  Standard Class   \n",
       "2664    2665  CA-2016-164784 2016-05-01 2016-05-04     First Class   \n",
       "...      ...             ...        ...        ...             ...   \n",
       "9317    9318  CA-2017-124940 2017-02-21 2017-02-26  Standard Class   \n",
       "3899    3900  CA-2017-157980 2017-12-07 2017-12-09     First Class   \n",
       "3901    3902  CA-2015-151043 2015-11-14 2015-11-20  Standard Class   \n",
       "3932    3933  CA-2016-132094 2016-08-26 2016-09-02  Standard Class   \n",
       "6912    6913  US-2017-128398 2017-05-02 2017-05-05    Second Class   \n",
       "\n",
       "     Customer ID      Customer Name      Segment        Country          City  \\\n",
       "4683    GB-14530        George Bell    Corporate  United States  Philadelphia   \n",
       "8783    JD-16150   Justin Deggeller    Corporate  United States    Twin Falls   \n",
       "4264    EP-13915         Emily Phan     Consumer  United States       Houston   \n",
       "3496    CA-12055    Cathy Armstrong  Home Office  United States   Los Angeles   \n",
       "2664    HF-14995    Herbert Flentye     Consumer  United States       Memphis   \n",
       "...          ...                ...          ...            ...           ...   \n",
       "9317    DK-13090          Dave Kipp     Consumer  United States    Carrollton   \n",
       "3899    SH-20395     Shahid Hopkins     Consumer  United States        Toledo   \n",
       "3901    MG-17680  Maureen Gastineau  Home Office  United States  Philadelphia   \n",
       "3932    VG-21805        Vivek Grady    Corporate  United States  Philadelphia   \n",
       "6912    EM-13825  Elizabeth Moffitt    Corporate  United States   Los Angeles   \n",
       "\n",
       "      ... Postal Code   Region       Product ID    Category Sub-Category  \\\n",
       "4683  ...       19120     East  FUR-TA-10004152   Furniture       Tables   \n",
       "8783  ...       83301     West  FUR-TA-10003473   Furniture       Tables   \n",
       "4264  ...       77036  Central  FUR-TA-10002774   Furniture       Tables   \n",
       "3496  ...       90036     West  FUR-TA-10001932   Furniture       Tables   \n",
       "2664  ...       38109    South  FUR-TA-10004534   Furniture       Tables   \n",
       "...   ...         ...      ...              ...         ...          ...   \n",
       "9317  ...       75007  Central  TEC-AC-10002076  Technology  Accessories   \n",
       "3899  ...       43615     East  TEC-AC-10002567  Technology  Accessories   \n",
       "3901  ...       19143     East  TEC-AC-10001090  Technology  Accessories   \n",
       "3932  ...       19140     East  TEC-AC-10001109  Technology  Accessories   \n",
       "6912  ...       90049     West  TEC-AC-10001714  Technology  Accessories   \n",
       "\n",
       "                                           Product Name     Sales  Quantity  \\\n",
       "4683  Barricks 18\" x 48\" Non-Folding Utility Table w...   241.920         4   \n",
       "8783         Bretford Rectangular Conference Table Tops  1128.390         3   \n",
       "4264                         Laminate Occasional Tables   863.128         8   \n",
       "3496  Chromcraft 48\" x 96\" Racetrack Double Pedestal...   513.024         2   \n",
       "2664                    Bevis 44 x 96 Conference Tables   370.620         3   \n",
       "...                                                 ...       ...       ...   \n",
       "9317                   Microsoft Natural Keyboard Elite    47.904         1   \n",
       "3899                Logitech G602 Wireless Gaming Mouse   127.984         2   \n",
       "3901  Micro Innovations Wireless Classic Keyboard wi...    47.984         2   \n",
       "3932                     Logitech Trackman Marble Mouse    47.984         2   \n",
       "6912             Logitech MX Performance Wireless Mouse   159.560         4   \n",
       "\n",
       "      Discount    Profit  \n",
       "4683       0.4  -56.4480  \n",
       "8783       0.0  259.5297  \n",
       "4264       0.3 -160.2952  \n",
       "3496       0.2   12.8256  \n",
       "2664       0.4 -142.0710  \n",
       "...        ...       ...  \n",
       "9317       0.2   -2.9940  \n",
       "3899       0.2   25.5968  \n",
       "3901       0.2   -1.1996  \n",
       "3932       0.2   13.1956  \n",
       "6912       0.0   59.0372  \n",
       "\n",
       "[9994 rows x 21 columns]"
      ]
     },
     "execution_count": 21,
     "metadata": {},
     "output_type": "execute_result"
    }
   ],
   "source": [
    "#c) Sort SubCategory in Desc order\n",
    "sample_df.sort_values(by='Sub-Category',ascending=False)"
   ]
  },
  {
   "cell_type": "code",
   "execution_count": 22,
   "metadata": {},
   "outputs": [
    {
     "data": {
      "image/png": "[encoded data removed]",
      "text/plain": [
       "<Figure size 432x288 with 1 Axes>"
      ]
     },
     "metadata": {},
     "output_type": "display_data"
    }
   ],
   "source": [
    "#d) Categorywise sum of profit in pie chart\n",
    "sample_cat=sample_df.groupby('Category').sum().reset_index()\n",
    "explode = (0.1, 0, 0, 0) \n",
    "plt.pie(sample_cat['Profit'],labels=sample_cat['Category'],autopct='%1.1f%%', shadow=True, startangle=45);"
   ]
  },
  {
   "cell_type": "code",
   "execution_count": 23,
   "metadata": {},
   "outputs": [
    {
     "data": {
      "text/plain": [
       "6826            Tamara Chand\n",
       "8153            Raymond Buch\n",
       "4190            Hunter Lopez\n",
       "9039           Adrian Barton\n",
       "4098            Sanjit Chand\n",
       "2623            Tom Ashbrook\n",
       "509     Christopher Martinez\n",
       "8488            Sanjit Engle\n",
       "7666           Daniel Raglin\n",
       "6520             Andy Reiter\n",
       "Name: Customer Name, dtype: object"
      ]
     },
     "execution_count": 23,
     "metadata": {},
     "output_type": "execute_result"
    }
   ],
   "source": [
    "#f) Display Top 10 most profitable customers\n",
    "sample_sorted_df=sample_df.sort_values(by='Profit',ascending=False)\n",
    "sample_sorted_df['Customer Name'].head(10)"
   ]
  },
  {
   "cell_type": "code",
   "execution_count": 24,
   "metadata": {},
   "outputs": [
    {
     "data": {
      "image/png": "[encoded data removed]",
      "text/plain": [
       "<Figure size 432x288 with 1 Axes>"
      ]
     },
     "metadata": {
      "needs_background": "light"
     },
     "output_type": "display_data"
    }
   ],
   "source": [
    "#g) scatter plot between profit and sales\n",
    "plt.scatter(sample_df['Profit'], sample_df['Sales'], marker='o');"
   ]
  },
  {
   "cell_type": "markdown",
   "metadata": {},
   "source": [
    "#### 6.Create dept dataframe and emp dataframe  with suitable data and perform inner , leftouter,RightOuter andFullOuter Joins based on common column Deptno. "
   ]
  },
  {
   "cell_type": "code",
   "execution_count": 25,
   "metadata": {},
   "outputs": [
    {
     "data": {
      "text/html": [
       "<div>\n",
       "<style scoped>\n",
       "    .dataframe tbody tr th:only-of-type {\n",
       "        vertical-align: middle;\n",
       "    }\n",
       "\n",
       "    .dataframe tbody tr th {\n",
       "        vertical-align: top;\n",
       "    }\n",
       "\n",
       "    .dataframe thead th {\n",
       "        text-align: right;\n",
       "    }\n",
       "</style>\n",
       "<table border=\"1\" class=\"dataframe\">\n",
       "  <thead>\n",
       "    <tr style=\"text-align: right;\">\n",
       "      <th></th>\n",
       "      <th>Deptno</th>\n",
       "      <th>Dname</th>\n",
       "      <th>Loc</th>\n",
       "    </tr>\n",
       "  </thead>\n",
       "  <tbody>\n",
       "    <tr>\n",
       "      <th>0</th>\n",
       "      <td>101</td>\n",
       "      <td>Account</td>\n",
       "      <td>Bangalore</td>\n",
       "    </tr>\n",
       "    <tr>\n",
       "      <th>1</th>\n",
       "      <td>102</td>\n",
       "      <td>Admin</td>\n",
       "      <td>Delhi</td>\n",
       "    </tr>\n",
       "    <tr>\n",
       "      <th>2</th>\n",
       "      <td>103</td>\n",
       "      <td>Finance</td>\n",
       "      <td>Mumbai</td>\n",
       "    </tr>\n",
       "    <tr>\n",
       "      <th>3</th>\n",
       "      <td>104</td>\n",
       "      <td>Library</td>\n",
       "      <td>Kochi</td>\n",
       "    </tr>\n",
       "    <tr>\n",
       "      <th>4</th>\n",
       "      <td>105</td>\n",
       "      <td>Staff</td>\n",
       "      <td>Bhopal</td>\n",
       "    </tr>\n",
       "  </tbody>\n",
       "</table>\n",
       "</div>"
      ],
      "text/plain": [
       "   Deptno    Dname        Loc\n",
       "0     101  Account  Bangalore\n",
       "1     102    Admin      Delhi\n",
       "2     103  Finance     Mumbai\n",
       "3     104  Library      Kochi\n",
       "4     105    Staff     Bhopal"
      ]
     },
     "execution_count": 25,
     "metadata": {},
     "output_type": "execute_result"
    }
   ],
   "source": [
    "Dept_Data={\"Deptno\":[101,102,103,104,105,106,107,108,109,110],\n",
    "           \"Dname\":[\"Account\",\"Admin\",\"Finance\",\"Library\",\"Staff\",\"Security\",\"Learning&Placement\",\"House Keeping\",\"Management\",\"Student Welfare\"]\n",
    ",\"Loc\":[\"Bangalore\",\"Delhi\",\"Mumbai\",\"Kochi\",\"Bhopal\",\"Noida\",\"Kolkata\",\"Pune\",\"Gantok\",\"SriNagar\"]}\n",
    "Dept_Data_Df=pd.DataFrame(Dept_Data)\n",
    "Dept_Data_Df.head()\n"
   ]
  },
  {
   "cell_type": "code",
   "execution_count": 26,
   "metadata": {},
   "outputs": [
    {
     "data": {
      "text/html": [
       "<div>\n",
       "<style scoped>\n",
       "    .dataframe tbody tr th:only-of-type {\n",
       "        vertical-align: middle;\n",
       "    }\n",
       "\n",
       "    .dataframe tbody tr th {\n",
       "        vertical-align: top;\n",
       "    }\n",
       "\n",
       "    .dataframe thead th {\n",
       "        text-align: right;\n",
       "    }\n",
       "</style>\n",
       "<table border=\"1\" class=\"dataframe\">\n",
       "  <thead>\n",
       "    <tr style=\"text-align: right;\">\n",
       "      <th></th>\n",
       "      <th>Deptno</th>\n",
       "      <th>Eno</th>\n",
       "      <th>Sal</th>\n",
       "    </tr>\n",
       "  </thead>\n",
       "  <tbody>\n",
       "    <tr>\n",
       "      <th>0</th>\n",
       "      <td>101</td>\n",
       "      <td>301</td>\n",
       "      <td>200000</td>\n",
       "    </tr>\n",
       "    <tr>\n",
       "      <th>1</th>\n",
       "      <td>102</td>\n",
       "      <td>302</td>\n",
       "      <td>250000</td>\n",
       "    </tr>\n",
       "    <tr>\n",
       "      <th>2</th>\n",
       "      <td>103</td>\n",
       "      <td>303</td>\n",
       "      <td>300000</td>\n",
       "    </tr>\n",
       "    <tr>\n",
       "      <th>3</th>\n",
       "      <td>104</td>\n",
       "      <td>304</td>\n",
       "      <td>400000</td>\n",
       "    </tr>\n",
       "    <tr>\n",
       "      <th>4</th>\n",
       "      <td>105</td>\n",
       "      <td>305</td>\n",
       "      <td>100000</td>\n",
       "    </tr>\n",
       "  </tbody>\n",
       "</table>\n",
       "</div>"
      ],
      "text/plain": [
       "   Deptno  Eno     Sal\n",
       "0     101  301  200000\n",
       "1     102  302  250000\n",
       "2     103  303  300000\n",
       "3     104  304  400000\n",
       "4     105  305  100000"
      ]
     },
     "execution_count": 26,
     "metadata": {},
     "output_type": "execute_result"
    }
   ],
   "source": [
    "Emp_Data={\"Deptno\":[101,102,103,104,105,106,107,200,201,202],\n",
    "           \"Eno\":[301,302,303,304,305,306,307,308,309,310]\n",
    ",\"Sal\":[200000,250000,300000,400000,100000,280000,290000,230000,210000,200000]}\n",
    "Emp_Data_Df=pd.DataFrame(Emp_Data)\n",
    "Emp_Data_Df.head()"
   ]
  },
  {
   "cell_type": "code",
   "execution_count": 27,
   "metadata": {},
   "outputs": [
    {
     "data": {
      "text/html": [
       "<div>\n",
       "<style scoped>\n",
       "    .dataframe tbody tr th:only-of-type {\n",
       "        vertical-align: middle;\n",
       "    }\n",
       "\n",
       "    .dataframe tbody tr th {\n",
       "        vertical-align: top;\n",
       "    }\n",
       "\n",
       "    .dataframe thead th {\n",
       "        text-align: right;\n",
       "    }\n",
       "</style>\n",
       "<table border=\"1\" class=\"dataframe\">\n",
       "  <thead>\n",
       "    <tr style=\"text-align: right;\">\n",
       "      <th></th>\n",
       "      <th>Deptno</th>\n",
       "      <th>Dname</th>\n",
       "      <th>Loc</th>\n",
       "      <th>Eno</th>\n",
       "      <th>Sal</th>\n",
       "    </tr>\n",
       "  </thead>\n",
       "  <tbody>\n",
       "    <tr>\n",
       "      <th>0</th>\n",
       "      <td>101</td>\n",
       "      <td>Account</td>\n",
       "      <td>Bangalore</td>\n",
       "      <td>301</td>\n",
       "      <td>200000</td>\n",
       "    </tr>\n",
       "    <tr>\n",
       "      <th>1</th>\n",
       "      <td>102</td>\n",
       "      <td>Admin</td>\n",
       "      <td>Delhi</td>\n",
       "      <td>302</td>\n",
       "      <td>250000</td>\n",
       "    </tr>\n",
       "    <tr>\n",
       "      <th>2</th>\n",
       "      <td>103</td>\n",
       "      <td>Finance</td>\n",
       "      <td>Mumbai</td>\n",
       "      <td>303</td>\n",
       "      <td>300000</td>\n",
       "    </tr>\n",
       "    <tr>\n",
       "      <th>3</th>\n",
       "      <td>104</td>\n",
       "      <td>Library</td>\n",
       "      <td>Kochi</td>\n",
       "      <td>304</td>\n",
       "      <td>400000</td>\n",
       "    </tr>\n",
       "    <tr>\n",
       "      <th>4</th>\n",
       "      <td>105</td>\n",
       "      <td>Staff</td>\n",
       "      <td>Bhopal</td>\n",
       "      <td>305</td>\n",
       "      <td>100000</td>\n",
       "    </tr>\n",
       "    <tr>\n",
       "      <th>5</th>\n",
       "      <td>106</td>\n",
       "      <td>Security</td>\n",
       "      <td>Noida</td>\n",
       "      <td>306</td>\n",
       "      <td>280000</td>\n",
       "    </tr>\n",
       "    <tr>\n",
       "      <th>6</th>\n",
       "      <td>107</td>\n",
       "      <td>Learning&amp;Placement</td>\n",
       "      <td>Kolkata</td>\n",
       "      <td>307</td>\n",
       "      <td>290000</td>\n",
       "    </tr>\n",
       "  </tbody>\n",
       "</table>\n",
       "</div>"
      ],
      "text/plain": [
       "   Deptno               Dname        Loc  Eno     Sal\n",
       "0     101             Account  Bangalore  301  200000\n",
       "1     102               Admin      Delhi  302  250000\n",
       "2     103             Finance     Mumbai  303  300000\n",
       "3     104             Library      Kochi  304  400000\n",
       "4     105               Staff     Bhopal  305  100000\n",
       "5     106            Security      Noida  306  280000\n",
       "6     107  Learning&Placement    Kolkata  307  290000"
      ]
     },
     "execution_count": 27,
     "metadata": {},
     "output_type": "execute_result"
    }
   ],
   "source": [
    "inner_df=pd.merge(Dept_Data_Df,Emp_Data_Df,on=\"Deptno\",how='inner')\n",
    "inner_df.head(10)"
   ]
  },
  {
   "cell_type": "code",
   "execution_count": 28,
   "metadata": {},
   "outputs": [
    {
     "data": {
      "text/html": [
       "<div>\n",
       "<style scoped>\n",
       "    .dataframe tbody tr th:only-of-type {\n",
       "        vertical-align: middle;\n",
       "    }\n",
       "\n",
       "    .dataframe tbody tr th {\n",
       "        vertical-align: top;\n",
       "    }\n",
       "\n",
       "    .dataframe thead th {\n",
       "        text-align: right;\n",
       "    }\n",
       "</style>\n",
       "<table border=\"1\" class=\"dataframe\">\n",
       "  <thead>\n",
       "    <tr style=\"text-align: right;\">\n",
       "      <th></th>\n",
       "      <th>Deptno</th>\n",
       "      <th>Dname</th>\n",
       "      <th>Loc</th>\n",
       "      <th>Eno</th>\n",
       "      <th>Sal</th>\n",
       "    </tr>\n",
       "  </thead>\n",
       "  <tbody>\n",
       "    <tr>\n",
       "      <th>0</th>\n",
       "      <td>101</td>\n",
       "      <td>Account</td>\n",
       "      <td>Bangalore</td>\n",
       "      <td>301.0</td>\n",
       "      <td>200000.0</td>\n",
       "    </tr>\n",
       "    <tr>\n",
       "      <th>1</th>\n",
       "      <td>102</td>\n",
       "      <td>Admin</td>\n",
       "      <td>Delhi</td>\n",
       "      <td>302.0</td>\n",
       "      <td>250000.0</td>\n",
       "    </tr>\n",
       "    <tr>\n",
       "      <th>2</th>\n",
       "      <td>103</td>\n",
       "      <td>Finance</td>\n",
       "      <td>Mumbai</td>\n",
       "      <td>303.0</td>\n",
       "      <td>300000.0</td>\n",
       "    </tr>\n",
       "    <tr>\n",
       "      <th>3</th>\n",
       "      <td>104</td>\n",
       "      <td>Library</td>\n",
       "      <td>Kochi</td>\n",
       "      <td>304.0</td>\n",
       "      <td>400000.0</td>\n",
       "    </tr>\n",
       "    <tr>\n",
       "      <th>4</th>\n",
       "      <td>105</td>\n",
       "      <td>Staff</td>\n",
       "      <td>Bhopal</td>\n",
       "      <td>305.0</td>\n",
       "      <td>100000.0</td>\n",
       "    </tr>\n",
       "    <tr>\n",
       "      <th>5</th>\n",
       "      <td>106</td>\n",
       "      <td>Security</td>\n",
       "      <td>Noida</td>\n",
       "      <td>306.0</td>\n",
       "      <td>280000.0</td>\n",
       "    </tr>\n",
       "    <tr>\n",
       "      <th>6</th>\n",
       "      <td>107</td>\n",
       "      <td>Learning&amp;Placement</td>\n",
       "      <td>Kolkata</td>\n",
       "      <td>307.0</td>\n",
       "      <td>290000.0</td>\n",
       "    </tr>\n",
       "    <tr>\n",
       "      <th>7</th>\n",
       "      <td>108</td>\n",
       "      <td>House Keeping</td>\n",
       "      <td>Pune</td>\n",
       "      <td>NaN</td>\n",
       "      <td>NaN</td>\n",
       "    </tr>\n",
       "    <tr>\n",
       "      <th>8</th>\n",
       "      <td>109</td>\n",
       "      <td>Management</td>\n",
       "      <td>Gantok</td>\n",
       "      <td>NaN</td>\n",
       "      <td>NaN</td>\n",
       "    </tr>\n",
       "    <tr>\n",
       "      <th>9</th>\n",
       "      <td>110</td>\n",
       "      <td>Student Welfare</td>\n",
       "      <td>SriNagar</td>\n",
       "      <td>NaN</td>\n",
       "      <td>NaN</td>\n",
       "    </tr>\n",
       "  </tbody>\n",
       "</table>\n",
       "</div>"
      ],
      "text/plain": [
       "   Deptno               Dname        Loc    Eno       Sal\n",
       "0     101             Account  Bangalore  301.0  200000.0\n",
       "1     102               Admin      Delhi  302.0  250000.0\n",
       "2     103             Finance     Mumbai  303.0  300000.0\n",
       "3     104             Library      Kochi  304.0  400000.0\n",
       "4     105               Staff     Bhopal  305.0  100000.0\n",
       "5     106            Security      Noida  306.0  280000.0\n",
       "6     107  Learning&Placement    Kolkata  307.0  290000.0\n",
       "7     108       House Keeping       Pune    NaN       NaN\n",
       "8     109          Management     Gantok    NaN       NaN\n",
       "9     110     Student Welfare   SriNagar    NaN       NaN"
      ]
     },
     "execution_count": 28,
     "metadata": {},
     "output_type": "execute_result"
    }
   ],
   "source": [
    "left_df=pd.merge(Dept_Data_Df,Emp_Data_Df,on=\"Deptno\",how='left')\n",
    "left_df.head(10)"
   ]
  },
  {
   "cell_type": "code",
   "execution_count": 29,
   "metadata": {},
   "outputs": [
    {
     "data": {
      "text/html": [
       "<div>\n",
       "<style scoped>\n",
       "    .dataframe tbody tr th:only-of-type {\n",
       "        vertical-align: middle;\n",
       "    }\n",
       "\n",
       "    .dataframe tbody tr th {\n",
       "        vertical-align: top;\n",
       "    }\n",
       "\n",
       "    .dataframe thead th {\n",
       "        text-align: right;\n",
       "    }\n",
       "</style>\n",
       "<table border=\"1\" class=\"dataframe\">\n",
       "  <thead>\n",
       "    <tr style=\"text-align: right;\">\n",
       "      <th></th>\n",
       "      <th>Deptno</th>\n",
       "      <th>Dname</th>\n",
       "      <th>Loc</th>\n",
       "      <th>Eno</th>\n",
       "      <th>Sal</th>\n",
       "    </tr>\n",
       "  </thead>\n",
       "  <tbody>\n",
       "    <tr>\n",
       "      <th>0</th>\n",
       "      <td>101</td>\n",
       "      <td>Account</td>\n",
       "      <td>Bangalore</td>\n",
       "      <td>301.0</td>\n",
       "      <td>200000.0</td>\n",
       "    </tr>\n",
       "    <tr>\n",
       "      <th>1</th>\n",
       "      <td>102</td>\n",
       "      <td>Admin</td>\n",
       "      <td>Delhi</td>\n",
       "      <td>302.0</td>\n",
       "      <td>250000.0</td>\n",
       "    </tr>\n",
       "    <tr>\n",
       "      <th>2</th>\n",
       "      <td>103</td>\n",
       "      <td>Finance</td>\n",
       "      <td>Mumbai</td>\n",
       "      <td>303.0</td>\n",
       "      <td>300000.0</td>\n",
       "    </tr>\n",
       "    <tr>\n",
       "      <th>3</th>\n",
       "      <td>104</td>\n",
       "      <td>Library</td>\n",
       "      <td>Kochi</td>\n",
       "      <td>304.0</td>\n",
       "      <td>400000.0</td>\n",
       "    </tr>\n",
       "    <tr>\n",
       "      <th>4</th>\n",
       "      <td>105</td>\n",
       "      <td>Staff</td>\n",
       "      <td>Bhopal</td>\n",
       "      <td>305.0</td>\n",
       "      <td>100000.0</td>\n",
       "    </tr>\n",
       "    <tr>\n",
       "      <th>5</th>\n",
       "      <td>106</td>\n",
       "      <td>Security</td>\n",
       "      <td>Noida</td>\n",
       "      <td>306.0</td>\n",
       "      <td>280000.0</td>\n",
       "    </tr>\n",
       "    <tr>\n",
       "      <th>6</th>\n",
       "      <td>107</td>\n",
       "      <td>Learning&amp;Placement</td>\n",
       "      <td>Kolkata</td>\n",
       "      <td>307.0</td>\n",
       "      <td>290000.0</td>\n",
       "    </tr>\n",
       "    <tr>\n",
       "      <th>7</th>\n",
       "      <td>108</td>\n",
       "      <td>House Keeping</td>\n",
       "      <td>Pune</td>\n",
       "      <td>NaN</td>\n",
       "      <td>NaN</td>\n",
       "    </tr>\n",
       "    <tr>\n",
       "      <th>8</th>\n",
       "      <td>109</td>\n",
       "      <td>Management</td>\n",
       "      <td>Gantok</td>\n",
       "      <td>NaN</td>\n",
       "      <td>NaN</td>\n",
       "    </tr>\n",
       "    <tr>\n",
       "      <th>9</th>\n",
       "      <td>110</td>\n",
       "      <td>Student Welfare</td>\n",
       "      <td>SriNagar</td>\n",
       "      <td>NaN</td>\n",
       "      <td>NaN</td>\n",
       "    </tr>\n",
       "    <tr>\n",
       "      <th>10</th>\n",
       "      <td>200</td>\n",
       "      <td>NaN</td>\n",
       "      <td>NaN</td>\n",
       "      <td>308.0</td>\n",
       "      <td>230000.0</td>\n",
       "    </tr>\n",
       "    <tr>\n",
       "      <th>11</th>\n",
       "      <td>201</td>\n",
       "      <td>NaN</td>\n",
       "      <td>NaN</td>\n",
       "      <td>309.0</td>\n",
       "      <td>210000.0</td>\n",
       "    </tr>\n",
       "    <tr>\n",
       "      <th>12</th>\n",
       "      <td>202</td>\n",
       "      <td>NaN</td>\n",
       "      <td>NaN</td>\n",
       "      <td>310.0</td>\n",
       "      <td>200000.0</td>\n",
       "    </tr>\n",
       "  </tbody>\n",
       "</table>\n",
       "</div>"
      ],
      "text/plain": [
       "    Deptno               Dname        Loc    Eno       Sal\n",
       "0      101             Account  Bangalore  301.0  200000.0\n",
       "1      102               Admin      Delhi  302.0  250000.0\n",
       "2      103             Finance     Mumbai  303.0  300000.0\n",
       "3      104             Library      Kochi  304.0  400000.0\n",
       "4      105               Staff     Bhopal  305.0  100000.0\n",
       "5      106            Security      Noida  306.0  280000.0\n",
       "6      107  Learning&Placement    Kolkata  307.0  290000.0\n",
       "7      108       House Keeping       Pune    NaN       NaN\n",
       "8      109          Management     Gantok    NaN       NaN\n",
       "9      110     Student Welfare   SriNagar    NaN       NaN\n",
       "10     200                 NaN        NaN  308.0  230000.0\n",
       "11     201                 NaN        NaN  309.0  210000.0\n",
       "12     202                 NaN        NaN  310.0  200000.0"
      ]
     },
     "execution_count": 29,
     "metadata": {},
     "output_type": "execute_result"
    }
   ],
   "source": [
    "full_df=pd.merge(Dept_Data_Df,Emp_Data_Df,on=\"Deptno\",how='outer')\n",
    "full_df.head(20)"
   ]
  },
  {
   "cell_type": "code",
   "execution_count": 30,
   "metadata": {},
   "outputs": [
    {
     "data": {
      "text/html": [
       "<div>\n",
       "<style scoped>\n",
       "    .dataframe tbody tr th:only-of-type {\n",
       "        vertical-align: middle;\n",
       "    }\n",
       "\n",
       "    .dataframe tbody tr th {\n",
       "        vertical-align: top;\n",
       "    }\n",
       "\n",
       "    .dataframe thead th {\n",
       "        text-align: right;\n",
       "    }\n",
       "</style>\n",
       "<table border=\"1\" class=\"dataframe\">\n",
       "  <thead>\n",
       "    <tr style=\"text-align: right;\">\n",
       "      <th></th>\n",
       "      <th>Deptno</th>\n",
       "      <th>Dname</th>\n",
       "      <th>Loc</th>\n",
       "      <th>Eno</th>\n",
       "      <th>Sal</th>\n",
       "    </tr>\n",
       "  </thead>\n",
       "  <tbody>\n",
       "    <tr>\n",
       "      <th>0</th>\n",
       "      <td>101</td>\n",
       "      <td>Account</td>\n",
       "      <td>Bangalore</td>\n",
       "      <td>301</td>\n",
       "      <td>200000</td>\n",
       "    </tr>\n",
       "    <tr>\n",
       "      <th>1</th>\n",
       "      <td>102</td>\n",
       "      <td>Admin</td>\n",
       "      <td>Delhi</td>\n",
       "      <td>302</td>\n",
       "      <td>250000</td>\n",
       "    </tr>\n",
       "    <tr>\n",
       "      <th>2</th>\n",
       "      <td>103</td>\n",
       "      <td>Finance</td>\n",
       "      <td>Mumbai</td>\n",
       "      <td>303</td>\n",
       "      <td>300000</td>\n",
       "    </tr>\n",
       "    <tr>\n",
       "      <th>3</th>\n",
       "      <td>104</td>\n",
       "      <td>Library</td>\n",
       "      <td>Kochi</td>\n",
       "      <td>304</td>\n",
       "      <td>400000</td>\n",
       "    </tr>\n",
       "    <tr>\n",
       "      <th>4</th>\n",
       "      <td>105</td>\n",
       "      <td>Staff</td>\n",
       "      <td>Bhopal</td>\n",
       "      <td>305</td>\n",
       "      <td>100000</td>\n",
       "    </tr>\n",
       "    <tr>\n",
       "      <th>5</th>\n",
       "      <td>106</td>\n",
       "      <td>Security</td>\n",
       "      <td>Noida</td>\n",
       "      <td>306</td>\n",
       "      <td>280000</td>\n",
       "    </tr>\n",
       "    <tr>\n",
       "      <th>6</th>\n",
       "      <td>107</td>\n",
       "      <td>Learning&amp;Placement</td>\n",
       "      <td>Kolkata</td>\n",
       "      <td>307</td>\n",
       "      <td>290000</td>\n",
       "    </tr>\n",
       "    <tr>\n",
       "      <th>7</th>\n",
       "      <td>200</td>\n",
       "      <td>NaN</td>\n",
       "      <td>NaN</td>\n",
       "      <td>308</td>\n",
       "      <td>230000</td>\n",
       "    </tr>\n",
       "    <tr>\n",
       "      <th>8</th>\n",
       "      <td>201</td>\n",
       "      <td>NaN</td>\n",
       "      <td>NaN</td>\n",
       "      <td>309</td>\n",
       "      <td>210000</td>\n",
       "    </tr>\n",
       "    <tr>\n",
       "      <th>9</th>\n",
       "      <td>202</td>\n",
       "      <td>NaN</td>\n",
       "      <td>NaN</td>\n",
       "      <td>310</td>\n",
       "      <td>200000</td>\n",
       "    </tr>\n",
       "  </tbody>\n",
       "</table>\n",
       "</div>"
      ],
      "text/plain": [
       "   Deptno               Dname        Loc  Eno     Sal\n",
       "0     101             Account  Bangalore  301  200000\n",
       "1     102               Admin      Delhi  302  250000\n",
       "2     103             Finance     Mumbai  303  300000\n",
       "3     104             Library      Kochi  304  400000\n",
       "4     105               Staff     Bhopal  305  100000\n",
       "5     106            Security      Noida  306  280000\n",
       "6     107  Learning&Placement    Kolkata  307  290000\n",
       "7     200                 NaN        NaN  308  230000\n",
       "8     201                 NaN        NaN  309  210000\n",
       "9     202                 NaN        NaN  310  200000"
      ]
     },
     "execution_count": 30,
     "metadata": {},
     "output_type": "execute_result"
    }
   ],
   "source": [
    "right_df=pd.merge(Dept_Data_Df,Emp_Data_Df,on=\"Deptno\",how='right')\n",
    "right_df.head(10)"
   ]
  },
  {
   "cell_type": "markdown",
   "metadata": {},
   "source": [
    "### Descriptive and Inferential Statistics: "
   ]
  },
  {
   "cell_type": "markdown",
   "metadata": {},
   "source": [
    "##### 7.Suppose the height of men in the United Kingdom is known to be normally distributed with a mean of 177 centimeters and a standard deviation of 10 centimeters. If you were to select a man from the United Kingdom population at random, what is the probability that he would be more than 200 centimeters tall?"
   ]
  },
  {
   "cell_type": "code",
   "execution_count": 31,
   "metadata": {},
   "outputs": [
    {
     "data": {
      "text/plain": [
       "0.010700000000000043"
      ]
     },
     "execution_count": 31,
     "metadata": {},
     "output_type": "execute_result"
    }
   ],
   "source": [
    "#first get the Z score.\n",
    "Z=\"(x−mu)/sigma\"\n",
    "Z=(200-177)/10\n",
    "Z=2.3\n",
    "#valuein standard normal distribution table for z score 2.3 is 0.9893\n",
    "probability=1-0.9893\n",
    "probability"
   ]
  },
  {
   "cell_type": "markdown",
   "metadata": {},
   "source": [
    "#### 8.Let's take the mileage and horsepower of various cars and see if there is a relation between the two."
   ]
  },
  {
   "cell_type": "code",
   "execution_count": 32,
   "metadata": {},
   "outputs": [
    {
     "data": {
      "text/plain": [
       "<seaborn.axisgrid.FacetGrid at 0x27dfe699af0>"
      ]
     },
     "execution_count": 32,
     "metadata": {},
     "output_type": "execute_result"
    },
    {
     "data": {
      "image/png": "[encoded data removed]",
      "text/plain": [
       "<Figure size 360x360 with 1 Axes>"
      ]
     },
     "metadata": {
      "needs_background": "light"
     },
     "output_type": "display_data"
    }
   ],
   "source": [
    "mpg = [21.0, 21.0, 22.8, 21.4, 18.7, 18.1, 14.3, 24.4, 22.8, 19.2, 17.8, 16.4, 17.3, 15.2, 10.4, 10.4, 14.7, 32.4, 30.4,\n",
    "       33.9, 21.5, 15.5, 15.2, 13.3, 19.2, 27.3, 26.0, 30.4, 15.8, 19.7, 15.0, 21.4]\n",
    "hp = [110, 110, 93, 110, 175, 105, 245, 62, 95, 123, 123, 180, 180, 180, 205, 215, 230, 66, 52, 65, 97, 150, 150, 245, 175, 66, 91, 113, 264, 175, 335, 109]\n",
    "cars=pd.DataFrame(mpg,columns=['mpg'])\n",
    "cars['hp']=hp\n",
    "sns.lmplot(x = 'mpg',y = 'hp',data=cars)\n",
    "\n",
    "\n"
   ]
  },
  {
   "cell_type": "markdown",
   "metadata": {},
   "source": [
    "#### 9.Perform T-test on two classes that are given a mathematics test and have 10 students in each class. Determine if 2 distributions are identical or not."
   ]
  },
  {
   "cell_type": "code",
   "execution_count": 33,
   "metadata": {},
   "outputs": [
    {
     "data": {
      "text/plain": [
       "Ttest_indResult(statistic=-5.458195056848408, pvalue=3.482072285015316e-05)"
      ]
     },
     "execution_count": 33,
     "metadata": {},
     "output_type": "execute_result"
    }
   ],
   "source": [
    "from scipy.stats import ttest_ind\n",
    "# We can use this test(T test), if we observe two independent samples from the same or different population\n",
    "class1_score = np.array([45.0, 40.0, 49.0, 52.0, 54.0, 64.0, 36.0, 41.0, 42.0, 34.0])\n",
    "class2_score = np.array([75.0, 85.0, 53.0, 70.0, 72.0, 93.0, 61.0, 65.0, 65.0, 72.0])\n",
    "ttest_ind(class1_score, class2_score)\n",
    "\n",
    "#pvalue is greater than 0.5 we accept null hypothesis so both are identical ."
   ]
  },
  {
   "cell_type": "markdown",
   "metadata": {},
   "source": [
    "#### 10. The mean score of the mathematics exam at a national level is 60 marks and the standard deviation is 3 marks.The mean marks of a class are 53. The null hypothesis is that the mean marks of the class are similar to the national average.  Test this Hypothesis using Z – Test. "
   ]
  },
  {
   "cell_type": "code",
   "execution_count": 34,
   "metadata": {},
   "outputs": [
    {
     "data": {
      "text/plain": [
       "-23.333333333333336"
      ]
     },
     "execution_count": 34,
     "metadata": {},
     "output_type": "execute_result"
    }
   ],
   "source": [
    "import math\n",
    "z_score=(53-60)/(3/math.sqrt(100))\n",
    "z_score\n",
    "#p value is less than 0.5 so we accept The null hypothesis "
   ]
  },
  {
   "cell_type": "code",
   "execution_count": 35,
   "metadata": {},
   "outputs": [
    {
     "data": {
      "text/html": [
       "<div>\n",
       "<style scoped>\n",
       "    .dataframe tbody tr th:only-of-type {\n",
       "        vertical-align: middle;\n",
       "    }\n",
       "\n",
       "    .dataframe tbody tr th {\n",
       "        vertical-align: top;\n",
       "    }\n",
       "\n",
       "    .dataframe thead th {\n",
       "        text-align: right;\n",
       "    }\n",
       "</style>\n",
       "<table border=\"1\" class=\"dataframe\">\n",
       "  <thead>\n",
       "    <tr style=\"text-align: right;\">\n",
       "      <th></th>\n",
       "      <th>Girth</th>\n",
       "      <th>Height</th>\n",
       "      <th>Volume</th>\n",
       "    </tr>\n",
       "  </thead>\n",
       "  <tbody>\n",
       "    <tr>\n",
       "      <th>0</th>\n",
       "      <td>8.3</td>\n",
       "      <td>70</td>\n",
       "      <td>10.3</td>\n",
       "    </tr>\n",
       "    <tr>\n",
       "      <th>1</th>\n",
       "      <td>8.6</td>\n",
       "      <td>65</td>\n",
       "      <td>10.3</td>\n",
       "    </tr>\n",
       "    <tr>\n",
       "      <th>2</th>\n",
       "      <td>8.8</td>\n",
       "      <td>63</td>\n",
       "      <td>10.2</td>\n",
       "    </tr>\n",
       "    <tr>\n",
       "      <th>3</th>\n",
       "      <td>10.5</td>\n",
       "      <td>72</td>\n",
       "      <td>16.4</td>\n",
       "    </tr>\n",
       "    <tr>\n",
       "      <th>4</th>\n",
       "      <td>10.7</td>\n",
       "      <td>81</td>\n",
       "      <td>18.8</td>\n",
       "    </tr>\n",
       "  </tbody>\n",
       "</table>\n",
       "</div>"
      ],
      "text/plain": [
       "   Girth  Height  Volume\n",
       "0    8.3      70    10.3\n",
       "1    8.6      65    10.3\n",
       "2    8.8      63    10.2\n",
       "3   10.5      72    16.4\n",
       "4   10.7      81    18.8"
      ]
     },
     "execution_count": 35,
     "metadata": {},
     "output_type": "execute_result"
    }
   ],
   "source": [
    "#11. Calculate Pearson correlation coefficient between Girth and Volume in trees dataset( trees csv file)Pl mention what you draw from correlation coefficient \n",
    "\n",
    "#12.Suppose that you want to perform a hypothesis test to help determine whether the correlation between tree girth and tree volume is statistically significant.\n",
    "#Correlation coefficients are used in statistics to measure how strong a relationship is between two variables\n",
    "from scipy.stats import pearsonr\n",
    "tree_df=pd.read_csv(\"Trees.csv\")\n",
    "tree_df.head()\n"
   ]
  },
  {
   "cell_type": "code",
   "execution_count": 36,
   "metadata": {},
   "outputs": [
    {
     "data": {
      "text/plain": [
       "(0.9671193682556305, 8.644334211770575e-19)"
      ]
     },
     "execution_count": 36,
     "metadata": {},
     "output_type": "execute_result"
    }
   ],
   "source": [
    "coefficient=pearsonr(tree_df['Girth'],tree_df['Volume'])\n",
    "coefficient\n"
   ]
  },
  {
   "cell_type": "markdown",
   "metadata": {},
   "source": [
    "### Machine Learning Algorithms "
   ]
  },
  {
   "cell_type": "markdown",
   "metadata": {},
   "source": [
    "#### 12. Use Automobile price data Raw csv file  \n",
    "•\tSplit data 80% to train 20% for test\n",
    "•\tpredict price for 20% test data\n",
    "•\tDetermine R-Squared value\n"
   ]
  },
  {
   "cell_type": "code",
   "execution_count": 37,
   "metadata": {},
   "outputs": [
    {
     "data": {
      "text/html": [
       "<div>\n",
       "<style scoped>\n",
       "    .dataframe tbody tr th:only-of-type {\n",
       "        vertical-align: middle;\n",
       "    }\n",
       "\n",
       "    .dataframe tbody tr th {\n",
       "        vertical-align: top;\n",
       "    }\n",
       "\n",
       "    .dataframe thead th {\n",
       "        text-align: right;\n",
       "    }\n",
       "</style>\n",
       "<table border=\"1\" class=\"dataframe\">\n",
       "  <thead>\n",
       "    <tr style=\"text-align: right;\">\n",
       "      <th></th>\n",
       "      <th>symboling</th>\n",
       "      <th>normalized-losses</th>\n",
       "      <th>make</th>\n",
       "      <th>fuel-type</th>\n",
       "      <th>aspiration</th>\n",
       "      <th>num-of-doors</th>\n",
       "      <th>body-style</th>\n",
       "      <th>drive-wheels</th>\n",
       "      <th>engine-location</th>\n",
       "      <th>wheel-base</th>\n",
       "      <th>...</th>\n",
       "      <th>engine-size</th>\n",
       "      <th>fuel-system</th>\n",
       "      <th>bore</th>\n",
       "      <th>stroke</th>\n",
       "      <th>compression-ratio</th>\n",
       "      <th>horsepower</th>\n",
       "      <th>peak-rpm</th>\n",
       "      <th>city-mpg</th>\n",
       "      <th>highway-mpg</th>\n",
       "      <th>price</th>\n",
       "    </tr>\n",
       "  </thead>\n",
       "  <tbody>\n",
       "    <tr>\n",
       "      <th>0</th>\n",
       "      <td>3</td>\n",
       "      <td>?</td>\n",
       "      <td>alfa-romero</td>\n",
       "      <td>gas</td>\n",
       "      <td>std</td>\n",
       "      <td>two</td>\n",
       "      <td>convertible</td>\n",
       "      <td>rwd</td>\n",
       "      <td>front</td>\n",
       "      <td>88.6</td>\n",
       "      <td>...</td>\n",
       "      <td>130</td>\n",
       "      <td>mpfi</td>\n",
       "      <td>3.47</td>\n",
       "      <td>2.68</td>\n",
       "      <td>9.0</td>\n",
       "      <td>111</td>\n",
       "      <td>5000</td>\n",
       "      <td>21</td>\n",
       "      <td>27</td>\n",
       "      <td>13495</td>\n",
       "    </tr>\n",
       "    <tr>\n",
       "      <th>1</th>\n",
       "      <td>3</td>\n",
       "      <td>?</td>\n",
       "      <td>alfa-romero</td>\n",
       "      <td>gas</td>\n",
       "      <td>std</td>\n",
       "      <td>two</td>\n",
       "      <td>convertible</td>\n",
       "      <td>rwd</td>\n",
       "      <td>front</td>\n",
       "      <td>88.6</td>\n",
       "      <td>...</td>\n",
       "      <td>130</td>\n",
       "      <td>mpfi</td>\n",
       "      <td>3.47</td>\n",
       "      <td>2.68</td>\n",
       "      <td>9.0</td>\n",
       "      <td>111</td>\n",
       "      <td>5000</td>\n",
       "      <td>21</td>\n",
       "      <td>27</td>\n",
       "      <td>16500</td>\n",
       "    </tr>\n",
       "    <tr>\n",
       "      <th>2</th>\n",
       "      <td>1</td>\n",
       "      <td>?</td>\n",
       "      <td>alfa-romero</td>\n",
       "      <td>gas</td>\n",
       "      <td>std</td>\n",
       "      <td>two</td>\n",
       "      <td>hatchback</td>\n",
       "      <td>rwd</td>\n",
       "      <td>front</td>\n",
       "      <td>94.5</td>\n",
       "      <td>...</td>\n",
       "      <td>152</td>\n",
       "      <td>mpfi</td>\n",
       "      <td>2.68</td>\n",
       "      <td>3.47</td>\n",
       "      <td>9.0</td>\n",
       "      <td>154</td>\n",
       "      <td>5000</td>\n",
       "      <td>19</td>\n",
       "      <td>26</td>\n",
       "      <td>16500</td>\n",
       "    </tr>\n",
       "    <tr>\n",
       "      <th>3</th>\n",
       "      <td>2</td>\n",
       "      <td>164</td>\n",
       "      <td>audi</td>\n",
       "      <td>gas</td>\n",
       "      <td>std</td>\n",
       "      <td>four</td>\n",
       "      <td>sedan</td>\n",
       "      <td>fwd</td>\n",
       "      <td>front</td>\n",
       "      <td>99.8</td>\n",
       "      <td>...</td>\n",
       "      <td>109</td>\n",
       "      <td>mpfi</td>\n",
       "      <td>3.19</td>\n",
       "      <td>3.4</td>\n",
       "      <td>10.0</td>\n",
       "      <td>102</td>\n",
       "      <td>5500</td>\n",
       "      <td>24</td>\n",
       "      <td>30</td>\n",
       "      <td>13950</td>\n",
       "    </tr>\n",
       "    <tr>\n",
       "      <th>4</th>\n",
       "      <td>2</td>\n",
       "      <td>164</td>\n",
       "      <td>audi</td>\n",
       "      <td>gas</td>\n",
       "      <td>std</td>\n",
       "      <td>four</td>\n",
       "      <td>sedan</td>\n",
       "      <td>4wd</td>\n",
       "      <td>front</td>\n",
       "      <td>99.4</td>\n",
       "      <td>...</td>\n",
       "      <td>136</td>\n",
       "      <td>mpfi</td>\n",
       "      <td>3.19</td>\n",
       "      <td>3.4</td>\n",
       "      <td>8.0</td>\n",
       "      <td>115</td>\n",
       "      <td>5500</td>\n",
       "      <td>18</td>\n",
       "      <td>22</td>\n",
       "      <td>17450</td>\n",
       "    </tr>\n",
       "  </tbody>\n",
       "</table>\n",
       "<p>5 rows × 26 columns</p>\n",
       "</div>"
      ],
      "text/plain": [
       "   symboling normalized-losses         make fuel-type aspiration num-of-doors  \\\n",
       "0          3                 ?  alfa-romero       gas        std          two   \n",
       "1          3                 ?  alfa-romero       gas        std          two   \n",
       "2          1                 ?  alfa-romero       gas        std          two   \n",
       "3          2               164         audi       gas        std         four   \n",
       "4          2               164         audi       gas        std         four   \n",
       "\n",
       "    body-style drive-wheels engine-location  wheel-base  ...  engine-size  \\\n",
       "0  convertible          rwd           front        88.6  ...          130   \n",
       "1  convertible          rwd           front        88.6  ...          130   \n",
       "2    hatchback          rwd           front        94.5  ...          152   \n",
       "3        sedan          fwd           front        99.8  ...          109   \n",
       "4        sedan          4wd           front        99.4  ...          136   \n",
       "\n",
       "   fuel-system  bore  stroke compression-ratio horsepower  peak-rpm city-mpg  \\\n",
       "0         mpfi  3.47    2.68               9.0        111      5000       21   \n",
       "1         mpfi  3.47    2.68               9.0        111      5000       21   \n",
       "2         mpfi  2.68    3.47               9.0        154      5000       19   \n",
       "3         mpfi  3.19     3.4              10.0        102      5500       24   \n",
       "4         mpfi  3.19     3.4               8.0        115      5500       18   \n",
       "\n",
       "  highway-mpg  price  \n",
       "0          27  13495  \n",
       "1          27  16500  \n",
       "2          26  16500  \n",
       "3          30  13950  \n",
       "4          22  17450  \n",
       "\n",
       "[5 rows x 26 columns]"
      ]
     },
     "execution_count": 37,
     "metadata": {},
     "output_type": "execute_result"
    }
   ],
   "source": [
    "Automobile_df=pd.read_csv(\"automobile price data.csv\")\n",
    "Automobile_df.head()"
   ]
  },
  {
   "cell_type": "code",
   "execution_count": 38,
   "metadata": {},
   "outputs": [
    {
     "name": "stdout",
     "output_type": "stream",
     "text": [
      "<class 'pandas.core.frame.DataFrame'>\n",
      "RangeIndex: 205 entries, 0 to 204\n",
      "Data columns (total 26 columns):\n",
      " #   Column             Non-Null Count  Dtype  \n",
      "---  ------             --------------  -----  \n",
      " 0   symboling          205 non-null    int64  \n",
      " 1   normalized-losses  205 non-null    object \n",
      " 2   make               205 non-null    object \n",
      " 3   fuel-type          205 non-null    object \n",
      " 4   aspiration         205 non-null    object \n",
      " 5   num-of-doors       205 non-null    object \n",
      " 6   body-style         205 non-null    object \n",
      " 7   drive-wheels       205 non-null    object \n",
      " 8   engine-location    205 non-null    object \n",
      " 9   wheel-base         205 non-null    float64\n",
      " 10  length             205 non-null    float64\n",
      " 11  width              205 non-null    float64\n",
      " 12  height             205 non-null    float64\n",
      " 13  curb-weight        205 non-null    int64  \n",
      " 14  engine-type        205 non-null    object \n",
      " 15  num-of-cylinders   205 non-null    object \n",
      " 16  engine-size        205 non-null    int64  \n",
      " 17  fuel-system        205 non-null    object \n",
      " 18  bore               205 non-null    object \n",
      " 19  stroke             205 non-null    object \n",
      " 20  compression-ratio  205 non-null    float64\n",
      " 21  horsepower         205 non-null    object \n",
      " 22  peak-rpm           205 non-null    object \n",
      " 23  city-mpg           205 non-null    int64  \n",
      " 24  highway-mpg        205 non-null    int64  \n",
      " 25  price              205 non-null    object \n",
      "dtypes: float64(5), int64(5), object(16)\n",
      "memory usage: 41.8+ KB\n"
     ]
    }
   ],
   "source": [
    "Automobile_df.info()"
   ]
  },
  {
   "cell_type": "code",
   "execution_count": 39,
   "metadata": {},
   "outputs": [
    {
     "name": "stdout",
     "output_type": "stream",
     "text": [
      "<class 'pandas.core.frame.DataFrame'>\n",
      "RangeIndex: 205 entries, 0 to 204\n",
      "Data columns (total 26 columns):\n",
      " #   Column             Non-Null Count  Dtype  \n",
      "---  ------             --------------  -----  \n",
      " 0   symboling          205 non-null    int64  \n",
      " 1   normalized-losses  164 non-null    object \n",
      " 2   make               205 non-null    object \n",
      " 3   fuel-type          205 non-null    object \n",
      " 4   aspiration         205 non-null    object \n",
      " 5   num-of-doors       203 non-null    object \n",
      " 6   body-style         205 non-null    object \n",
      " 7   drive-wheels       205 non-null    object \n",
      " 8   engine-location    205 non-null    object \n",
      " 9   wheel-base         205 non-null    float64\n",
      " 10  length             205 non-null    float64\n",
      " 11  width              205 non-null    float64\n",
      " 12  height             205 non-null    float64\n",
      " 13  curb-weight        205 non-null    int64  \n",
      " 14  engine-type        205 non-null    object \n",
      " 15  num-of-cylinders   205 non-null    object \n",
      " 16  engine-size        205 non-null    int64  \n",
      " 17  fuel-system        205 non-null    object \n",
      " 18  bore               201 non-null    object \n",
      " 19  stroke             201 non-null    object \n",
      " 20  compression-ratio  205 non-null    float64\n",
      " 21  horsepower         203 non-null    object \n",
      " 22  peak-rpm           203 non-null    object \n",
      " 23  city-mpg           205 non-null    int64  \n",
      " 24  highway-mpg        205 non-null    int64  \n",
      " 25  price              201 non-null    object \n",
      "dtypes: float64(5), int64(5), object(16)\n",
      "memory usage: 41.8+ KB\n"
     ]
    }
   ],
   "source": [
    "# we have found some value are ? let repalce this with NaN and get info agagin\n",
    "Automobile_df.replace(\"?\",np.NaN,inplace=True)\n",
    "Automobile_df.info()"
   ]
  },
  {
   "cell_type": "code",
   "execution_count": 40,
   "metadata": {},
   "outputs": [
    {
     "name": "stdout",
     "output_type": "stream",
     "text": [
      "<class 'pandas.core.frame.DataFrame'>\n",
      "RangeIndex: 205 entries, 0 to 204\n",
      "Data columns (total 10 columns):\n",
      " #   Column            Non-Null Count  Dtype \n",
      "---  ------            --------------  ----- \n",
      " 0   fuel-type         205 non-null    object\n",
      " 1   num-of-doors      203 non-null    object\n",
      " 2   body-style        205 non-null    object\n",
      " 3   drive-wheels      205 non-null    object\n",
      " 4   engine-type       205 non-null    object\n",
      " 5   num-of-cylinders  205 non-null    object\n",
      " 6   engine-size       205 non-null    int64 \n",
      " 7   stroke            201 non-null    object\n",
      " 8   horsepower        203 non-null    object\n",
      " 9   price             201 non-null    object\n",
      "dtypes: int64(1), object(9)\n",
      "memory usage: 16.1+ KB\n"
     ]
    }
   ],
   "source": [
    "columns=['fuel-type','num-of-doors','body-style','drive-wheels','engine-type','num-of-cylinders','engine-size',\n",
    "        'stroke','horsepower','price']\n",
    "Automobile_df_new=pd.DataFrame(Automobile_df,columns=columns)\n",
    "Automobile_df_new.info()"
   ]
  },
  {
   "cell_type": "code",
   "execution_count": 41,
   "metadata": {},
   "outputs": [
    {
     "name": "stdout",
     "output_type": "stream",
     "text": [
      "<class 'pandas.core.frame.DataFrame'>\n",
      "Int64Index: 193 entries, 0 to 204\n",
      "Data columns (total 10 columns):\n",
      " #   Column            Non-Null Count  Dtype \n",
      "---  ------            --------------  ----- \n",
      " 0   fuel-type         193 non-null    object\n",
      " 1   num-of-doors      193 non-null    object\n",
      " 2   body-style        193 non-null    object\n",
      " 3   drive-wheels      193 non-null    object\n",
      " 4   engine-type       193 non-null    object\n",
      " 5   num-of-cylinders  193 non-null    object\n",
      " 6   engine-size       193 non-null    int64 \n",
      " 7   stroke            193 non-null    object\n",
      " 8   horsepower        193 non-null    object\n",
      " 9   price             193 non-null    object\n",
      "dtypes: int64(1), object(9)\n",
      "memory usage: 16.6+ KB\n"
     ]
    }
   ],
   "source": [
    "Automobile_df_new.dropna(inplace=True)\n",
    "Automobile_df_new.info()"
   ]
  },
  {
   "cell_type": "code",
   "execution_count": 42,
   "metadata": {},
   "outputs": [
    {
     "data": {
      "text/plain": [
       "array(['gas', 'diesel'], dtype=object)"
      ]
     },
     "execution_count": 42,
     "metadata": {},
     "output_type": "execute_result"
    }
   ],
   "source": [
    "# feature fuel-type unique values\n",
    "Automobile_df_new['fuel-type'].unique() "
   ]
  },
  {
   "cell_type": "code",
   "execution_count": 43,
   "metadata": {},
   "outputs": [
    {
     "data": {
      "text/plain": [
       "array(['two', 'four'], dtype=object)"
      ]
     },
     "execution_count": 43,
     "metadata": {},
     "output_type": "execute_result"
    }
   ],
   "source": [
    "# feature num-of-doors unique values\n",
    "Automobile_df_new['num-of-doors'].unique() \n"
   ]
  },
  {
   "cell_type": "code",
   "execution_count": 44,
   "metadata": {},
   "outputs": [
    {
     "data": {
      "text/plain": [
       "array(['convertible', 'hatchback', 'sedan', 'wagon', 'hardtop'],\n",
       "      dtype=object)"
      ]
     },
     "execution_count": 44,
     "metadata": {},
     "output_type": "execute_result"
    }
   ],
   "source": [
    "# feature num-of-doors unique values\n",
    "Automobile_df_new['body-style'].unique() "
   ]
  },
  {
   "cell_type": "code",
   "execution_count": 45,
   "metadata": {},
   "outputs": [
    {
     "data": {
      "text/plain": [
       "array(['rwd', 'fwd', '4wd'], dtype=object)"
      ]
     },
     "execution_count": 45,
     "metadata": {},
     "output_type": "execute_result"
    }
   ],
   "source": [
    "# feature drive-wheels unique values\n",
    "Automobile_df_new['drive-wheels'].unique() "
   ]
  },
  {
   "cell_type": "code",
   "execution_count": 46,
   "metadata": {},
   "outputs": [
    {
     "data": {
      "text/plain": [
       "array(['dohc', 'ohcv', 'ohc', 'l', 'ohcf'], dtype=object)"
      ]
     },
     "execution_count": 46,
     "metadata": {},
     "output_type": "execute_result"
    }
   ],
   "source": [
    "# feature engine-type unique values\n",
    "Automobile_df_new['engine-type'].unique() "
   ]
  },
  {
   "cell_type": "code",
   "execution_count": 47,
   "metadata": {},
   "outputs": [
    {
     "data": {
      "text/plain": [
       "array(['four', 'six', 'five', 'three', 'twelve', 'eight'], dtype=object)"
      ]
     },
     "execution_count": 47,
     "metadata": {},
     "output_type": "execute_result"
    }
   ],
   "source": [
    "# feature num-of-cylinders unique values\n",
    "Automobile_df_new['num-of-cylinders'].unique() "
   ]
  },
  {
   "cell_type": "code",
   "execution_count": 48,
   "metadata": {},
   "outputs": [
    {
     "data": {
      "text/plain": [
       "array(['2.68', '3.47', '3.4', '2.8', '3.19', '3.39', '3.03', '3.11',\n",
       "       '3.23', '3.46', '3.9', '3.41', '3.07', '3.58', '4.17', '2.76',\n",
       "       '3.15', '3.16', '3.64', '3.1', '3.35', '3.12', '3.86', '3.29',\n",
       "       '3.27', '3.52', '2.19', '3.21', '2.9', '2.07', '2.36', '2.64',\n",
       "       '3.08', '3.5', '3.54', '2.87'], dtype=object)"
      ]
     },
     "execution_count": 48,
     "metadata": {},
     "output_type": "execute_result"
    }
   ],
   "source": [
    "# feature stroke unique values\n",
    "Automobile_df_new['stroke'].unique() "
   ]
  },
  {
   "cell_type": "code",
   "execution_count": 49,
   "metadata": {},
   "outputs": [
    {
     "data": {
      "text/plain": [
       "array(['111', '154', '102', '115', '110', '140', '101', '121', '182',\n",
       "       '48', '70', '68', '88', '145', '58', '76', '60', '86', '100', '78',\n",
       "       '90', '176', '262', '84', '120', '72', '123', '155', '184', '175',\n",
       "       '116', '69', '55', '97', '152', '160', '200', '95', '142', '143',\n",
       "       '207', '73', '82', '94', '62', '56', '112', '92', '161', '156',\n",
       "       '52', '85', '114', '162', '134', '106'], dtype=object)"
      ]
     },
     "execution_count": 49,
     "metadata": {},
     "output_type": "execute_result"
    }
   ],
   "source": [
    "# feature horsepower unique values\n",
    "Automobile_df_new['horsepower'].unique() "
   ]
  },
  {
   "cell_type": "code",
   "execution_count": 50,
   "metadata": {},
   "outputs": [
    {
     "data": {
      "text/plain": [
       "array(['13495', '16500', '13950', '17450', '15250', '17710', '18920',\n",
       "       '23875', '16430', '16925', '20970', '21105', '24565', '30760',\n",
       "       '41315', '36880', '5151', '6295', '6575', '5572', '6377', '7957',\n",
       "       '6229', '6692', '7609', '8921', '12964', '6479', '6855', '5399',\n",
       "       '6529', '7129', '7295', '7895', '9095', '8845', '10295', '12945',\n",
       "       '10345', '6785', '11048', '32250', '35550', '36000', '5195',\n",
       "       '6095', '6795', '6695', '7395', '8495', '10595', '10245', '11245',\n",
       "       '18280', '18344', '25552', '28248', '28176', '31600', '34184',\n",
       "       '35056', '40960', '45400', '16503', '5389', '6189', '6669', '7689',\n",
       "       '9959', '8499', '12629', '14869', '14489', '6989', '8189', '9279',\n",
       "       '5499', '7099', '6649', '6849', '7349', '7299', '7799', '7499',\n",
       "       '7999', '8249', '8949', '9549', '13499', '14399', '17199', '19699',\n",
       "       '18399', '11900', '13200', '12440', '13860', '15580', '16900',\n",
       "       '16695', '17075', '16630', '17950', '18150', '12764', '22018',\n",
       "       '32528', '34028', '37028', '11850', '12170', '15040', '15510',\n",
       "       '18620', '5118', '7053', '7603', '7126', '7775', '9960', '9233',\n",
       "       '11259', '7463', '10198', '8013', '11694', '5348', '6338', '6488',\n",
       "       '6918', '7898', '8778', '6938', '7198', '7788', '7738', '8358',\n",
       "       '9258', '8058', '8238', '9298', '9538', '8449', '9639', '9989',\n",
       "       '11199', '11549', '17669', '8948', '10698', '9988', '10898',\n",
       "       '11248', '16558', '15998', '15690', '15750', '7975', '7995',\n",
       "       '8195', '9495', '9995', '11595', '9980', '13295', '13845', '12290',\n",
       "       '12940', '13415', '15985', '16515', '18420', '18950', '16845',\n",
       "       '19045', '21485', '22470', '22625'], dtype=object)"
      ]
     },
     "execution_count": 50,
     "metadata": {},
     "output_type": "execute_result"
    }
   ],
   "source": [
    "# feature price unique values\n",
    "Automobile_df_new['price'].unique() "
   ]
  },
  {
   "cell_type": "code",
   "execution_count": 51,
   "metadata": {},
   "outputs": [],
   "source": [
    "# convert all non nummeric into numeric\n",
    "Automobile_df_new['fuel-type'].replace('gas',0,inplace=True)\n",
    "Automobile_df_new['fuel-type'].replace('diesel',1,inplace=True)\n",
    "\n",
    "Automobile_df_new['num-of-doors'].replace('two',2,inplace=True)\n",
    "Automobile_df_new['num-of-doors'].replace('four',4,inplace=True)\n",
    "\n",
    "Automobile_df_new['body-style'].replace('convertible',0,inplace=True)\n",
    "Automobile_df_new['body-style'].replace('hatchback',1,inplace=True)\n",
    "Automobile_df_new['body-style'].replace('sedan',2,inplace=True)\n",
    "Automobile_df_new['body-style'].replace('wagon',3,inplace=True)\n",
    "Automobile_df_new['body-style'].replace('hardtop',4,inplace=True)\n",
    "\n",
    "Automobile_df_new['drive-wheels'].replace('rwd',0,inplace=True)\n",
    "Automobile_df_new['drive-wheels'].replace('fwd',1,inplace=True)\n",
    "Automobile_df_new['drive-wheels'].replace('4wd',2,inplace=True)\n",
    "\n",
    "Automobile_df_new['engine-type'].replace('dohc',0,inplace=True)\n",
    "Automobile_df_new['engine-type'].replace('ohcv',1,inplace=True)\n",
    "Automobile_df_new['engine-type'].replace('l',2,inplace=True)\n",
    "Automobile_df_new['engine-type'].replace('ohcf',3,inplace=True)\n",
    "Automobile_df_new['engine-type'].replace('ohc',4,inplace=True)\n",
    "\n",
    "Automobile_df_new['num-of-cylinders'].replace('four',4,inplace=True)\n",
    "Automobile_df_new['num-of-cylinders'].replace('six',6,inplace=True)\n",
    "Automobile_df_new['num-of-cylinders'].replace('five',5,inplace=True)\n",
    "Automobile_df_new['num-of-cylinders'].replace('twelve',12,inplace=True)\n",
    "Automobile_df_new['num-of-cylinders'].replace('eight',8,inplace=True)\n",
    "Automobile_df_new['num-of-cylinders'].replace('three',3,inplace=True)\n",
    "\n",
    "Automobile_df_new['stroke']=Automobile_df_new['stroke'].astype(float)\n",
    "Automobile_df_new['horsepower']=Automobile_df_new['horsepower'].astype(int)\n",
    "Automobile_df_new['price']=Automobile_df_new['price'].astype(int)"
   ]
  },
  {
   "cell_type": "code",
   "execution_count": 52,
   "metadata": {},
   "outputs": [
    {
     "name": "stdout",
     "output_type": "stream",
     "text": [
      "<class 'pandas.core.frame.DataFrame'>\n",
      "Int64Index: 193 entries, 0 to 204\n",
      "Data columns (total 10 columns):\n",
      " #   Column            Non-Null Count  Dtype  \n",
      "---  ------            --------------  -----  \n",
      " 0   fuel-type         193 non-null    int64  \n",
      " 1   num-of-doors      193 non-null    int64  \n",
      " 2   body-style        193 non-null    int64  \n",
      " 3   drive-wheels      193 non-null    int64  \n",
      " 4   engine-type       193 non-null    int64  \n",
      " 5   num-of-cylinders  193 non-null    int64  \n",
      " 6   engine-size       193 non-null    int64  \n",
      " 7   stroke            193 non-null    float64\n",
      " 8   horsepower        193 non-null    int32  \n",
      " 9   price             193 non-null    int32  \n",
      "dtypes: float64(1), int32(2), int64(7)\n",
      "memory usage: 15.1 KB\n"
     ]
    }
   ],
   "source": [
    "Automobile_df_new.info()"
   ]
  },
  {
   "cell_type": "code",
   "execution_count": 53,
   "metadata": {},
   "outputs": [],
   "source": [
    "#split in traning and test set\n",
    "y=Automobile_df_new['price']\n",
    "Automobile_df_new.drop('price',axis=1,inplace=True)\n",
    "X=Automobile_df_new\n",
    "X_train, X_test, y_train, y_test = train_test_split(X, y, test_size=0.2, random_state=42)"
   ]
  },
  {
   "cell_type": "code",
   "execution_count": 54,
   "metadata": {},
   "outputs": [
    {
     "data": {
      "text/plain": [
       "LinearRegression()"
      ]
     },
     "execution_count": 54,
     "metadata": {},
     "output_type": "execute_result"
    }
   ],
   "source": [
    "Regresser=LinearRegression()\n",
    "Regresser.fit(X_train,y_train)"
   ]
  },
  {
   "cell_type": "code",
   "execution_count": 55,
   "metadata": {},
   "outputs": [],
   "source": [
    "predict_test=Regresser.predict(X_test)"
   ]
  },
  {
   "cell_type": "code",
   "execution_count": 56,
   "metadata": {},
   "outputs": [
    {
     "name": "stdout",
     "output_type": "stream",
     "text": [
      "R_Squared= 0.8142523589202896\n"
     ]
    }
   ],
   "source": [
    "from sklearn.metrics import r2_score\n",
    "R_Squared= r2_score(y_test,predict_test)\n",
    "print(\"R_Squared=\",R_Squared)"
   ]
  },
  {
   "cell_type": "markdown",
   "metadata": {},
   "source": [
    "### 13. The Pima Indians Diabetes Binary Classification dataset csv file contains all of the data of female   patients of the same age belonging to Pima Indian heritage. The data includes medical data, such \n",
    "as glucose and insulin levels, as well as lifestyle factors of the patients. The columns in the dataset are as follows: \n",
    "•\tNumber of times pregnant\n",
    "•\tPlasma glucose concentration of 2 hours in an oral glucose tolerance test\n",
    "•\tDiastolic blood pressure (mm Hg)\n",
    "•\tTriceps skin fold thickness (mm)\n",
    "•\t2-hour serum insulin (mu U/ml)\n",
    "•\tBody mass index (weight in kg/(height in m)^2)\n",
    "•\tDiabetes pedigree function\n",
    "•\tAge (years)\n",
    "•\tClass variable (0 or 1)\n",
    "•\tThe last column is the target variable or class variable that takes the value 0 or 1, where 1 is positive or affected by diabetes and 0 means that the patient is not affected.\n",
    "•\tYou have to build models that could predict whether a patient has diabetes or tests positive or not using logistic regression\n"
   ]
  },
  {
   "cell_type": "code",
   "execution_count": 57,
   "metadata": {},
   "outputs": [
    {
     "data": {
      "text/html": [
       "<div>\n",
       "<style scoped>\n",
       "    .dataframe tbody tr th:only-of-type {\n",
       "        vertical-align: middle;\n",
       "    }\n",
       "\n",
       "    .dataframe tbody tr th {\n",
       "        vertical-align: top;\n",
       "    }\n",
       "\n",
       "    .dataframe thead th {\n",
       "        text-align: right;\n",
       "    }\n",
       "</style>\n",
       "<table border=\"1\" class=\"dataframe\">\n",
       "  <thead>\n",
       "    <tr style=\"text-align: right;\">\n",
       "      <th></th>\n",
       "      <th>Number of times pregnant</th>\n",
       "      <th>Plasma glucose concentration a 2 hours in an oral glucose tolerance test</th>\n",
       "      <th>Diastolic blood pressure (mm Hg)</th>\n",
       "      <th>Triceps skin fold thickness (mm)</th>\n",
       "      <th>2-Hour serum insulin (mu U/ml)</th>\n",
       "      <th>Body mass index (weight in kg/(height in m)^2)</th>\n",
       "      <th>Diabetes pedigree function</th>\n",
       "      <th>Age (years)</th>\n",
       "      <th>Class variable (0 or 1)</th>\n",
       "    </tr>\n",
       "  </thead>\n",
       "  <tbody>\n",
       "    <tr>\n",
       "      <th>0</th>\n",
       "      <td>6</td>\n",
       "      <td>148</td>\n",
       "      <td>72</td>\n",
       "      <td>35</td>\n",
       "      <td>0</td>\n",
       "      <td>33.6</td>\n",
       "      <td>0.627</td>\n",
       "      <td>50</td>\n",
       "      <td>1</td>\n",
       "    </tr>\n",
       "    <tr>\n",
       "      <th>1</th>\n",
       "      <td>1</td>\n",
       "      <td>85</td>\n",
       "      <td>66</td>\n",
       "      <td>29</td>\n",
       "      <td>0</td>\n",
       "      <td>26.6</td>\n",
       "      <td>0.351</td>\n",
       "      <td>31</td>\n",
       "      <td>0</td>\n",
       "    </tr>\n",
       "    <tr>\n",
       "      <th>2</th>\n",
       "      <td>8</td>\n",
       "      <td>183</td>\n",
       "      <td>64</td>\n",
       "      <td>0</td>\n",
       "      <td>0</td>\n",
       "      <td>23.3</td>\n",
       "      <td>0.672</td>\n",
       "      <td>32</td>\n",
       "      <td>1</td>\n",
       "    </tr>\n",
       "    <tr>\n",
       "      <th>3</th>\n",
       "      <td>1</td>\n",
       "      <td>89</td>\n",
       "      <td>66</td>\n",
       "      <td>23</td>\n",
       "      <td>94</td>\n",
       "      <td>28.1</td>\n",
       "      <td>0.167</td>\n",
       "      <td>21</td>\n",
       "      <td>0</td>\n",
       "    </tr>\n",
       "    <tr>\n",
       "      <th>4</th>\n",
       "      <td>0</td>\n",
       "      <td>137</td>\n",
       "      <td>40</td>\n",
       "      <td>35</td>\n",
       "      <td>168</td>\n",
       "      <td>43.1</td>\n",
       "      <td>2.288</td>\n",
       "      <td>33</td>\n",
       "      <td>1</td>\n",
       "    </tr>\n",
       "  </tbody>\n",
       "</table>\n",
       "</div>"
      ],
      "text/plain": [
       "   Number of times pregnant  \\\n",
       "0                         6   \n",
       "1                         1   \n",
       "2                         8   \n",
       "3                         1   \n",
       "4                         0   \n",
       "\n",
       "   Plasma glucose concentration a 2 hours in an oral glucose tolerance test  \\\n",
       "0                                                148                          \n",
       "1                                                 85                          \n",
       "2                                                183                          \n",
       "3                                                 89                          \n",
       "4                                                137                          \n",
       "\n",
       "   Diastolic blood pressure (mm Hg)  Triceps skin fold thickness (mm)  \\\n",
       "0                                72                                35   \n",
       "1                                66                                29   \n",
       "2                                64                                 0   \n",
       "3                                66                                23   \n",
       "4                                40                                35   \n",
       "\n",
       "   2-Hour serum insulin (mu U/ml)  \\\n",
       "0                               0   \n",
       "1                               0   \n",
       "2                               0   \n",
       "3                              94   \n",
       "4                             168   \n",
       "\n",
       "   Body mass index (weight in kg/(height in m)^2)  Diabetes pedigree function  \\\n",
       "0                                            33.6                       0.627   \n",
       "1                                            26.6                       0.351   \n",
       "2                                            23.3                       0.672   \n",
       "3                                            28.1                       0.167   \n",
       "4                                            43.1                       2.288   \n",
       "\n",
       "   Age (years)  Class variable (0 or 1)  \n",
       "0           50                        1  \n",
       "1           31                        0  \n",
       "2           32                        1  \n",
       "3           21                        0  \n",
       "4           33                        1  "
      ]
     },
     "execution_count": 57,
     "metadata": {},
     "output_type": "execute_result"
    }
   ],
   "source": [
    "Df=pd.read_csv(\"prima india.csv\")\n",
    "Df.head()"
   ]
  },
  {
   "cell_type": "code",
   "execution_count": 58,
   "metadata": {},
   "outputs": [
    {
     "name": "stdout",
     "output_type": "stream",
     "text": [
      "<class 'pandas.core.frame.DataFrame'>\n",
      "RangeIndex: 768 entries, 0 to 767\n",
      "Data columns (total 9 columns):\n",
      " #   Column                                                                    Non-Null Count  Dtype  \n",
      "---  ------                                                                    --------------  -----  \n",
      " 0   Number of times pregnant                                                  768 non-null    int64  \n",
      " 1   Plasma glucose concentration a 2 hours in an oral glucose tolerance test  768 non-null    int64  \n",
      " 2   Diastolic blood pressure (mm Hg)                                          768 non-null    int64  \n",
      " 3   Triceps skin fold thickness (mm)                                          768 non-null    int64  \n",
      " 4   2-Hour serum insulin (mu U/ml)                                            768 non-null    int64  \n",
      " 5   Body mass index (weight in kg/(height in m)^2)                            768 non-null    float64\n",
      " 6   Diabetes pedigree function                                                768 non-null    float64\n",
      " 7   Age (years)                                                               768 non-null    int64  \n",
      " 8   Class variable (0 or 1)                                                   768 non-null    int64  \n",
      "dtypes: float64(2), int64(7)\n",
      "memory usage: 54.1 KB\n"
     ]
    }
   ],
   "source": [
    "Df.info()"
   ]
  },
  {
   "cell_type": "code",
   "execution_count": 59,
   "metadata": {},
   "outputs": [
    {
     "name": "stderr",
     "output_type": "stream",
     "text": [
      "C:\\Users\\rinku\\anaconda3\\lib\\site-packages\\sklearn\\linear_model\\_logistic.py:762: ConvergenceWarning: lbfgs failed to converge (status=1):\n",
      "STOP: TOTAL NO. of ITERATIONS REACHED LIMIT.\n",
      "\n",
      "Increase the number of iterations (max_iter) or scale the data as shown in:\n",
      "    https://scikit-learn.org/stable/modules/preprocessing.html\n",
      "Please also refer to the documentation for alternative solver options:\n",
      "    https://scikit-learn.org/stable/modules/linear_model.html#logistic-regression\n",
      "  n_iter_i = _check_optimize_result(\n"
     ]
    },
    {
     "data": {
      "text/plain": [
       "LogisticRegression()"
      ]
     },
     "execution_count": 59,
     "metadata": {},
     "output_type": "execute_result"
    }
   ],
   "source": [
    "y=Df['Class variable (0 or 1)']\n",
    "Df.drop('Class variable (0 or 1)',axis=1,inplace=True)\n",
    "X=Df\n",
    "X_train, X_test, y_train, y_test = train_test_split(X, y, test_size=0.2, random_state=42)\n",
    "Classifier=LogisticRegression()\n",
    "Classifier.fit(X_train,y_train)"
   ]
  },
  {
   "cell_type": "code",
   "execution_count": 60,
   "metadata": {},
   "outputs": [
    {
     "data": {
      "text/plain": [
       "0.7467532467532467"
      ]
     },
     "execution_count": 60,
     "metadata": {},
     "output_type": "execute_result"
    }
   ],
   "source": [
    "Classifier.score(X_test, y_test)"
   ]
  },
  {
   "cell_type": "markdown",
   "metadata": {},
   "source": [
    "### 14.Use hotel.csv file and Show how to cluster hotel location data with K-means Clustering. That is performK-means clustering on hotel location data to identify whether the hotels are located in the same district. "
   ]
  },
  {
   "cell_type": "code",
   "execution_count": 61,
   "metadata": {},
   "outputs": [
    {
     "data": {
      "text/html": [
       "<div>\n",
       "<style scoped>\n",
       "    .dataframe tbody tr th:only-of-type {\n",
       "        vertical-align: middle;\n",
       "    }\n",
       "\n",
       "    .dataframe tbody tr th {\n",
       "        vertical-align: top;\n",
       "    }\n",
       "\n",
       "    .dataframe thead th {\n",
       "        text-align: right;\n",
       "    }\n",
       "</style>\n",
       "<table border=\"1\" class=\"dataframe\">\n",
       "  <thead>\n",
       "    <tr style=\"text-align: right;\">\n",
       "      <th></th>\n",
       "      <th>address</th>\n",
       "      <th>lat</th>\n",
       "      <th>lon</th>\n",
       "      <th>title</th>\n",
       "      <th>district</th>\n",
       "    </tr>\n",
       "  </thead>\n",
       "  <tbody>\n",
       "    <tr>\n",
       "      <th>0</th>\n",
       "      <td>No.30 Youya Road, Beitou District, Taipei 1124...</td>\n",
       "      <td>25.137793</td>\n",
       "      <td>121.51495</td>\n",
       "      <td>Grand View Resort Beitou</td>\n",
       "      <td>Beitou</td>\n",
       "    </tr>\n",
       "    <tr>\n",
       "      <th>1</th>\n",
       "      <td>No.28 Section 1, Minsheng East Road, Zhongshan...</td>\n",
       "      <td>25.057854</td>\n",
       "      <td>121.52409</td>\n",
       "      <td>YoMi Hotel</td>\n",
       "      <td>Zhongshan</td>\n",
       "    </tr>\n",
       "    <tr>\n",
       "      <th>2</th>\n",
       "      <td>No.3 Zhongshan Road, Beitou District, Taipei 1...</td>\n",
       "      <td>25.137163</td>\n",
       "      <td>121.50544</td>\n",
       "      <td>Beitou Hot Spring Resort (Tian Yue Quan)</td>\n",
       "      <td>Beitou</td>\n",
       "    </tr>\n",
       "    <tr>\n",
       "      <th>3</th>\n",
       "      <td>No.18 Songgao Road, Xinyi District, Taipei 110...</td>\n",
       "      <td>25.039248</td>\n",
       "      <td>121.56741</td>\n",
       "      <td>Humble House Taipei</td>\n",
       "      <td>Xinyi</td>\n",
       "    </tr>\n",
       "    <tr>\n",
       "      <th>4</th>\n",
       "      <td>4F., No.11, Sec. 2, Nanjing E. Road, Taipei 10...</td>\n",
       "      <td>25.052057</td>\n",
       "      <td>121.52831</td>\n",
       "      <td>Taipei Morning Hotel</td>\n",
       "      <td>Zhongshan</td>\n",
       "    </tr>\n",
       "  </tbody>\n",
       "</table>\n",
       "</div>"
      ],
      "text/plain": [
       "                                             address        lat        lon  \\\n",
       "0  No.30 Youya Road, Beitou District, Taipei 1124...  25.137793  121.51495   \n",
       "1  No.28 Section 1, Minsheng East Road, Zhongshan...  25.057854  121.52409   \n",
       "2  No.3 Zhongshan Road, Beitou District, Taipei 1...  25.137163  121.50544   \n",
       "3  No.18 Songgao Road, Xinyi District, Taipei 110...  25.039248  121.56741   \n",
       "4  4F., No.11, Sec. 2, Nanjing E. Road, Taipei 10...  25.052057  121.52831   \n",
       "\n",
       "                                      title   district  \n",
       "0                  Grand View Resort Beitou     Beitou  \n",
       "1                                YoMi Hotel  Zhongshan  \n",
       "2  Beitou Hot Spring Resort (Tian Yue Quan)     Beitou  \n",
       "3                       Humble House Taipei      Xinyi  \n",
       "4                      Taipei Morning Hotel  Zhongshan  "
      ]
     },
     "execution_count": 61,
     "metadata": {},
     "output_type": "execute_result"
    }
   ],
   "source": [
    "hotel_df=pd.read_csv(\"hotel.csv\")\n",
    "hotel_df.head()"
   ]
  },
  {
   "cell_type": "code",
   "execution_count": 62,
   "metadata": {},
   "outputs": [
    {
     "name": "stdout",
     "output_type": "stream",
     "text": [
      "<class 'pandas.core.frame.DataFrame'>\n",
      "RangeIndex: 102 entries, 0 to 101\n",
      "Data columns (total 5 columns):\n",
      " #   Column    Non-Null Count  Dtype  \n",
      "---  ------    --------------  -----  \n",
      " 0   address   102 non-null    object \n",
      " 1   lat       102 non-null    float64\n",
      " 2   lon       102 non-null    float64\n",
      " 3   title     102 non-null    object \n",
      " 4   district  102 non-null    object \n",
      "dtypes: float64(2), object(3)\n",
      "memory usage: 4.1+ KB\n"
     ]
    }
   ],
   "source": [
    "hotel_df.info()"
   ]
  },
  {
   "cell_type": "code",
   "execution_count": 63,
   "metadata": {},
   "outputs": [
    {
     "data": {
      "text/html": [
       "<div>\n",
       "<style scoped>\n",
       "    .dataframe tbody tr th:only-of-type {\n",
       "        vertical-align: middle;\n",
       "    }\n",
       "\n",
       "    .dataframe tbody tr th {\n",
       "        vertical-align: top;\n",
       "    }\n",
       "\n",
       "    .dataframe thead th {\n",
       "        text-align: right;\n",
       "    }\n",
       "</style>\n",
       "<table border=\"1\" class=\"dataframe\">\n",
       "  <thead>\n",
       "    <tr style=\"text-align: right;\">\n",
       "      <th></th>\n",
       "      <th>text</th>\n",
       "    </tr>\n",
       "  </thead>\n",
       "  <tbody>\n",
       "    <tr>\n",
       "      <th>0</th>\n",
       "      <td>Grand View Resort Beitou Beitou</td>\n",
       "    </tr>\n",
       "    <tr>\n",
       "      <th>1</th>\n",
       "      <td>YoMi Hotel Zhongshan</td>\n",
       "    </tr>\n",
       "    <tr>\n",
       "      <th>2</th>\n",
       "      <td>Beitou Hot Spring Resort (Tian Yue Quan) Beitou</td>\n",
       "    </tr>\n",
       "    <tr>\n",
       "      <th>3</th>\n",
       "      <td>Humble House Taipei Xinyi</td>\n",
       "    </tr>\n",
       "    <tr>\n",
       "      <th>4</th>\n",
       "      <td>Taipei Morning Hotel Zhongshan</td>\n",
       "    </tr>\n",
       "  </tbody>\n",
       "</table>\n",
       "</div>"
      ],
      "text/plain": [
       "                                              text\n",
       "0                  Grand View Resort Beitou Beitou\n",
       "1                             YoMi Hotel Zhongshan\n",
       "2  Beitou Hot Spring Resort (Tian Yue Quan) Beitou\n",
       "3                        Humble House Taipei Xinyi\n",
       "4                   Taipei Morning Hotel Zhongshan"
      ]
     },
     "execution_count": 63,
     "metadata": {},
     "output_type": "execute_result"
    }
   ],
   "source": [
    "hotel_df.drop(['address','lat','lon'],axis=1,inplace=True)\n",
    "hotel_df['text']=hotel_df['title']+\" \"+hotel_df['district']\n",
    "hotel_df.drop(['title','district'],axis=1,inplace=True)\n",
    "hotel_df.head()"
   ]
  },
  {
   "cell_type": "code",
   "execution_count": 64,
   "metadata": {},
   "outputs": [
    {
     "data": {
      "text/plain": [
       "KMeans(n_clusters=3)"
      ]
     },
     "execution_count": 64,
     "metadata": {},
     "output_type": "execute_result"
    }
   ],
   "source": [
    "from sklearn.feature_extraction.text import TfidfVectorizer\n",
    "tfidf_vectorizer = TfidfVectorizer()\n",
    "tfidf = tfidf_vectorizer.fit_transform(hotel_df['text'])\n",
    "kmeans = KMeans(n_clusters=3)\n",
    "kmeans.fit(tfidf)"
   ]
  },
  {
   "cell_type": "code",
   "execution_count": 65,
   "metadata": {},
   "outputs": [
    {
     "data": {
      "text/plain": [
       "array([1])"
      ]
     },
     "execution_count": 65,
     "metadata": {},
     "output_type": "execute_result"
    }
   ],
   "source": [
    "lines_for_predicting = [\"Taipei Morning Hotel Zhongshan\"]\n",
    "lines_tfidf=tfidf_vectorizer.transform(lines_for_predicting)\n",
    "result=kmeans.predict(lines_tfidf)\n",
    "result"
   ]
  }
 ],
 "metadata": {
  "kernelspec": {
   "display_name": "Python 3",
   "language": "python",
   "name": "python3"
  },
  "language_info": {
   "codemirror_mode": {
    "name": "ipython",
    "version": 3
   },
   "file_extension": ".py",
   "mimetype": "text/x-python",
   "name": "python",
   "nbconvert_exporter": "python",
   "pygments_lexer": "ipython3",
   "version": "3.8.3"
  }
 },
 "nbformat": 4,
 "nbformat_minor": 4
}
